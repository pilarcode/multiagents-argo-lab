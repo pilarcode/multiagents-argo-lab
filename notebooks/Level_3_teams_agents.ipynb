{
 "cells": [
  {
   "cell_type": "code",
   "execution_count": 1,
   "metadata": {},
   "outputs": [],
   "source": [
    "import getpass\n",
    "import os\n",
    "\n",
    "from dotenv import load_dotenv\n",
    "\n",
    "# Load the .env file\n",
    "_ = load_dotenv()"
   ]
  },
  {
   "cell_type": "code",
   "execution_count": 3,
   "metadata": {},
   "outputs": [],
   "source": [
    "from agno.models.huggingface import HuggingFace\n",
    "from agno.agent import Agent\n",
    "from agno.tools.duckduckgo import DuckDuckGoTools\n",
    "\n"
   ]
  },
  {
   "cell_type": "markdown",
   "metadata": {},
   "source": [
    "* LLM"
   ]
  },
  {
   "cell_type": "code",
   "execution_count": 7,
   "metadata": {},
   "outputs": [],
   "source": [
    "model=HuggingFace(\n",
    "        id=\"meta-llama/Meta-Llama-3-8B-Instruct\",\n",
    "        api_key=os.getenv(\"HUGGINGFACE_API_TOKEN\"),\n",
    ")"
   ]
  },
  {
   "cell_type": "markdown",
   "metadata": {},
   "source": [
    "* Web Searcher Agent"
   ]
  },
  {
   "cell_type": "code",
   "execution_count": 8,
   "metadata": {},
   "outputs": [
    {
     "name": "stdout",
     "output_type": "stream",
     "text": [
      "Thomas Edison was an American inventor and businessman who developed many important technologies. He is best known for his development of the first practical incandescent light bulb, as well as the phonograph, the motion picture camera, and the alkaline battery. Edison held a record 1,093 patents in his name.\n"
     ]
    }
   ],
   "source": [
    "web_searcher = Agent(model=model, tools=[DuckDuckGoTools()], name=\"Web Searcher\",  role=\"Searches the web for information on a topic\", show_tool_calls=True)\n",
    "response = web_searcher.run(\"Who is Thomas Edison?\", markdown=False)\n",
    "print(response.content)"
   ]
  },
  {
   "cell_type": "markdown",
   "metadata": {},
   "source": [
    "* RAG Agent"
   ]
  },
  {
   "cell_type": "code",
   "execution_count": null,
   "metadata": {},
   "outputs": [],
   "source": [
    "from agno.models.ollama import Ollama\n",
    "\n",
    "ollama_model=Ollama(id=\"llama3.2:3b\")"
   ]
  },
  {
   "cell_type": "code",
   "execution_count": null,
   "metadata": {},
   "outputs": [],
   "source": [
    "from agno.embedder.ollama import OllamaEmbedder\n",
    "\n",
    "ollama_embedder = OllamaEmbedder(id=\"nomic-embed-text:latest\",dimensions=768)"
   ]
  },
  {
   "cell_type": "code",
   "execution_count": null,
   "metadata": {},
   "outputs": [],
   "source": [
    "from agno.vectordb.lancedb import LanceDb, SearchType\n",
    "\n",
    "# Define the database URL where the vector database will be stored\n",
    "db_url = \"./tmp/lancedb\"\n",
    "vector_db = LanceDb(\n",
    "    table_name=\"recipes\",  # Table name in the vector database\n",
    "    uri=db_url,  # Location to initiate/create the vector database\n",
    "    embedder=ollama_embedder,  # Without using this, it will use OpenAIChat embeddings by default\n",
    "    search_type=SearchType.vector,\n",
    ")"
   ]
  },
  {
   "cell_type": "code",
   "execution_count": null,
   "metadata": {},
   "outputs": [],
   "source": [
    "from agno.knowledge.pdf_url import PDFUrlKnowledgeBase\n",
    "# Create a knowledge base of PDFs from URLs\n",
    "knowledge_base = PDFUrlKnowledgeBase(\n",
    "    urls=[\"https://agno-public.s3.amazonaws.com/recipes/ThaiRecipes.pdf\"],\n",
    "    vector_db=vector_db\n",
    ")\n",
    "# Load the knowledge base\n",
    "knowledge_base.load()"
   ]
  },
  {
   "cell_type": "code",
   "execution_count": null,
   "metadata": {},
   "outputs": [],
   "source": [
    "# Create and use the agent\n",
    "agent = Agent(model=ollama_model,\n",
    "            knowledge=knowledge_base,  \n",
    "              # Add a tool to search the knowledge base which enables agentic RAG.\n",
    "               # This is enabled by default when `knowledge` is provided to the Agent.\n",
    "            search_knowledge=True,\n",
    "            show_tool_calls=True,\n",
    "            debug_mode=False,\n",
    "            markdown=False)"
   ]
  }
 ],
 "metadata": {
  "kernelspec": {
   "display_name": ".venv",
   "language": "python",
   "name": "python3"
  },
  "language_info": {
   "codemirror_mode": {
    "name": "ipython",
    "version": 3
   },
   "file_extension": ".py",
   "mimetype": "text/x-python",
   "name": "python",
   "nbconvert_exporter": "python",
   "pygments_lexer": "ipython3",
   "version": "3.13.1"
  }
 },
 "nbformat": 4,
 "nbformat_minor": 2
}
