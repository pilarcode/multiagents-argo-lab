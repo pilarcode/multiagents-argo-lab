{
 "cells": [
  {
   "cell_type": "code",
   "execution_count": 27,
   "metadata": {},
   "outputs": [],
   "source": [
    "import getpass\n",
    "import os\n",
    "from pathlib import Path\n",
    "from dotenv import load_dotenv\n",
    "\n",
    "# Load the .env file\n",
    "_ = load_dotenv()"
   ]
  },
  {
   "cell_type": "code",
   "execution_count": 28,
   "metadata": {},
   "outputs": [],
   "source": [
    "from agno.models.huggingface import HuggingFace\n",
    "from agno.models.groq import Groq\n",
    "\n",
    "model=HuggingFace(\n",
    "        id=\"meta-llama/Meta-Llama-3-8B-Instruct\",\n",
    "        api_key=os.getenv(\"HUGGINGFACE_API_TOKEN\"),\n",
    "    )\n",
    "\n",
    "\n",
    "groq_model=Groq(id=\"llama-3.1-8b-instant\",api_key=os.getenv(\"GROQ_API_KEY\"))"
   ]
  },
  {
   "cell_type": "code",
   "execution_count": 34,
   "metadata": {},
   "outputs": [],
   "source": [
    "from agno.agent import Agent\n",
    "from agno.tools.csv_toolkit import CsvTools\n",
    "\n",
    "\n",
    "csv_agent = Agent(\n",
    "    model=groq_model,\n",
    "    tools=[CsvTools(csvs=[\"../data/employees.csv\"])],\n",
    "    markdown=False,\n",
    "    show_tool_calls=True,\n",
    "    instructions=[\n",
    "        \"First always get the list of files\",\n",
    "        \"Then check the columns in the file\",\n",
    "        \"Then run the query to answer the question\",\n",
    "        #\"Always wrap column names with double quotes if they contain spaces or special characters\",\n",
    "        #\"Remember to escape the quotes in the JSON string (use \\\")\",\n",
    "        #\"Use single quotes for string values\"\n",
    "    ],\n",
    ")\n"
   ]
  },
  {
   "cell_type": "code",
   "execution_count": 35,
   "metadata": {},
   "outputs": [
    {
     "data": {
      "text/html": [
       "<pre style=\"white-space:pre;overflow-x:auto;line-height:normal;font-family:Menlo,'DejaVu Sans Mono',consolas,'Courier New',monospace\"><span style=\"color: #000080; text-decoration-color: #000080\">INFO    </span> Reading columns from file: employees                                                                      \n",
       "</pre>\n"
      ],
      "text/plain": [
       "\u001b[34mINFO    \u001b[0m Reading columns from file: employees                                                                      \n"
      ]
     },
     "metadata": {},
     "output_type": "display_data"
    },
    {
     "data": {
      "text/html": [
       "<pre style=\"white-space:pre;overflow-x:auto;line-height:normal;font-family:Menlo,'DejaVu Sans Mono',consolas,'Courier New',monospace\"><span style=\"color: #000080; text-decoration-color: #000080\">INFO    </span> Reading file: employees                                                                                   \n",
       "</pre>\n"
      ],
      "text/plain": [
       "\u001b[34mINFO    \u001b[0m Reading file: employees                                                                                   \n"
      ]
     },
     "metadata": {},
     "output_type": "display_data"
    },
    {
     "data": {
      "text/html": [
       "<pre style=\"white-space:pre;overflow-x:auto;line-height:normal;font-family:Menlo,'DejaVu Sans Mono',consolas,'Courier New',monospace\"><span style=\"color: #000080; text-decoration-color: #000080\">INFO    </span> Loading csv file: employees                                                                               \n",
       "</pre>\n"
      ],
      "text/plain": [
       "\u001b[34mINFO    \u001b[0m Loading csv file: employees                                                                               \n"
      ]
     },
     "metadata": {},
     "output_type": "display_data"
    },
    {
     "data": {
      "text/html": [
       "<pre style=\"white-space:pre;overflow-x:auto;line-height:normal;font-family:Menlo,'DejaVu Sans Mono',consolas,'Courier New',monospace\"><span style=\"color: #000080; text-decoration-color: #000080\">INFO    </span> Running query: SELECT Age FROM employees WHERE FirstName = <span style=\"color: #008000; text-decoration-color: #008000\">'John'</span> AND LastName = <span style=\"color: #008000; text-decoration-color: #008000\">'Doe'</span>                    \n",
       "</pre>\n"
      ],
      "text/plain": [
       "\u001b[34mINFO    \u001b[0m Running query: SELECT Age FROM employees WHERE FirstName = \u001b[32m'John'\u001b[0m AND LastName = \u001b[32m'Doe'\u001b[0m                    \n"
      ]
     },
     "metadata": {},
     "output_type": "display_data"
    },
    {
     "name": "stdout",
     "output_type": "stream",
     "text": [
      "Execution time: 2.350345599988941 seconds\n",
      " - Running: query_csv_file(csv_name=employees, sql_query=SELECT Age FROM employees WHERE FirstName = 'John' AND LastName = 'Doe')\n",
      "\n",
      "John Doe is 28 years old.\n"
     ]
    }
   ],
   "source": [
    "import time\n",
    "\n",
    "start_time = time.perf_counter()\n",
    "response = csv_agent.run(\"How old is John Doe?\", markdown=False)\n",
    "\n",
    "end_time = time.perf_counter()\n",
    "print(f\"Execution time: {end_time - start_time} seconds\")\n",
    "print(response.content)"
   ]
  }
 ],
 "metadata": {
  "kernelspec": {
   "display_name": ".venv",
   "language": "python",
   "name": "python3"
  },
  "language_info": {
   "codemirror_mode": {
    "name": "ipython",
    "version": 3
   },
   "file_extension": ".py",
   "mimetype": "text/x-python",
   "name": "python",
   "nbconvert_exporter": "python",
   "pygments_lexer": "ipython3",
   "version": "3.13.1"
  }
 },
 "nbformat": 4,
 "nbformat_minor": 2
}
