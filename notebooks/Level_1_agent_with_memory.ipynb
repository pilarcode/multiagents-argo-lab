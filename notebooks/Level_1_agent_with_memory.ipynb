{
 "cells": [
  {
   "cell_type": "code",
   "execution_count": 1,
   "metadata": {},
   "outputs": [],
   "source": [
    "import os\n",
    "from agno.agent import Agent\n",
    "from agno.storage.agent.sqlite import SqliteAgentStorage\n",
    "from agno.models.ollama import Ollama\n",
    "\n",
    "from dotenv import load_dotenv\n",
    "\n",
    "# Load the .env file\n",
    "_ = load_dotenv()\n"
   ]
  },
  {
   "cell_type": "markdown",
   "metadata": {},
   "source": [
    "* Models"
   ]
  },
  {
   "cell_type": "code",
   "execution_count": 2,
   "metadata": {},
   "outputs": [],
   "source": [
    "ollama_model=Ollama(id=\"llama3.2:3b\")\n"
   ]
  },
  {
   "cell_type": "markdown",
   "metadata": {},
   "source": [
    "* Agent with Memory"
   ]
  },
  {
   "cell_type": "code",
   "execution_count": 8,
   "metadata": {},
   "outputs": [],
   "source": [
    "agent = Agent(\n",
    "    model=ollama_model,\n",
    "    # Store agent sessions in a database\n",
    "    storage=SqliteAgentStorage(table_name=\"agent_sessions\", db_file=\"tmp/agent_storage.db\"),\n",
    "    # Set add_history_to_messages=true to add the previous chat history to the messages sent to the Model.\n",
    "    add_history_to_messages=True,\n",
    "    # Number of historical responses to add to the messages.\n",
    "    num_history_responses=3,\n",
    "    # The session_id is used to identify the session in the database\n",
    "    # You can resume any session by providing a session_id\n",
    "    # session_id=\"xxxx-xxxx-xxxx-xxxx\",\n",
    "    # Description creates a system prompt for the agent\n",
    "    description=\"You are a helpful assistant that always responds in a polite, upbeat and positive manner.\",\n",
    ")"
   ]
  },
  {
   "cell_type": "code",
   "execution_count": 9,
   "metadata": {},
   "outputs": [
    {
     "data": {
      "text/plain": [
       "RunResponse(content=\"It's lovely to meet you, John Billings! I'm so glad you're here, and I'm excited to help you with anything you need or chat with you about your interests. Please feel free to share a bit about yourself, what brings you here today, or simply start a conversation - I'm all ears and ready to assist you in any way I can!\", content_type='str', event='RunResponse', messages=[Message(role='system', content='You are a helpful assistant that always responds in a polite, upbeat and positive manner.', name=None, tool_call_id=None, tool_calls=None, audio=None, images=None, videos=None, audio_output=None, reasoning_content=None, tool_name=None, tool_args=None, tool_call_error=None, stop_after_tool_call=False, add_to_agent_memory=True, from_history=False, metrics=MessageMetrics(input_tokens=0, output_tokens=0, total_tokens=0, prompt_tokens=0, completion_tokens=0, prompt_tokens_details=None, completion_tokens_details=None, additional_metrics=None, time=None, time_to_first_token=None, timer=None), references=None, created_at=1739729963), Message(role='user', content='My name is john billings', name=None, tool_call_id=None, tool_calls=None, audio=None, images=None, videos=None, audio_output=None, reasoning_content=None, tool_name=None, tool_args=None, tool_call_error=None, stop_after_tool_call=False, add_to_agent_memory=True, from_history=False, metrics=MessageMetrics(input_tokens=0, output_tokens=0, total_tokens=0, prompt_tokens=0, completion_tokens=0, prompt_tokens_details=None, completion_tokens_details=None, additional_metrics=None, time=None, time_to_first_token=None, timer=None), references=None, created_at=1739729963), Message(role='assistant', content=\"It's lovely to meet you, John Billings! I'm so glad you're here, and I'm excited to help you with anything you need or chat with you about your interests. Please feel free to share a bit about yourself, what brings you here today, or simply start a conversation - I'm all ears and ready to assist you in any way I can!\", name=None, tool_call_id=None, tool_calls=None, audio=None, images=None, videos=None, audio_output=None, reasoning_content=None, tool_name=None, tool_args=None, tool_call_error=None, stop_after_tool_call=False, add_to_agent_memory=True, from_history=False, metrics=MessageMetrics(input_tokens=48, output_tokens=76, total_tokens=124, prompt_tokens=0, completion_tokens=0, prompt_tokens_details=None, completion_tokens_details=None, additional_metrics={'total_duration': 15846692900, 'load_duration': 26063700, 'prompt_eval_duration': 2305000000, 'eval_duration': 13514000000}, time=16.304878900002223, time_to_first_token=None, timer=<agno.utils.timer.Timer object at 0x000001AAD724F8C0>), references=None, created_at=1739729963)], metrics={'input_tokens': [48], 'output_tokens': [76], 'total_tokens': [124], 'prompt_tokens': [0], 'completion_tokens': [0], 'additional_metrics': [{'total_duration': 15846692900, 'load_duration': 26063700, 'prompt_eval_duration': 2305000000, 'eval_duration': 13514000000}], 'time': [16.304878900002223]}, model='llama3.2:3b', run_id='04cb156a-7656-4113-954d-282e8ef92355', agent_id='938a6605-1136-43f6-a623-50ef50af716b', session_id='fead9b48-be07-4beb-8f1d-e651d76a3396', workflow_id=None, tools=[], images=None, videos=None, audio=None, response_audio=None, extra_data=None, created_at=1739729961)"
      ]
     },
     "execution_count": 9,
     "metadata": {},
     "output_type": "execute_result"
    }
   ],
   "source": [
    "agent.run(\"My name is john billings\")"
   ]
  },
  {
   "cell_type": "code",
   "execution_count": 10,
   "metadata": {},
   "outputs": [
    {
     "data": {
      "text/plain": [
       "RunResponse(content=\"Who doesn't love chocolate, John Billings? It's one of the greatest pleasures in life, isn't it? From rich, decadent truffles to creamy, velvety cakes, there's just something about chocolate that can brighten up anyone's day.\\n\\nWhat's your favorite type of chocolate - milk chocolate, dark chocolate, white chocolate, or perhaps a specific brand or flavor? Do you have a sweet tooth for desserts like brownies or cakes, or do you prefer enjoying chocolate on its own as a treat?\", content_type='str', event='RunResponse', messages=[Message(role='system', content='You are a helpful assistant that always responds in a polite, upbeat and positive manner.', name=None, tool_call_id=None, tool_calls=None, audio=None, images=None, videos=None, audio_output=None, reasoning_content=None, tool_name=None, tool_args=None, tool_call_error=None, stop_after_tool_call=False, add_to_agent_memory=True, from_history=False, metrics=MessageMetrics(input_tokens=0, output_tokens=0, total_tokens=0, prompt_tokens=0, completion_tokens=0, prompt_tokens_details=None, completion_tokens_details=None, additional_metrics=None, time=None, time_to_first_token=None, timer=None), references=None, created_at=1739729980), Message(role='user', content='My name is john billings', name=None, tool_call_id=None, tool_calls=None, audio=None, images=None, videos=None, audio_output=None, reasoning_content=None, tool_name=None, tool_args=None, tool_call_error=None, stop_after_tool_call=False, add_to_agent_memory=True, from_history=True, metrics=MessageMetrics(input_tokens=0, output_tokens=0, total_tokens=0, prompt_tokens=0, completion_tokens=0, prompt_tokens_details=None, completion_tokens_details=None, additional_metrics=None, time=None, time_to_first_token=None, timer=None), references=None, created_at=1739729963), Message(role='assistant', content=\"It's lovely to meet you, John Billings! I'm so glad you're here, and I'm excited to help you with anything you need or chat with you about your interests. Please feel free to share a bit about yourself, what brings you here today, or simply start a conversation - I'm all ears and ready to assist you in any way I can!\", name=None, tool_call_id=None, tool_calls=None, audio=None, images=None, videos=None, audio_output=None, reasoning_content=None, tool_name=None, tool_args=None, tool_call_error=None, stop_after_tool_call=False, add_to_agent_memory=True, from_history=True, metrics=MessageMetrics(input_tokens=48, output_tokens=76, total_tokens=124, prompt_tokens=0, completion_tokens=0, prompt_tokens_details=None, completion_tokens_details=None, additional_metrics={'total_duration': 15846692900, 'load_duration': 26063700, 'prompt_eval_duration': 2305000000, 'eval_duration': 13514000000}, time=16.304878900002223, time_to_first_token=None, timer=None), references=None, created_at=1739729963), Message(role='user', content='I like chocolate', name=None, tool_call_id=None, tool_calls=None, audio=None, images=None, videos=None, audio_output=None, reasoning_content=None, tool_name=None, tool_args=None, tool_call_error=None, stop_after_tool_call=False, add_to_agent_memory=True, from_history=False, metrics=MessageMetrics(input_tokens=0, output_tokens=0, total_tokens=0, prompt_tokens=0, completion_tokens=0, prompt_tokens_details=None, completion_tokens_details=None, additional_metrics=None, time=None, time_to_first_token=None, timer=None), references=None, created_at=1739729980), Message(role='assistant', content=\"Who doesn't love chocolate, John Billings? It's one of the greatest pleasures in life, isn't it? From rich, decadent truffles to creamy, velvety cakes, there's just something about chocolate that can brighten up anyone's day.\\n\\nWhat's your favorite type of chocolate - milk chocolate, dark chocolate, white chocolate, or perhaps a specific brand or flavor? Do you have a sweet tooth for desserts like brownies or cakes, or do you prefer enjoying chocolate on its own as a treat?\", name=None, tool_call_id=None, tool_calls=None, audio=None, images=None, videos=None, audio_output=None, reasoning_content=None, tool_name=None, tool_args=None, tool_call_error=None, stop_after_tool_call=False, add_to_agent_memory=True, from_history=False, metrics=MessageMetrics(input_tokens=136, output_tokens=107, total_tokens=243, prompt_tokens=0, completion_tokens=0, prompt_tokens_details=None, completion_tokens_details=None, additional_metrics={'total_duration': 22062491500, 'load_duration': 37850000, 'prompt_eval_duration': 1786000000, 'eval_duration': 20234000000}, time=22.06348739998066, time_to_first_token=None, timer=<agno.utils.timer.Timer object at 0x000001AAD72AE0F0>), references=None, created_at=1739729980)], metrics={'input_tokens': [48, 136], 'output_tokens': [76, 107], 'total_tokens': [124, 243], 'prompt_tokens': [0, 0], 'completion_tokens': [0, 0], 'additional_metrics': [{'total_duration': 15846692900, 'load_duration': 26063700, 'prompt_eval_duration': 2305000000, 'eval_duration': 13514000000}, {'total_duration': 22062491500, 'load_duration': 37850000, 'prompt_eval_duration': 1786000000, 'eval_duration': 20234000000}], 'time': [16.304878900002223, 22.06348739998066]}, model='llama3.2:3b', run_id='da82d0e2-ba57-4d38-9d59-cc8bfbbaaed0', agent_id='938a6605-1136-43f6-a623-50ef50af716b', session_id='fead9b48-be07-4beb-8f1d-e651d76a3396', workflow_id=None, tools=[], images=None, videos=None, audio=None, response_audio=None, extra_data=RunResponseExtraData(references=None, add_messages=None, history=[Message(role='user', content='My name is john billings', name=None, tool_call_id=None, tool_calls=None, audio=None, images=None, videos=None, audio_output=None, reasoning_content=None, tool_name=None, tool_args=None, tool_call_error=None, stop_after_tool_call=False, add_to_agent_memory=True, from_history=True, metrics=MessageMetrics(input_tokens=0, output_tokens=0, total_tokens=0, prompt_tokens=0, completion_tokens=0, prompt_tokens_details=None, completion_tokens_details=None, additional_metrics=None, time=None, time_to_first_token=None, timer=None), references=None, created_at=1739729963), Message(role='assistant', content=\"It's lovely to meet you, John Billings! I'm so glad you're here, and I'm excited to help you with anything you need or chat with you about your interests. Please feel free to share a bit about yourself, what brings you here today, or simply start a conversation - I'm all ears and ready to assist you in any way I can!\", name=None, tool_call_id=None, tool_calls=None, audio=None, images=None, videos=None, audio_output=None, reasoning_content=None, tool_name=None, tool_args=None, tool_call_error=None, stop_after_tool_call=False, add_to_agent_memory=True, from_history=True, metrics=MessageMetrics(input_tokens=48, output_tokens=76, total_tokens=124, prompt_tokens=0, completion_tokens=0, prompt_tokens_details=None, completion_tokens_details=None, additional_metrics={'total_duration': 15846692900, 'load_duration': 26063700, 'prompt_eval_duration': 2305000000, 'eval_duration': 13514000000}, time=16.304878900002223, time_to_first_token=None, timer=None), references=None, created_at=1739729963)], reasoning_steps=None, reasoning_messages=None), created_at=1739729961)"
      ]
     },
     "execution_count": 10,
     "metadata": {},
     "output_type": "execute_result"
    }
   ],
   "source": [
    "agent.run(\"I like chocolate\")"
   ]
  },
  {
   "cell_type": "code",
   "execution_count": 11,
   "metadata": {},
   "outputs": [
    {
     "data": {
      "text/plain": [
       "RunResponse(content=\"Your name is John Billings! I remember, we met just a little while ago, and we were chatting about your love of chocolate. How's that for a great conversation starter? Is there anything else you'd like to talk about or ask about? I'm all ears, John Billings!\", content_type='str', event='RunResponse', messages=[Message(role='system', content='You are a helpful assistant that always responds in a polite, upbeat and positive manner.', name=None, tool_call_id=None, tool_calls=None, audio=None, images=None, videos=None, audio_output=None, reasoning_content=None, tool_name=None, tool_args=None, tool_call_error=None, stop_after_tool_call=False, add_to_agent_memory=True, from_history=False, metrics=MessageMetrics(input_tokens=0, output_tokens=0, total_tokens=0, prompt_tokens=0, completion_tokens=0, prompt_tokens_details=None, completion_tokens_details=None, additional_metrics=None, time=None, time_to_first_token=None, timer=None), references=None, created_at=1739730007), Message(role='user', content='My name is john billings', name=None, tool_call_id=None, tool_calls=None, audio=None, images=None, videos=None, audio_output=None, reasoning_content=None, tool_name=None, tool_args=None, tool_call_error=None, stop_after_tool_call=False, add_to_agent_memory=True, from_history=True, metrics=MessageMetrics(input_tokens=0, output_tokens=0, total_tokens=0, prompt_tokens=0, completion_tokens=0, prompt_tokens_details=None, completion_tokens_details=None, additional_metrics=None, time=None, time_to_first_token=None, timer=None), references=None, created_at=1739729963), Message(role='assistant', content=\"It's lovely to meet you, John Billings! I'm so glad you're here, and I'm excited to help you with anything you need or chat with you about your interests. Please feel free to share a bit about yourself, what brings you here today, or simply start a conversation - I'm all ears and ready to assist you in any way I can!\", name=None, tool_call_id=None, tool_calls=None, audio=None, images=None, videos=None, audio_output=None, reasoning_content=None, tool_name=None, tool_args=None, tool_call_error=None, stop_after_tool_call=False, add_to_agent_memory=True, from_history=True, metrics=MessageMetrics(input_tokens=48, output_tokens=76, total_tokens=124, prompt_tokens=0, completion_tokens=0, prompt_tokens_details=None, completion_tokens_details=None, additional_metrics={'total_duration': 15846692900, 'load_duration': 26063700, 'prompt_eval_duration': 2305000000, 'eval_duration': 13514000000}, time=16.304878900002223, time_to_first_token=None, timer=None), references=None, created_at=1739729963), Message(role='user', content='I like chocolate', name=None, tool_call_id=None, tool_calls=None, audio=None, images=None, videos=None, audio_output=None, reasoning_content=None, tool_name=None, tool_args=None, tool_call_error=None, stop_after_tool_call=False, add_to_agent_memory=True, from_history=True, metrics=MessageMetrics(input_tokens=0, output_tokens=0, total_tokens=0, prompt_tokens=0, completion_tokens=0, prompt_tokens_details=None, completion_tokens_details=None, additional_metrics=None, time=None, time_to_first_token=None, timer=None), references=None, created_at=1739729980), Message(role='assistant', content=\"Who doesn't love chocolate, John Billings? It's one of the greatest pleasures in life, isn't it? From rich, decadent truffles to creamy, velvety cakes, there's just something about chocolate that can brighten up anyone's day.\\n\\nWhat's your favorite type of chocolate - milk chocolate, dark chocolate, white chocolate, or perhaps a specific brand or flavor? Do you have a sweet tooth for desserts like brownies or cakes, or do you prefer enjoying chocolate on its own as a treat?\", name=None, tool_call_id=None, tool_calls=None, audio=None, images=None, videos=None, audio_output=None, reasoning_content=None, tool_name=None, tool_args=None, tool_call_error=None, stop_after_tool_call=False, add_to_agent_memory=True, from_history=True, metrics=MessageMetrics(input_tokens=136, output_tokens=107, total_tokens=243, prompt_tokens=0, completion_tokens=0, prompt_tokens_details=None, completion_tokens_details=None, additional_metrics={'total_duration': 22062491500, 'load_duration': 37850000, 'prompt_eval_duration': 1786000000, 'eval_duration': 20234000000}, time=22.06348739998066, time_to_first_token=None, timer=None), references=None, created_at=1739729980), Message(role='user', content='What is my name?', name=None, tool_call_id=None, tool_calls=None, audio=None, images=None, videos=None, audio_output=None, reasoning_content=None, tool_name=None, tool_args=None, tool_call_error=None, stop_after_tool_call=False, add_to_agent_memory=True, from_history=False, metrics=MessageMetrics(input_tokens=0, output_tokens=0, total_tokens=0, prompt_tokens=0, completion_tokens=0, prompt_tokens_details=None, completion_tokens_details=None, additional_metrics=None, time=None, time_to_first_token=None, timer=None), references=None, created_at=1739730007), Message(role='assistant', content=\"Your name is John Billings! I remember, we met just a little while ago, and we were chatting about your love of chocolate. How's that for a great conversation starter? Is there anything else you'd like to talk about or ask about? I'm all ears, John Billings!\", name=None, tool_call_id=None, tool_calls=None, audio=None, images=None, videos=None, audio_output=None, reasoning_content=None, tool_name=None, tool_args=None, tool_call_error=None, stop_after_tool_call=False, add_to_agent_memory=True, from_history=False, metrics=MessageMetrics(input_tokens=257, output_tokens=61, total_tokens=318, prompt_tokens=0, completion_tokens=0, prompt_tokens_details=None, completion_tokens_details=None, additional_metrics={'total_duration': 14420225900, 'load_duration': 35572100, 'prompt_eval_duration': 1935000000, 'eval_duration': 12442000000}, time=14.423720300022978, time_to_first_token=None, timer=<agno.utils.timer.Timer object at 0x000001AAD7271D60>), references=None, created_at=1739730007)], metrics={'input_tokens': [48, 136, 257], 'output_tokens': [76, 107, 61], 'total_tokens': [124, 243, 318], 'prompt_tokens': [0, 0, 0], 'completion_tokens': [0, 0, 0], 'additional_metrics': [{'total_duration': 15846692900, 'load_duration': 26063700, 'prompt_eval_duration': 2305000000, 'eval_duration': 13514000000}, {'total_duration': 22062491500, 'load_duration': 37850000, 'prompt_eval_duration': 1786000000, 'eval_duration': 20234000000}, {'total_duration': 14420225900, 'load_duration': 35572100, 'prompt_eval_duration': 1935000000, 'eval_duration': 12442000000}], 'time': [16.304878900002223, 22.06348739998066, 14.423720300022978]}, model='llama3.2:3b', run_id='ffc103ef-eaed-41f4-8334-8c625ffdda80', agent_id='938a6605-1136-43f6-a623-50ef50af716b', session_id='fead9b48-be07-4beb-8f1d-e651d76a3396', workflow_id=None, tools=[], images=None, videos=None, audio=None, response_audio=None, extra_data=RunResponseExtraData(references=None, add_messages=None, history=[Message(role='user', content='My name is john billings', name=None, tool_call_id=None, tool_calls=None, audio=None, images=None, videos=None, audio_output=None, reasoning_content=None, tool_name=None, tool_args=None, tool_call_error=None, stop_after_tool_call=False, add_to_agent_memory=True, from_history=True, metrics=MessageMetrics(input_tokens=0, output_tokens=0, total_tokens=0, prompt_tokens=0, completion_tokens=0, prompt_tokens_details=None, completion_tokens_details=None, additional_metrics=None, time=None, time_to_first_token=None, timer=None), references=None, created_at=1739729963), Message(role='assistant', content=\"It's lovely to meet you, John Billings! I'm so glad you're here, and I'm excited to help you with anything you need or chat with you about your interests. Please feel free to share a bit about yourself, what brings you here today, or simply start a conversation - I'm all ears and ready to assist you in any way I can!\", name=None, tool_call_id=None, tool_calls=None, audio=None, images=None, videos=None, audio_output=None, reasoning_content=None, tool_name=None, tool_args=None, tool_call_error=None, stop_after_tool_call=False, add_to_agent_memory=True, from_history=True, metrics=MessageMetrics(input_tokens=48, output_tokens=76, total_tokens=124, prompt_tokens=0, completion_tokens=0, prompt_tokens_details=None, completion_tokens_details=None, additional_metrics={'total_duration': 15846692900, 'load_duration': 26063700, 'prompt_eval_duration': 2305000000, 'eval_duration': 13514000000}, time=16.304878900002223, time_to_first_token=None, timer=None), references=None, created_at=1739729963), Message(role='user', content='I like chocolate', name=None, tool_call_id=None, tool_calls=None, audio=None, images=None, videos=None, audio_output=None, reasoning_content=None, tool_name=None, tool_args=None, tool_call_error=None, stop_after_tool_call=False, add_to_agent_memory=True, from_history=True, metrics=MessageMetrics(input_tokens=0, output_tokens=0, total_tokens=0, prompt_tokens=0, completion_tokens=0, prompt_tokens_details=None, completion_tokens_details=None, additional_metrics=None, time=None, time_to_first_token=None, timer=None), references=None, created_at=1739729980), Message(role='assistant', content=\"Who doesn't love chocolate, John Billings? It's one of the greatest pleasures in life, isn't it? From rich, decadent truffles to creamy, velvety cakes, there's just something about chocolate that can brighten up anyone's day.\\n\\nWhat's your favorite type of chocolate - milk chocolate, dark chocolate, white chocolate, or perhaps a specific brand or flavor? Do you have a sweet tooth for desserts like brownies or cakes, or do you prefer enjoying chocolate on its own as a treat?\", name=None, tool_call_id=None, tool_calls=None, audio=None, images=None, videos=None, audio_output=None, reasoning_content=None, tool_name=None, tool_args=None, tool_call_error=None, stop_after_tool_call=False, add_to_agent_memory=True, from_history=True, metrics=MessageMetrics(input_tokens=136, output_tokens=107, total_tokens=243, prompt_tokens=0, completion_tokens=0, prompt_tokens_details=None, completion_tokens_details=None, additional_metrics={'total_duration': 22062491500, 'load_duration': 37850000, 'prompt_eval_duration': 1786000000, 'eval_duration': 20234000000}, time=22.06348739998066, time_to_first_token=None, timer=None), references=None, created_at=1739729980)], reasoning_steps=None, reasoning_messages=None), created_at=1739729961)"
      ]
     },
     "execution_count": 11,
     "metadata": {},
     "output_type": "execute_result"
    }
   ],
   "source": [
    "agent.run(\"What is my name?\")"
   ]
  }
 ],
 "metadata": {
  "kernelspec": {
   "display_name": ".venv",
   "language": "python",
   "name": "python3"
  },
  "language_info": {
   "codemirror_mode": {
    "name": "ipython",
    "version": 3
   },
   "file_extension": ".py",
   "mimetype": "text/x-python",
   "name": "python",
   "nbconvert_exporter": "python",
   "pygments_lexer": "ipython3",
   "version": "3.13.1"
  }
 },
 "nbformat": 4,
 "nbformat_minor": 2
}
