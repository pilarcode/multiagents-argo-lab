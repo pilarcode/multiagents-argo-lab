{
 "cells": [
  {
   "cell_type": "code",
   "execution_count": 1,
   "metadata": {},
   "outputs": [],
   "source": [
    "import getpass\n",
    "import os\n",
    "from pathlib import Path\n",
    "from dotenv import load_dotenv\n",
    "\n",
    "# Load the .env file\n",
    "_ = load_dotenv()"
   ]
  },
  {
   "cell_type": "code",
   "execution_count": 2,
   "metadata": {},
   "outputs": [],
   "source": [
    "from agno.models.huggingface import HuggingFace\n",
    "from agno.embedder.ollama import OllamaEmbedder\n",
    "from agno.models.ollama import Ollama\n",
    "from agno.models.huggingface import HuggingFace\n",
    "from agno.models.groq import Groq\n",
    "from agno.agent import Agent\n",
    "from agno.tools.duckduckgo import DuckDuckGoTools\n",
    "from agno.tools.csv_toolkit import CsvTools\n"
   ]
  },
  {
   "cell_type": "markdown",
   "metadata": {},
   "source": [
    "* LLM"
   ]
  },
  {
   "cell_type": "code",
   "execution_count": 3,
   "metadata": {},
   "outputs": [],
   "source": [
    "hf_model=HuggingFace(\n",
    "        id=\"meta-llama/Meta-Llama-3-8B-Instruct\",\n",
    "        api_key=os.getenv(\"HUGGINGFACE_API_TOKEN\"),\n",
    ")\n",
    "\n",
    "\n",
    "ollama_model=Ollama(id=\"llama3.2:3b\")\n",
    "\n",
    "groq_model=Groq(id=\"llama-3.1-8b-instant\",api_key=os.getenv(\"GROQ_API_KEY\"))"
   ]
  },
  {
   "cell_type": "code",
   "execution_count": 4,
   "metadata": {},
   "outputs": [],
   "source": [
    "ollama_embedder = OllamaEmbedder(id=\"nomic-embed-text:latest\",dimensions=768)"
   ]
  },
  {
   "cell_type": "markdown",
   "metadata": {},
   "source": [
    "### Web Searcher Agent"
   ]
  },
  {
   "cell_type": "code",
   "execution_count": 5,
   "metadata": {},
   "outputs": [
    {
     "name": "stdout",
     "output_type": "stream",
     "text": [
      " - Running: duckduckgo_search(query=Thomas Edison, max_results=5)\n",
      "\n",
      "Based on the search results, it appears that Thomas Edison was a prolific inventor and businessman who is considered one of America's leading innovators. He developed many devices in fields such as electric power generation, mass communication, sound recording, and motion pictures, and is credited with inventing the phonograph, the motion picture camera, and early versions of the electric light bulb.\n"
     ]
    }
   ],
   "source": [
    "web_searcher = Agent(model=groq_model, \n",
    "                     tools=[DuckDuckGoTools()], \n",
    "                     name=\"Web Searcher\",  \n",
    "                     role=\"Searches the web for information on a topic\", \n",
    "                     show_tool_calls=True,\n",
    "                     markdown=False)\n",
    "\n",
    "response = web_searcher.run(\"Who is Thomas Edison?\")\n",
    "print(response.content) #latencia 1min 50"
   ]
  },
  {
   "cell_type": "markdown",
   "metadata": {},
   "source": [
    "###  RAG Agent"
   ]
  },
  {
   "cell_type": "code",
   "execution_count": 6,
   "metadata": {},
   "outputs": [],
   "source": [
    "from agno.vectordb.lancedb import LanceDb, SearchType\n",
    "\n",
    "# Define the database URL where the vector database will be stored\n",
    "db_url = \"./tmp/lancedb\"\n",
    "vector_db = LanceDb(\n",
    "    table_name=\"recipes\",  # Table name in the vector database\n",
    "    uri=db_url,  # Location to initiate/create the vector database\n",
    "    embedder=ollama_embedder,  # Without using this, it will use OpenAIChat embeddings by default\n",
    "    search_type=SearchType.vector,\n",
    ")"
   ]
  },
  {
   "cell_type": "code",
   "execution_count": 7,
   "metadata": {},
   "outputs": [
    {
     "data": {
      "text/html": [
       "<pre style=\"white-space:pre;overflow-x:auto;line-height:normal;font-family:Menlo,'DejaVu Sans Mono',consolas,'Courier New',monospace\"><span style=\"color: #000080; text-decoration-color: #000080\">INFO    </span> Creating collection                                                                                       \n",
       "</pre>\n"
      ],
      "text/plain": [
       "\u001b[34mINFO    \u001b[0m Creating collection                                                                                       \n"
      ]
     },
     "metadata": {},
     "output_type": "display_data"
    },
    {
     "data": {
      "text/html": [
       "<pre style=\"white-space:pre;overflow-x:auto;line-height:normal;font-family:Menlo,'DejaVu Sans Mono',consolas,'Courier New',monospace\"><span style=\"color: #000080; text-decoration-color: #000080\">INFO    </span> Loading knowledge base                                                                                    \n",
       "</pre>\n"
      ],
      "text/plain": [
       "\u001b[34mINFO    \u001b[0m Loading knowledge base                                                                                    \n"
      ]
     },
     "metadata": {},
     "output_type": "display_data"
    },
    {
     "data": {
      "text/html": [
       "<pre style=\"white-space:pre;overflow-x:auto;line-height:normal;font-family:Menlo,'DejaVu Sans Mono',consolas,'Courier New',monospace\"><span style=\"color: #000080; text-decoration-color: #000080\">INFO    </span> Reading: <span style=\"color: #0000ff; text-decoration-color: #0000ff; text-decoration: underline\">https://agno-public.s3.amazonaws.com/recipes/ThaiRecipes.pdf</span>                                     \n",
       "</pre>\n"
      ],
      "text/plain": [
       "\u001b[34mINFO    \u001b[0m Reading: \u001b[4;94mhttps://agno-public.s3.amazonaws.com/recipes/ThaiRecipes.pdf\u001b[0m                                     \n"
      ]
     },
     "metadata": {},
     "output_type": "display_data"
    },
    {
     "data": {
      "text/html": [
       "<pre style=\"white-space:pre;overflow-x:auto;line-height:normal;font-family:Menlo,'DejaVu Sans Mono',consolas,'Courier New',monospace\"><span style=\"color: #000080; text-decoration-color: #000080\">INFO    </span> Added <span style=\"color: #008080; text-decoration-color: #008080; font-weight: bold\">0</span> documents to knowledge base                                                                       \n",
       "</pre>\n"
      ],
      "text/plain": [
       "\u001b[34mINFO    \u001b[0m Added \u001b[1;36m0\u001b[0m documents to knowledge base                                                                       \n"
      ]
     },
     "metadata": {},
     "output_type": "display_data"
    }
   ],
   "source": [
    "from agno.knowledge.pdf_url import PDFUrlKnowledgeBase\n",
    "# Create a knowledge base of PDFs from URLs\n",
    "knowledge_base = PDFUrlKnowledgeBase(\n",
    "    urls=[\"https://agno-public.s3.amazonaws.com/recipes/ThaiRecipes.pdf\"],\n",
    "    vector_db=vector_db\n",
    ")\n",
    "# Load the knowledge base\n",
    "knowledge_base.load(recreate=False)"
   ]
  },
  {
   "cell_type": "code",
   "execution_count": 8,
   "metadata": {},
   "outputs": [],
   "source": [
    "# Create and use the agent\n",
    "rag_agent = Agent(model=groq_model,\n",
    "              name=\"RAG Agent\",\n",
    "              role=\"Responds to questions about Thai recipes\", \n",
    "              knowledge=knowledge_base,  \n",
    "\n",
    "              # Add a tool to search the knowledge base which enables agentic RAG.\n",
    "               # This is enabled by default when `knowledge` is provided to the Agent.\n",
    "              search_knowledge=False,\n",
    "              show_tool_calls=True,\n",
    "              markdown=False)\n"
   ]
  },
  {
   "cell_type": "code",
   "execution_count": 12,
   "metadata": {},
   "outputs": [
    {
     "data": {
      "text/plain": [
       "RunResponse(content=\"Tom Kha Gai is a popular Thai dish made with chicken, galangal, and coconut milk. Here's a simple recipe to make a delicious Tom Kha Gai:\\n\\n**Ingredients:**\\n\\n- 2 lbs boneless, skinless chicken breast or thighs, cut into bite-sized pieces\\n- 2-3 inches of galangal (or 2-3 cloves of garlic), peeled and grated\\n- 2 lemongrass stalks, bruised\\n- 2-3 kaffir lime leaves\\n- 2 cups of coconut milk\\n- 2 cups of chicken broth\\n- 1 tablespoon of fish sauce\\n- 1 tablespoon of palm sugar (or brown sugar)\\n- Salt and pepper, to taste\\n- Fresh Thai basil leaves, for garnish\\n- Chilies (optional), for serving\\n\\n**Instructions:**\\n\\n1. **Prepare the galangal and lemongrass**: In a blender or food processor, combine the galangal, lemongrass, and kaffir lime leaves. Blend until you get a smooth paste. You can also use a mortar and pestle to pound the ingredients until they're well combined.\\n\\n2. **Sear the chicken**: Heat 2 tablespoons of oil in a large pot over medium-high heat. Add the chicken pieces and cook until they're browned on all sides. Remove the chicken from the pot and set it aside.\\n\\n3. **Make the soup base**: In the same pot, add the blended galangal mixture and cook for 1-2 minutes, until fragrant. Add the chicken broth, fish sauce, and palm sugar. Bring the mixture to a boil, then reduce the heat to medium-low and simmer for 5 minutes.\\n\\n4. **Add the coconut milk**: Stir in the coconut milk and bring the mixture to a simmer. Cook for 2-3 minutes, until the soup has thickened slightly.\\n\\n5. **Add the chicken**: Return the chicken to the pot and cook until it's cooked through.\\n\\n6. **Season and serve**: Taste and adjust the seasoning with salt, pepper, and chili sauce (if using). Serve the soup hot, garnished with fresh Thai basil leaves and a sprinkle of pepper. You can also serve with steamed rice or noodles.\\n\\n**Tips and Variations:**\\n\\n- Use fresh galangal for the best flavor. If you can't find galangal, you can substitute it with 2-3 cloves of garlic.\\n- Adjust the amount of chili sauce to your taste. You can also use sliced chilies or Thai bird's eye chilies for added heat.\\n- Add some acidity with a squeeze of fresh lime juice.\\n- Serve the soup with a sprinkle of crispy fried shallots or wonton strips for added texture.\\n- Experiment with different types of protein, such as shrimp or pork, for a variation on the dish.\\n\\nEnjoy your delicious Tom Kha Gai!\", content_type='str', event='RunResponse', messages=[Message(role='system', content='<your_role>\\nResponds to questions about Thai recipes\\n</your_role>', name=None, tool_call_id=None, tool_calls=None, audio=None, images=None, videos=None, audio_output=None, reasoning_content=None, tool_name=None, tool_args=None, tool_call_error=None, stop_after_tool_call=False, add_to_agent_memory=True, from_history=False, metrics=MessageMetrics(input_tokens=0, output_tokens=0, total_tokens=0, prompt_tokens=0, completion_tokens=0, prompt_tokens_details=None, completion_tokens_details=None, additional_metrics=None, time=None, time_to_first_token=None, timer=None), references=None, created_at=1739406232), Message(role='user', content='How do I make chicken and galangal in coconut milk soup', name=None, tool_call_id=None, tool_calls=None, audio=None, images=None, videos=None, audio_output=None, reasoning_content=None, tool_name=None, tool_args=None, tool_call_error=None, stop_after_tool_call=False, add_to_agent_memory=True, from_history=False, metrics=MessageMetrics(input_tokens=0, output_tokens=0, total_tokens=0, prompt_tokens=0, completion_tokens=0, prompt_tokens_details=None, completion_tokens_details=None, additional_metrics=None, time=None, time_to_first_token=None, timer=None), references=None, created_at=1739406232), Message(role='assistant', content=\"Tom Kha Gai is a popular Thai dish made with chicken, galangal, and coconut milk. Here's a simple recipe to make a delicious Tom Kha Gai:\\n\\n**Ingredients:**\\n\\n- 2 lbs boneless, skinless chicken breast or thighs, cut into bite-sized pieces\\n- 2-3 inches of galangal (or 2-3 cloves of garlic), peeled and grated\\n- 2 lemongrass stalks, bruised\\n- 2-3 kaffir lime leaves\\n- 2 cups of coconut milk\\n- 2 cups of chicken broth\\n- 1 tablespoon of fish sauce\\n- 1 tablespoon of palm sugar (or brown sugar)\\n- Salt and pepper, to taste\\n- Fresh Thai basil leaves, for garnish\\n- Chilies (optional), for serving\\n\\n**Instructions:**\\n\\n1. **Prepare the galangal and lemongrass**: In a blender or food processor, combine the galangal, lemongrass, and kaffir lime leaves. Blend until you get a smooth paste. You can also use a mortar and pestle to pound the ingredients until they're well combined.\\n\\n2. **Sear the chicken**: Heat 2 tablespoons of oil in a large pot over medium-high heat. Add the chicken pieces and cook until they're browned on all sides. Remove the chicken from the pot and set it aside.\\n\\n3. **Make the soup base**: In the same pot, add the blended galangal mixture and cook for 1-2 minutes, until fragrant. Add the chicken broth, fish sauce, and palm sugar. Bring the mixture to a boil, then reduce the heat to medium-low and simmer for 5 minutes.\\n\\n4. **Add the coconut milk**: Stir in the coconut milk and bring the mixture to a simmer. Cook for 2-3 minutes, until the soup has thickened slightly.\\n\\n5. **Add the chicken**: Return the chicken to the pot and cook until it's cooked through.\\n\\n6. **Season and serve**: Taste and adjust the seasoning with salt, pepper, and chili sauce (if using). Serve the soup hot, garnished with fresh Thai basil leaves and a sprinkle of pepper. You can also serve with steamed rice or noodles.\\n\\n**Tips and Variations:**\\n\\n- Use fresh galangal for the best flavor. If you can't find galangal, you can substitute it with 2-3 cloves of garlic.\\n- Adjust the amount of chili sauce to your taste. You can also use sliced chilies or Thai bird's eye chilies for added heat.\\n- Add some acidity with a squeeze of fresh lime juice.\\n- Serve the soup with a sprinkle of crispy fried shallots or wonton strips for added texture.\\n- Experiment with different types of protein, such as shrimp or pork, for a variation on the dish.\\n\\nEnjoy your delicious Tom Kha Gai!\", name=None, tool_call_id=None, tool_calls=None, audio=None, images=None, videos=None, audio_output=None, reasoning_content=None, tool_name=None, tool_args=None, tool_call_error=None, stop_after_tool_call=False, add_to_agent_memory=True, from_history=False, metrics=MessageMetrics(input_tokens=64, output_tokens=600, total_tokens=664, prompt_tokens=64, completion_tokens=600, prompt_tokens_details=None, completion_tokens_details=None, additional_metrics={'prompt_time': 0.007521048, 'completion_time': 0.8, 'queue_time': 0.021765119, 'total_time': 0.807521048}, time=0.9961879999900702, time_to_first_token=None, timer=<agno.utils.timer.Timer object at 0x000002089B2A68D0>), references=None, created_at=1739406232)], metrics={'input_tokens': [64], 'output_tokens': [600], 'total_tokens': [664], 'prompt_tokens': [64], 'completion_tokens': [600], 'additional_metrics': [{'prompt_time': 0.007521048, 'completion_time': 0.8, 'queue_time': 0.021765119, 'total_time': 0.807521048}], 'time': [0.9961879999900702]}, model='llama-3.1-8b-instant', run_id='5ebda7a6-91c3-44a7-8308-9c934b824ea0', agent_id='ad52a57c-0a26-42ee-a51e-18b553c81684', session_id='5017b292-cd6e-45fb-a806-f8e850eafb86', workflow_id=None, tools=[], images=None, videos=None, audio=None, response_audio=None, extra_data=None, created_at=1739406173)"
      ]
     },
     "execution_count": 12,
     "metadata": {},
     "output_type": "execute_result"
    }
   ],
   "source": [
    "rag_agent.run(\"How do I make chicken and galangal in coconut milk soup\")"
   ]
  },
  {
   "cell_type": "markdown",
   "metadata": {},
   "source": [
    "### Multi-Agent Team"
   ]
  },
  {
   "cell_type": "code",
   "execution_count": 9,
   "metadata": {},
   "outputs": [],
   "source": [
    "team_leader = Agent(\n",
    "    name=\"Multi-Agent Team\",\n",
    "    role=\"Team leader agent\",\n",
    "    model=groq_model,\n",
    "    tools=[web_searcher,rag_agent],\n",
    "    show_tool_calls=True,\n",
    "    markdown=False,\n",
    "    debug_mode=False,\n",
    ")\n"
   ]
  },
  {
   "cell_type": "code",
   "execution_count": 10,
   "metadata": {},
   "outputs": [
    {
     "data": {
      "text/plain": [
       "RunResponse(content='A legendary figure in the history of innovation and technology. Thomas Edison (1847-1931) was an American inventor, entrepreneur, and engineer who held over 1,093 patents in his name, making him one of the most prolific inventors in history.\\n\\nEdison is credited with numerous groundbreaking inventions and innovations that transformed the world. Some of his most notable achievements include:\\n\\n1. **Development of the Light Bulb**: Edison famously declared, \"I have not failed. I\\'ve just found 10,000 ways that won\\'t work.\" His endless experimentation led to the creation of the first commercially viable incandescent light bulb, which paved the way for widespread use in homes, businesses, and industries.\\n2. **Phonograph and Sound Recording**: Edison invented the phonograph, the first device capable of recording and playing back sound, in 1877. This invention revolutionized music, speech, and entertainment.\\n3. **Motion Pictures**: Edison developed the kinetoscope, a motion picture camera, and the first movie projector, which enabled the creation of motion pictures.\\n4. **Alkaline Battery**: Edison designed the first alkaline battery, which improved upon earlier battery designs and has remained a staple in power source technology.\\n5. **Telegraph Improvements**: Edison made significant contributions to the telegraph, including the development of a transmitter that sent messages more efficiently and reliably.\\n\\nEdison\\'s innovative spirit and entrepreneurial acumen led to the establishment of the Edison Electric Light Company (later General Electric) and various other companies. He is widely regarded as one of the most influential figures in the history of science, technology, and innovation.', content_type='str', event='RunResponse', messages=[Message(role='system', content='<your_role>\\nTeam leader agent\\n</your_role>', name=None, tool_call_id=None, tool_calls=None, audio=None, images=None, videos=None, audio_output=None, reasoning_content=None, tool_name=None, tool_args=None, tool_call_error=None, stop_after_tool_call=False, add_to_agent_memory=True, from_history=False, metrics=MessageMetrics(input_tokens=0, output_tokens=0, total_tokens=0, prompt_tokens=0, completion_tokens=0, prompt_tokens_details=None, completion_tokens_details=None, additional_metrics=None, time=None, time_to_first_token=None, timer=None), references=None, created_at=1739406181), Message(role='user', content='Who is Thomas Edison?', name=None, tool_call_id=None, tool_calls=None, audio=None, images=None, videos=None, audio_output=None, reasoning_content=None, tool_name=None, tool_args=None, tool_call_error=None, stop_after_tool_call=False, add_to_agent_memory=True, from_history=False, metrics=MessageMetrics(input_tokens=0, output_tokens=0, total_tokens=0, prompt_tokens=0, completion_tokens=0, prompt_tokens_details=None, completion_tokens_details=None, additional_metrics=None, time=None, time_to_first_token=None, timer=None), references=None, created_at=1739406181), Message(role='assistant', content='A legendary figure in the history of innovation and technology. Thomas Edison (1847-1931) was an American inventor, entrepreneur, and engineer who held over 1,093 patents in his name, making him one of the most prolific inventors in history.\\n\\nEdison is credited with numerous groundbreaking inventions and innovations that transformed the world. Some of his most notable achievements include:\\n\\n1. **Development of the Light Bulb**: Edison famously declared, \"I have not failed. I\\'ve just found 10,000 ways that won\\'t work.\" His endless experimentation led to the creation of the first commercially viable incandescent light bulb, which paved the way for widespread use in homes, businesses, and industries.\\n2. **Phonograph and Sound Recording**: Edison invented the phonograph, the first device capable of recording and playing back sound, in 1877. This invention revolutionized music, speech, and entertainment.\\n3. **Motion Pictures**: Edison developed the kinetoscope, a motion picture camera, and the first movie projector, which enabled the creation of motion pictures.\\n4. **Alkaline Battery**: Edison designed the first alkaline battery, which improved upon earlier battery designs and has remained a staple in power source technology.\\n5. **Telegraph Improvements**: Edison made significant contributions to the telegraph, including the development of a transmitter that sent messages more efficiently and reliably.\\n\\nEdison\\'s innovative spirit and entrepreneurial acumen led to the establishment of the Edison Electric Light Company (later General Electric) and various other companies. He is widely regarded as one of the most influential figures in the history of science, technology, and innovation.', name=None, tool_call_id=None, tool_calls=None, audio=None, images=None, videos=None, audio_output=None, reasoning_content=None, tool_name=None, tool_args=None, tool_call_error=None, stop_after_tool_call=False, add_to_agent_memory=True, from_history=False, metrics=MessageMetrics(input_tokens=52, output_tokens=333, total_tokens=385, prompt_tokens=52, completion_tokens=333, prompt_tokens_details=None, completion_tokens_details=None, additional_metrics={'prompt_time': 0.006088003, 'completion_time': 0.444, 'queue_time': 0.024498173999999998, 'total_time': 0.450088003}, time=0.6771077000012156, time_to_first_token=None, timer=<agno.utils.timer.Timer object at 0x000002089B2C2300>), references=None, created_at=1739406181)], metrics={'input_tokens': [52], 'output_tokens': [333], 'total_tokens': [385], 'prompt_tokens': [52], 'completion_tokens': [333], 'additional_metrics': [{'prompt_time': 0.006088003, 'completion_time': 0.444, 'queue_time': 0.024498173999999998, 'total_time': 0.450088003}], 'time': [0.6771077000012156]}, model='llama-3.1-8b-instant', run_id='3a3842a3-fd1e-405a-8a6b-b009077d52c1', agent_id='1b44a975-7551-4596-80b9-ab7e0724c5af', session_id='7e028e17-217e-4205-90e8-add6e8cca8a7', workflow_id=None, tools=[], images=None, videos=None, audio=None, response_audio=None, extra_data=None, created_at=1739406173)"
      ]
     },
     "execution_count": 10,
     "metadata": {},
     "output_type": "execute_result"
    }
   ],
   "source": [
    "team_leader.run(\"Who is Thomas Edison?\")"
   ]
  },
  {
   "cell_type": "code",
   "execution_count": 13,
   "metadata": {},
   "outputs": [
    {
     "data": {
      "text/plain": [
       "RunResponse(content=\"A classic Thai-inspired dish. Here's a recipe for Chicken and Galangal in Coconut Milk Soup, also known as Tom Kha Gai:\\n\\n**Ingredients:**\\n\\n* 1 kg boneless, skinless chicken breast or thighs, cut into bite-sized pieces\\n* 2-3 inches galangal (or Thai ginger), peeled and chopped\\n* 2 lemongrass stalks, bruised\\n* 2 kaffir lime leaves\\n* 2 cloves garlic, minced\\n* 1 tablespoon grated fresh ginger\\n* 1 tablespoon Thai red curry paste\\n* 2 cups coconut milk\\n* 2 cups chicken broth\\n* 1 tablespoon palm sugar (or brown sugar)\\n* 1 tablespoon fish sauce (optional)\\n* Salt and pepper to taste\\n* Fresh cilantro or basil leaves for garnish\\n* Lime wedges for serving\\n\\n**Instructions:**\\n\\n1. **Prepare the ingredients:** Pound the galangal, lemongrass, and kaffir lime leaves together in a mortar and pestle or use a rolling pin to release their flavors and oils.\\n2. **Heat the oil:** In a large pot or wok, heat 2 tablespoons of vegetable oil over medium heat.\\n3. **Add aromatics:** Add the galangal-lemon grass mixture, minced garlic, and grated ginger. Cook, stirring occasionally, until fragrant (about 2-3 minutes).\\n4. **Add chicken:** Add the chicken and cook, stirring occasionally, until browned (about 5-6 minutes).\\n5. **Add curry paste:** Add the Thai red curry paste and cook, stirring constantly, for 1-2 minutes.\\n6. **Pour in coconut milk and broth:** Pour in the coconut milk and chicken broth. Bring the mixture to a simmer.\\n7. **Add sugar and fish sauce:** Stir in the palm sugar and fish sauce (if using).\\n8. **Simmer:** Reduce heat to low and simmer, covered, for 10-15 minutes or until the chicken is cooked through.\\n9. **Season:** Taste and adjust the seasoning with salt, pepper, and more palm sugar if needed.\\n10. **Serve:** Ladle the soup into bowls and garnish with fresh cilantro or basil leaves, and a lime wedge on the side.\\n\\n**Traditional Thai Tips:**\\n\\n* Use high-quality Thai red curry paste for the best flavor.\\n* Adjust the amount of chili paste or curry paste to suit your desired spiciness level.\\n* Use fresh coconut milk for the best flavor and texture.\\n* Serve the soup with steamed jasmine rice or noodles for a filling meal.\\n\\nEnjoy your delicious and authentic Chicken and Galangal in Coconut Milk Soup, or Tom Kha Gai!\", content_type='str', event='RunResponse', messages=[Message(role='system', content='<your_role>\\nTeam leader agent\\n</your_role>', name=None, tool_call_id=None, tool_calls=None, audio=None, images=None, videos=None, audio_output=None, reasoning_content=None, tool_name=None, tool_args=None, tool_call_error=None, stop_after_tool_call=False, add_to_agent_memory=True, from_history=False, metrics=MessageMetrics(input_tokens=0, output_tokens=0, total_tokens=0, prompt_tokens=0, completion_tokens=0, prompt_tokens_details=None, completion_tokens_details=None, additional_metrics=None, time=None, time_to_first_token=None, timer=None), references=None, created_at=1739406250), Message(role='user', content='How do I make chicken and galangal in coconut milk soup', name=None, tool_call_id=None, tool_calls=None, audio=None, images=None, videos=None, audio_output=None, reasoning_content=None, tool_name=None, tool_args=None, tool_call_error=None, stop_after_tool_call=False, add_to_agent_memory=True, from_history=False, metrics=MessageMetrics(input_tokens=0, output_tokens=0, total_tokens=0, prompt_tokens=0, completion_tokens=0, prompt_tokens_details=None, completion_tokens_details=None, additional_metrics=None, time=None, time_to_first_token=None, timer=None), references=None, created_at=1739406250), Message(role='assistant', content=\"A classic Thai-inspired dish. Here's a recipe for Chicken and Galangal in Coconut Milk Soup, also known as Tom Kha Gai:\\n\\n**Ingredients:**\\n\\n* 1 kg boneless, skinless chicken breast or thighs, cut into bite-sized pieces\\n* 2-3 inches galangal (or Thai ginger), peeled and chopped\\n* 2 lemongrass stalks, bruised\\n* 2 kaffir lime leaves\\n* 2 cloves garlic, minced\\n* 1 tablespoon grated fresh ginger\\n* 1 tablespoon Thai red curry paste\\n* 2 cups coconut milk\\n* 2 cups chicken broth\\n* 1 tablespoon palm sugar (or brown sugar)\\n* 1 tablespoon fish sauce (optional)\\n* Salt and pepper to taste\\n* Fresh cilantro or basil leaves for garnish\\n* Lime wedges for serving\\n\\n**Instructions:**\\n\\n1. **Prepare the ingredients:** Pound the galangal, lemongrass, and kaffir lime leaves together in a mortar and pestle or use a rolling pin to release their flavors and oils.\\n2. **Heat the oil:** In a large pot or wok, heat 2 tablespoons of vegetable oil over medium heat.\\n3. **Add aromatics:** Add the galangal-lemon grass mixture, minced garlic, and grated ginger. Cook, stirring occasionally, until fragrant (about 2-3 minutes).\\n4. **Add chicken:** Add the chicken and cook, stirring occasionally, until browned (about 5-6 minutes).\\n5. **Add curry paste:** Add the Thai red curry paste and cook, stirring constantly, for 1-2 minutes.\\n6. **Pour in coconut milk and broth:** Pour in the coconut milk and chicken broth. Bring the mixture to a simmer.\\n7. **Add sugar and fish sauce:** Stir in the palm sugar and fish sauce (if using).\\n8. **Simmer:** Reduce heat to low and simmer, covered, for 10-15 minutes or until the chicken is cooked through.\\n9. **Season:** Taste and adjust the seasoning with salt, pepper, and more palm sugar if needed.\\n10. **Serve:** Ladle the soup into bowls and garnish with fresh cilantro or basil leaves, and a lime wedge on the side.\\n\\n**Traditional Thai Tips:**\\n\\n* Use high-quality Thai red curry paste for the best flavor.\\n* Adjust the amount of chili paste or curry paste to suit your desired spiciness level.\\n* Use fresh coconut milk for the best flavor and texture.\\n* Serve the soup with steamed jasmine rice or noodles for a filling meal.\\n\\nEnjoy your delicious and authentic Chicken and Galangal in Coconut Milk Soup, or Tom Kha Gai!\", name=None, tool_call_id=None, tool_calls=None, audio=None, images=None, videos=None, audio_output=None, reasoning_content=None, tool_name=None, tool_args=None, tool_call_error=None, stop_after_tool_call=False, add_to_agent_memory=True, from_history=False, metrics=MessageMetrics(input_tokens=60, output_tokens=560, total_tokens=620, prompt_tokens=60, completion_tokens=560, prompt_tokens_details=None, completion_tokens_details=None, additional_metrics={'prompt_time': 0.00685887, 'completion_time': 0.746666667, 'queue_time': 0.032418947, 'total_time': 0.753525537}, time=1.0122417000238784, time_to_first_token=None, timer=<agno.utils.timer.Timer object at 0x000002089B74F110>), references=None, created_at=1739406250)], metrics={'input_tokens': [60], 'output_tokens': [560], 'total_tokens': [620], 'prompt_tokens': [60], 'completion_tokens': [560], 'additional_metrics': [{'prompt_time': 0.00685887, 'completion_time': 0.746666667, 'queue_time': 0.032418947, 'total_time': 0.753525537}], 'time': [1.0122417000238784]}, model='llama-3.1-8b-instant', run_id='a86785b8-ea9c-4429-bb5c-05f74b072783', agent_id='1b44a975-7551-4596-80b9-ab7e0724c5af', session_id='7e028e17-217e-4205-90e8-add6e8cca8a7', workflow_id=None, tools=[], images=None, videos=None, audio=None, response_audio=None, extra_data=None, created_at=1739406173)"
      ]
     },
     "execution_count": 13,
     "metadata": {},
     "output_type": "execute_result"
    }
   ],
   "source": [
    "team_leader.run(\"How do I make chicken and galangal in coconut milk soup\")"
   ]
  }
 ],
 "metadata": {
  "kernelspec": {
   "display_name": ".venv",
   "language": "python",
   "name": "python3"
  },
  "language_info": {
   "codemirror_mode": {
    "name": "ipython",
    "version": 3
   },
   "file_extension": ".py",
   "mimetype": "text/x-python",
   "name": "python",
   "nbconvert_exporter": "python",
   "pygments_lexer": "ipython3",
   "version": "3.13.1"
  }
 },
 "nbformat": 4,
 "nbformat_minor": 2
}
