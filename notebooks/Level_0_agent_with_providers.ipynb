{
 "cells": [
  {
   "cell_type": "code",
   "execution_count": 1,
   "metadata": {},
   "outputs": [],
   "source": [
    "import getpass\n",
    "import os\n",
    "\n",
    "from dotenv import load_dotenv\n",
    "\n",
    "# Load the .env file\n",
    "_ = load_dotenv()"
   ]
  },
  {
   "cell_type": "markdown",
   "metadata": {},
   "source": [
    "🤖 Level 0: Agents with no tools (basic inference tasks)."
   ]
  },
  {
   "cell_type": "markdown",
   "metadata": {},
   "source": [
    "* Groq Agent"
   ]
  },
  {
   "cell_type": "code",
   "execution_count": 11,
   "metadata": {},
   "outputs": [
    {
     "name": "stdout",
     "output_type": "stream",
     "text": [
      "Response As I lay in bed, I couldn't shake the feeling that someone was watching me. It wasn't until I heard my own voice whisper \"goodnight\" back to me that I realized I wasn't alone.\n"
     ]
    }
   ],
   "source": [
    "from agno.agent import Agent, RunResponse\n",
    "from agno.models.groq import Groq\n",
    "\n",
    "groq_agent = Agent(\n",
    "    model=Groq(id=\"llama-3.1-8b-instant\",api_key=os.getenv(\"GROQ_API_KEY\")),\n",
    "    markdown=True\n",
    ")\n",
    "\n",
    "# Print the response in the terminal\n",
    "response  = groq_agent.run(\"Share a 2 sentence horror story.\")\n",
    "print(\"Response\", response.content) # latencia 1.3"
   ]
  },
  {
   "cell_type": "markdown",
   "metadata": {},
   "source": [
    "* Ollama Agent"
   ]
  },
  {
   "cell_type": "code",
   "execution_count": 12,
   "metadata": {},
   "outputs": [
    {
     "data": {
      "text/plain": [
       "RunResponse(content='To count the number of rows in a table using SQL, you can use the `COUNT()` function. Here is the basic syntax:\\n\\n```sql\\nSELECT COUNT(*) FROM your_table_name;\\n```\\n\\nIn this query:\\n- `COUNT(*)` counts all rows in the specified table.\\n- Replace `your_table_name` with the actual name of your table.\\n\\nFor example, if you have a table named \"employees\", the SQL query would be:\\n\\n```sql\\nSELECT COUNT(*) FROM employees;\\n```\\n\\nThis will return the total number of rows in the \"employees\" table.', content_type='str', event='RunResponse', messages=[Message(role='user', content='Give the Sql query to count the rows of a table?.', name=None, tool_call_id=None, tool_calls=None, audio=None, images=None, videos=None, audio_output=None, reasoning_content=None, tool_name=None, tool_args=None, tool_call_error=None, stop_after_tool_call=False, add_to_agent_memory=True, from_history=False, metrics=MessageMetrics(input_tokens=0, output_tokens=0, total_tokens=0, prompt_tokens=0, completion_tokens=0, prompt_tokens_details=None, completion_tokens_details=None, additional_metrics=None, time=None, time_to_first_token=None, timer=None), references=None, created_at=1739380494), Message(role='assistant', content='To count the number of rows in a table using SQL, you can use the `COUNT()` function. Here is the basic syntax:\\n\\n```sql\\nSELECT COUNT(*) FROM your_table_name;\\n```\\n\\nIn this query:\\n- `COUNT(*)` counts all rows in the specified table.\\n- Replace `your_table_name` with the actual name of your table.\\n\\nFor example, if you have a table named \"employees\", the SQL query would be:\\n\\n```sql\\nSELECT COUNT(*) FROM employees;\\n```\\n\\nThis will return the total number of rows in the \"employees\" table.', name=None, tool_call_id=None, tool_calls=None, audio=None, images=None, videos=None, audio_output=None, reasoning_content=None, tool_name=None, tool_args=None, tool_call_error=None, stop_after_tool_call=False, add_to_agent_memory=True, from_history=False, metrics=MessageMetrics(input_tokens=41, output_tokens=117, total_tokens=158, prompt_tokens=0, completion_tokens=0, prompt_tokens_details=None, completion_tokens_details=None, additional_metrics={'total_duration': 45459422400, 'load_duration': 30462300, 'prompt_eval_duration': 7628000000, 'eval_duration': 37796000000}, time=45.76069310000457, time_to_first_token=None, timer=<agno.utils.timer.Timer object at 0x000001E1005DE1B0>), references=None, created_at=1739380494)], metrics={'input_tokens': [41], 'output_tokens': [117], 'total_tokens': [158], 'prompt_tokens': [0], 'completion_tokens': [0], 'additional_metrics': [{'total_duration': 45459422400, 'load_duration': 30462300, 'prompt_eval_duration': 7628000000, 'eval_duration': 37796000000}], 'time': [45.76069310000457]}, model='qwen2.5-coder:7b', run_id='70b676d3-ffb7-4487-b359-81cb5e58520f', agent_id='2d85438d-3fd0-4d3a-a998-740e0ed6551d', session_id='a3c3b1b6-0a2c-4076-9941-ac641e1cc795', workflow_id=None, tools=[], images=None, videos=None, audio=None, response_audio=None, extra_data=None, created_at=1739380084)"
      ]
     },
     "execution_count": 12,
     "metadata": {},
     "output_type": "execute_result"
    }
   ],
   "source": [
    "from agno.agent import Agent, RunResponse\n",
    "from agno.models.ollama import Ollama\n",
    "\n",
    "# Define the Agent\n",
    "ollama_agent = Agent(\n",
    "    model=Ollama(id=\"qwen2.5-coder:7b\"),\n",
    "    markdown=False\n",
    ")\n",
    "\n",
    "# Print the response in the terminal\n",
    "response = ollama_agent.run(\"Give the Sql query to count the rows of a table?.\")\n",
    "response #latencia 46.8s\n"
   ]
  },
  {
   "cell_type": "markdown",
   "metadata": {},
   "source": [
    "* Huggging Face Agent"
   ]
  },
  {
   "cell_type": "code",
   "execution_count": null,
   "metadata": {},
   "outputs": [],
   "source": [
    "from agno.agent import Agent, RunResponse\n",
    "from agno.models.huggingface import HuggingFace\n",
    "\n",
    "# Define the Agent\n",
    "hg_agent = Agent(\n",
    "    model=HuggingFace(\n",
    "        id=\"meta-llama/Meta-Llama-3-8B-Instruct\",\n",
    "        max_tokens=4096,\n",
    "        api_key=os.getenv(\"HUGGINGFACE_API_TOKEN\"),\n",
    "    ),\n",
    "    markdown=False\n",
    ")\n",
    "\n",
    "# Print the response on the terminal\n",
    "reponse = hg_agent.print_response(\"Share a 2 sentence horror story.\")\n",
    "print(\"Response\", response.content)\n"
   ]
  }
 ],
 "metadata": {
  "kernelspec": {
   "display_name": ".venv",
   "language": "python",
   "name": "python3"
  },
  "language_info": {
   "codemirror_mode": {
    "name": "ipython",
    "version": 3
   },
   "file_extension": ".py",
   "mimetype": "text/x-python",
   "name": "python",
   "nbconvert_exporter": "python",
   "pygments_lexer": "ipython3",
   "version": "3.13.1"
  }
 },
 "nbformat": 4,
 "nbformat_minor": 2
}
