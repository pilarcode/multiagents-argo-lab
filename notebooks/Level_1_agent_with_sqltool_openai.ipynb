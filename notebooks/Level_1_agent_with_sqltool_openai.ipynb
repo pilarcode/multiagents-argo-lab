{
 "cells": [
  {
   "cell_type": "code",
   "execution_count": 1,
   "metadata": {},
   "outputs": [],
   "source": [
    "import os\n",
    "from agno.agent import Agent\n",
    "from agno.tools.sql import SQLTools\n",
    "from agno.models.ollama import Ollama\n",
    "from sqlalchemy import create_engine\n",
    "from dotenv import load_dotenv\n",
    "\n",
    "# Load the .env file\n",
    "_ = load_dotenv()\n"
   ]
  },
  {
   "cell_type": "markdown",
   "metadata": {},
   "source": [
    "* Engine"
   ]
  },
  {
   "cell_type": "code",
   "execution_count": 6,
   "metadata": {},
   "outputs": [],
   "source": [
    "db_url = 'sqlite:///../app/db/shop.db'\n",
    "engine=create_engine(db_url)"
   ]
  },
  {
   "cell_type": "markdown",
   "metadata": {},
   "source": [
    "* Model"
   ]
  },
  {
   "cell_type": "code",
   "execution_count": 8,
   "metadata": {},
   "outputs": [],
   "source": [
    "model=Ollama(id=\"llama3.2:3b\")\n"
   ]
  },
  {
   "cell_type": "markdown",
   "metadata": {},
   "source": [
    "* SQL Agent"
   ]
  },
  {
   "cell_type": "code",
   "execution_count": null,
   "metadata": {},
   "outputs": [],
   "source": [
    "sql_agent = Agent(model=model, \n",
    "                  name=\"SQLite Agent\", \n",
    "                  markdown=True, \n",
    "                  show_tool_calls=True,\n",
    "                  system_message=\"You are equipped with tools to manage a SQLite database.\",\n",
    "                  tools=[SQLTools(db_engine=engine)], \n",
    "                  add_history_to_messages=True,\n",
    "                  retries=3)\n",
    "\n",
    "sql_agent.print_response(\"List the tables\", stream=True)"
   ]
  }
 ],
 "metadata": {
  "kernelspec": {
   "display_name": ".venv",
   "language": "python",
   "name": "python3"
  },
  "language_info": {
   "codemirror_mode": {
    "name": "ipython",
    "version": 3
   },
   "file_extension": ".py",
   "mimetype": "text/x-python",
   "name": "python",
   "nbconvert_exporter": "python",
   "pygments_lexer": "ipython3",
   "version": "3.13.1"
  }
 },
 "nbformat": 4,
 "nbformat_minor": 2
}
