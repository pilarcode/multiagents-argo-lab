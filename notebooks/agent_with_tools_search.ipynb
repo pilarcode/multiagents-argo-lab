{
 "cells": [
  {
   "cell_type": "code",
   "execution_count": 1,
   "metadata": {},
   "outputs": [],
   "source": [
    "import getpass\n",
    "import os\n",
    "\n",
    "from dotenv import load_dotenv\n",
    "\n",
    "# Load the .env file\n",
    "_ = load_dotenv()"
   ]
  },
  {
   "cell_type": "code",
   "execution_count": 2,
   "metadata": {},
   "outputs": [],
   "source": [
    "from agno.models.huggingface import HuggingFace\n",
    "\n",
    "\n",
    "model=HuggingFace(\n",
    "        id=\"meta-llama/Meta-Llama-3-8B-Instruct\",\n",
    "        api_key=os.getenv(\"HUGGINGFACE_API_TOKEN\"),\n",
    "    )"
   ]
  },
  {
   "cell_type": "markdown",
   "metadata": {},
   "source": [
    "### DuckDuckGo\n",
    "\n",
    "DuckDuckGo enables an Agent to search the web for information."
   ]
  },
  {
   "cell_type": "code",
   "execution_count": 3,
   "metadata": {},
   "outputs": [],
   "source": [
    "from agno.agent import Agent\n",
    "from agno.storage.agent.sqlite import SqliteAgentStorage\n",
    "from agno.tools.duckduckgo import DuckDuckGoTools\n",
    "\n",
    "\n",
    "tools=[DuckDuckGoTools()]\n",
    "\n",
    "duckduckgo_agent = Agent(model=model, tools=tools, show_tool_calls=True)\n"
   ]
  },
  {
   "cell_type": "code",
   "execution_count": 4,
   "metadata": {},
   "outputs": [
    {
     "name": "stdout",
     "output_type": "stream",
     "text": [
      "Execution time: 4.006319599997369 seconds\n",
      "Thomas Edison was a pioneering American inventor, entrepreneur, and engineer who developed many important technologies. He is best known for the invention of the light bulb, phonograph, and motion picture camera. He was born on February 11, 1847, in Milan, Ohio, and died on October 18, 1931, in West Orange, New Jersey. Edison held over 1,000 patents in his name and is considered one of the most prolific inventors in history.\n"
     ]
    }
   ],
   "source": [
    "import time\n",
    "\n",
    "start_time = time.perf_counter()\n",
    "response = duckduckgo_agent.run(\"Who is Thomas Edison?\", markdown=False)\n",
    "end_time = time.perf_counter()\n",
    "print(f\"Execution time: {end_time - start_time} seconds\")\n",
    "print(response.content)"
   ]
  },
  {
   "cell_type": "markdown",
   "metadata": {},
   "source": [
    "### Serpapi\n",
    "\n",
    "SerpApiTools enable an Agent to search Google and YouTube for a query."
   ]
  },
  {
   "cell_type": "code",
   "execution_count": 5,
   "metadata": {},
   "outputs": [],
   "source": [
    "from agno.agent import Agent\n",
    "from agno.tools.serpapi import SerpApiTools\n",
    "\n",
    "serpi_agent = Agent(model=model, tools=[SerpApiTools(api_key=os.getenv(\"SERPAPI_API_KEY\"))])\n"
   ]
  },
  {
   "cell_type": "code",
   "execution_count": 7,
   "metadata": {},
   "outputs": [
    {
     "data": {
      "text/plain": [
       "'Albert Einstein was a German-born theoretical physicist who is best known for his theory of relativity and the famous equation E=mc². He is widely regarded as one of the most influential scientists of the 20th century.'"
      ]
     },
     "execution_count": 7,
     "metadata": {},
     "output_type": "execute_result"
    }
   ],
   "source": [
    "response = serpi_agent.run(\"Who is Albert Einstein?\", markdown=False)\n",
    "response.content"
   ]
  }
 ],
 "metadata": {
  "kernelspec": {
   "display_name": ".venv",
   "language": "python",
   "name": "python3"
  },
  "language_info": {
   "codemirror_mode": {
    "name": "ipython",
    "version": 3
   },
   "file_extension": ".py",
   "mimetype": "text/x-python",
   "name": "python",
   "nbconvert_exporter": "python",
   "pygments_lexer": "ipython3",
   "version": "3.13.1"
  }
 },
 "nbformat": 4,
 "nbformat_minor": 2
}
