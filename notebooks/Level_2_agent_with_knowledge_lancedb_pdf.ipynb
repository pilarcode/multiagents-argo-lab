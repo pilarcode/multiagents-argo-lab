{
 "cells": [
  {
   "cell_type": "code",
   "execution_count": 1,
   "metadata": {},
   "outputs": [],
   "source": [
    "from pathlib import Path\n",
    "\n",
    "from agno.agent import Agent\n",
    "from agno.knowledge.csv_url import CSVUrlKnowledgeBase\n",
    "from agno.knowledge.csv import CSVKnowledgeBase"
   ]
  },
  {
   "cell_type": "markdown",
   "metadata": {},
   "source": [
    "* Models"
   ]
  },
  {
   "cell_type": "code",
   "execution_count": 2,
   "metadata": {},
   "outputs": [],
   "source": [
    "from agno.models.ollama import Ollama\n",
    "\n",
    "ollama_model=Ollama(id=\"llama3.2:3b\")"
   ]
  },
  {
   "cell_type": "code",
   "execution_count": 3,
   "metadata": {},
   "outputs": [],
   "source": [
    "from agno.embedder.ollama import OllamaEmbedder\n",
    "\n",
    "ollama_embedder = OllamaEmbedder(id=\"nomic-embed-text:latest\",dimensions=768)\n"
   ]
  },
  {
   "cell_type": "code",
   "execution_count": 4,
   "metadata": {},
   "outputs": [
    {
     "data": {
      "text/plain": [
       "768"
      ]
     },
     "execution_count": 4,
     "metadata": {},
     "output_type": "execute_result"
    }
   ],
   "source": [
    "len(ollama_embedder.get_embedding(\"Hello world\"))"
   ]
  },
  {
   "cell_type": "markdown",
   "metadata": {},
   "source": [
    "* Vector Database"
   ]
  },
  {
   "cell_type": "code",
   "execution_count": 5,
   "metadata": {},
   "outputs": [],
   "source": [
    "from agno.vectordb.lancedb import LanceDb, SearchType\n",
    "\n",
    "# Define the database URL where the vector database will be stored\n",
    "db_url = \"./tmp/lancedb\"\n",
    "vector_db = LanceDb(\n",
    "    table_name=\"recipes\",  # Table name in the vector database\n",
    "    uri=db_url,  # Location to initiate/create the vector database\n",
    "    embedder=ollama_embedder,  # Without using this, it will use OpenAIChat embeddings by default\n",
    "    search_type=SearchType.vector,\n",
    ")"
   ]
  },
  {
   "cell_type": "code",
   "execution_count": 6,
   "metadata": {},
   "outputs": [
    {
     "data": {
      "text/html": [
       "<pre style=\"white-space:pre;overflow-x:auto;line-height:normal;font-family:Menlo,'DejaVu Sans Mono',consolas,'Courier New',monospace\"><span style=\"color: #000080; text-decoration-color: #000080\">INFO    </span> Creating collection                                                                                       \n",
       "</pre>\n"
      ],
      "text/plain": [
       "\u001b[34mINFO    \u001b[0m Creating collection                                                                                       \n"
      ]
     },
     "metadata": {},
     "output_type": "display_data"
    },
    {
     "data": {
      "text/html": [
       "<pre style=\"white-space:pre;overflow-x:auto;line-height:normal;font-family:Menlo,'DejaVu Sans Mono',consolas,'Courier New',monospace\"><span style=\"color: #000080; text-decoration-color: #000080\">INFO    </span> Loading knowledge base                                                                                    \n",
       "</pre>\n"
      ],
      "text/plain": [
       "\u001b[34mINFO    \u001b[0m Loading knowledge base                                                                                    \n"
      ]
     },
     "metadata": {},
     "output_type": "display_data"
    },
    {
     "data": {
      "text/html": [
       "<pre style=\"white-space:pre;overflow-x:auto;line-height:normal;font-family:Menlo,'DejaVu Sans Mono',consolas,'Courier New',monospace\"><span style=\"color: #000080; text-decoration-color: #000080\">INFO    </span> Reading: ..\\data\\employees.csv                                                                            \n",
       "</pre>\n"
      ],
      "text/plain": [
       "\u001b[34mINFO    \u001b[0m Reading: ..\\data\\employees.csv                                                                            \n"
      ]
     },
     "metadata": {},
     "output_type": "display_data"
    },
    {
     "data": {
      "text/html": [
       "<pre style=\"white-space:pre;overflow-x:auto;line-height:normal;font-family:Menlo,'DejaVu Sans Mono',consolas,'Courier New',monospace\"><span style=\"color: #000080; text-decoration-color: #000080\">INFO    </span> Added <span style=\"color: #008080; text-decoration-color: #008080; font-weight: bold\">2</span> documents to knowledge base                                                                       \n",
       "</pre>\n"
      ],
      "text/plain": [
       "\u001b[34mINFO    \u001b[0m Added \u001b[1;36m2\u001b[0m documents to knowledge base                                                                       \n"
      ]
     },
     "metadata": {},
     "output_type": "display_data"
    }
   ],
   "source": [
    "# Create CSV knowledge base\n",
    "knowledge_base = CSVKnowledgeBase(\n",
    "    path=Path(\"../data/employees.csv\"),\n",
    "    vector_db=vector_db\n",
    ")\n",
    "# Load the knowledge base\n",
    "knowledge_base.load(recreate=False)"
   ]
  },
  {
   "cell_type": "code",
   "execution_count": 7,
   "metadata": {},
   "outputs": [
    {
     "data": {
      "text/plain": [
       "CSVKnowledgeBase(reader=CSVReader(chunk=True, chunk_size=3000, separators=['\\n', '\\n\\n', '\\r', '\\r\\n', '\\n\\r', '\\t', ' ', '  '], chunking_strategy=<agno.document.chunking.fixed.FixedSizeChunking object at 0x0000019384722C40>), vector_db=<agno.vectordb.lancedb.lance_db.LanceDb object at 0x00000193833D4AD0>, num_documents=5, optimize_on=1000, chunking_strategy=<agno.document.chunking.fixed.FixedSizeChunking object at 0x0000019384722C40>, path=WindowsPath('../data/employees.csv'))"
      ]
     },
     "execution_count": 7,
     "metadata": {},
     "output_type": "execute_result"
    }
   ],
   "source": [
    "knowledge_base"
   ]
  },
  {
   "cell_type": "markdown",
   "metadata": {},
   "source": [
    "* Agent with knowledge"
   ]
  },
  {
   "cell_type": "code",
   "execution_count": 14,
   "metadata": {},
   "outputs": [],
   "source": [
    "# Create and use the agent\n",
    "agent = Agent(model=ollama_model,\n",
    "            knowledge=knowledge_base,  \n",
    "              # Add a tool to search the knowledge base which enables agentic RAG.\n",
    "               # This is enabled by default when `knowledge` is provided to the Agent.\n",
    "            search_knowledge=True,\n",
    "            show_tool_calls=True,\n",
    "            debug_mode=True,\n",
    "            markdown=False)\n"
   ]
  },
  {
   "cell_type": "markdown",
   "metadata": {},
   "source": [
    "* Tests"
   ]
  },
  {
   "cell_type": "code",
   "execution_count": 9,
   "metadata": {},
   "outputs": [
    {
     "data": {
      "text/html": [
       "<pre style=\"white-space:pre;overflow-x:auto;line-height:normal;font-family:Menlo,'DejaVu Sans Mono',consolas,'Courier New',monospace\"><span style=\"color: #008000; text-decoration-color: #008000\">DEBUG   </span> *********** Agent ID: <span style=\"color: #ffff00; text-decoration-color: #ffff00\">c5ac9074-e8ae-4e5f-b709-182ca71ae9a0</span> ***********                                    \n",
       "</pre>\n"
      ],
      "text/plain": [
       "\u001b[32mDEBUG   \u001b[0m *********** Agent ID: \u001b[93mc5ac9074-e8ae-4e5f-b709-182ca71ae9a0\u001b[0m ***********                                    \n"
      ]
     },
     "metadata": {},
     "output_type": "display_data"
    },
    {
     "data": {
      "text/html": [
       "<pre style=\"white-space:pre;overflow-x:auto;line-height:normal;font-family:Menlo,'DejaVu Sans Mono',consolas,'Courier New',monospace\"><span style=\"color: #008000; text-decoration-color: #008000\">DEBUG   </span> *********** Session ID: <span style=\"color: #ffff00; text-decoration-color: #ffff00\">c422a3b0-11ba-44d4-8513-9984431b0284</span> ***********                                  \n",
       "</pre>\n"
      ],
      "text/plain": [
       "\u001b[32mDEBUG   \u001b[0m *********** Session ID: \u001b[93mc422a3b0-11ba-44d4-8513-9984431b0284\u001b[0m ***********                                  \n"
      ]
     },
     "metadata": {},
     "output_type": "display_data"
    },
    {
     "data": {
      "text/html": [
       "<pre style=\"white-space:pre;overflow-x:auto;line-height:normal;font-family:Menlo,'DejaVu Sans Mono',consolas,'Courier New',monospace\"><span style=\"color: #008000; text-decoration-color: #008000\">DEBUG   </span> *********** Agent Run Start: <span style=\"color: #ffff00; text-decoration-color: #ffff00\">daa9813e-0aca-425d-8562-d91410856523</span> ***********                             \n",
       "</pre>\n"
      ],
      "text/plain": [
       "\u001b[32mDEBUG   \u001b[0m *********** Agent Run Start: \u001b[93mdaa9813e-0aca-425d-8562-d91410856523\u001b[0m ***********                             \n"
      ]
     },
     "metadata": {},
     "output_type": "display_data"
    },
    {
     "data": {
      "text/html": [
       "<pre style=\"white-space:pre;overflow-x:auto;line-height:normal;font-family:Menlo,'DejaVu Sans Mono',consolas,'Courier New',monospace\"><span style=\"color: #008000; text-decoration-color: #008000\">DEBUG   </span> Processing tools for model                                                                                \n",
       "</pre>\n"
      ],
      "text/plain": [
       "\u001b[32mDEBUG   \u001b[0m Processing tools for model                                                                                \n"
      ]
     },
     "metadata": {},
     "output_type": "display_data"
    },
    {
     "data": {
      "text/html": [
       "<pre style=\"white-space:pre;overflow-x:auto;line-height:normal;font-family:Menlo,'DejaVu Sans Mono',consolas,'Courier New',monospace\"><span style=\"color: #008000; text-decoration-color: #008000\">DEBUG   </span> Included function search_knowledge_base                                                                   \n",
       "</pre>\n"
      ],
      "text/plain": [
       "\u001b[32mDEBUG   \u001b[0m Included function search_knowledge_base                                                                   \n"
      ]
     },
     "metadata": {},
     "output_type": "display_data"
    },
    {
     "data": {
      "text/html": [
       "<pre style=\"white-space:pre;overflow-x:auto;line-height:normal;font-family:Menlo,'DejaVu Sans Mono',consolas,'Courier New',monospace\"><span style=\"color: #008000; text-decoration-color: #008000\">DEBUG   </span> ---------- Ollama Response Start ----------                                                               \n",
       "</pre>\n"
      ],
      "text/plain": [
       "\u001b[32mDEBUG   \u001b[0m ---------- Ollama Response Start ----------                                                               \n"
      ]
     },
     "metadata": {},
     "output_type": "display_data"
    },
    {
     "data": {
      "text/html": [
       "<pre style=\"white-space:pre;overflow-x:auto;line-height:normal;font-family:Menlo,'DejaVu Sans Mono',consolas,'Courier New',monospace\"><span style=\"color: #008000; text-decoration-color: #008000\">DEBUG   </span> ============== user ==============                                                                        \n",
       "</pre>\n"
      ],
      "text/plain": [
       "\u001b[32mDEBUG   \u001b[0m ============== user ==============                                                                        \n"
      ]
     },
     "metadata": {},
     "output_type": "display_data"
    },
    {
     "data": {
      "text/html": [
       "<pre style=\"white-space:pre;overflow-x:auto;line-height:normal;font-family:Menlo,'DejaVu Sans Mono',consolas,'Courier New',monospace\"><span style=\"color: #008000; text-decoration-color: #008000\">DEBUG   </span> What is the LastName of the employee called John?                                                         \n",
       "</pre>\n"
      ],
      "text/plain": [
       "\u001b[32mDEBUG   \u001b[0m What is the LastName of the employee called John?                                                         \n"
      ]
     },
     "metadata": {},
     "output_type": "display_data"
    },
    {
     "data": {
      "text/html": [
       "<pre style=\"white-space:pre;overflow-x:auto;line-height:normal;font-family:Menlo,'DejaVu Sans Mono',consolas,'Courier New',monospace\"><span style=\"color: #008000; text-decoration-color: #008000\">DEBUG   </span> ============== assistant ==============                                                                   \n",
       "</pre>\n"
      ],
      "text/plain": [
       "\u001b[32mDEBUG   \u001b[0m ============== assistant ==============                                                                   \n"
      ]
     },
     "metadata": {},
     "output_type": "display_data"
    },
    {
     "data": {
      "text/html": [
       "<pre style=\"white-space:pre;overflow-x:auto;line-height:normal;font-family:Menlo,'DejaVu Sans Mono',consolas,'Courier New',monospace\"><span style=\"color: #008000; text-decoration-color: #008000\">DEBUG   </span> Tool Calls: <span style=\"font-weight: bold\">[</span>                                                                                             \n",
       "           <span style=\"font-weight: bold\">{</span>                                                                                                       \n",
       "             <span style=\"color: #008000; text-decoration-color: #008000\">\"type\"</span>: <span style=\"color: #008000; text-decoration-color: #008000\">\"function\"</span>,                                                                                   \n",
       "             <span style=\"color: #008000; text-decoration-color: #008000\">\"function\"</span>: <span style=\"font-weight: bold\">{</span>                                                                                         \n",
       "               <span style=\"color: #008000; text-decoration-color: #008000\">\"name\"</span>: <span style=\"color: #008000; text-decoration-color: #008000\">\"search_knowledge_base\"</span>,                                                                    \n",
       "               <span style=\"color: #008000; text-decoration-color: #008000\">\"arguments\"</span>: <span style=\"color: #008000; text-decoration-color: #008000\">\"{\\\"query\\\": \\\"John\\\"}\"</span>                                                                \n",
       "             <span style=\"font-weight: bold\">}</span>                                                                                                     \n",
       "           <span style=\"font-weight: bold\">}</span>                                                                                                       \n",
       "         <span style=\"font-weight: bold\">]</span>                                                                                                         \n",
       "</pre>\n"
      ],
      "text/plain": [
       "\u001b[32mDEBUG   \u001b[0m Tool Calls: \u001b[1m[\u001b[0m                                                                                             \n",
       "           \u001b[1m{\u001b[0m                                                                                                       \n",
       "             \u001b[32m\"type\"\u001b[0m: \u001b[32m\"function\"\u001b[0m,                                                                                   \n",
       "             \u001b[32m\"function\"\u001b[0m: \u001b[1m{\u001b[0m                                                                                         \n",
       "               \u001b[32m\"name\"\u001b[0m: \u001b[32m\"search_knowledge_base\"\u001b[0m,                                                                    \n",
       "               \u001b[32m\"arguments\"\u001b[0m: \u001b[32m\"\u001b[0m\u001b[32m{\u001b[0m\u001b[32m\\\"query\\\": \\\"John\\\"\u001b[0m\u001b[32m}\u001b[0m\u001b[32m\"\u001b[0m                                                                \n",
       "             \u001b[1m}\u001b[0m                                                                                                     \n",
       "           \u001b[1m}\u001b[0m                                                                                                       \n",
       "         \u001b[1m]\u001b[0m                                                                                                         \n"
      ]
     },
     "metadata": {},
     "output_type": "display_data"
    },
    {
     "data": {
      "text/html": [
       "<pre style=\"white-space:pre;overflow-x:auto;line-height:normal;font-family:Menlo,'DejaVu Sans Mono',consolas,'Courier New',monospace\"><span style=\"color: #008000; text-decoration-color: #008000\">DEBUG   </span> **************** METRICS ****************                                                                 \n",
       "</pre>\n"
      ],
      "text/plain": [
       "\u001b[32mDEBUG   \u001b[0m **************** METRICS ****************                                                                 \n"
      ]
     },
     "metadata": {},
     "output_type": "display_data"
    },
    {
     "data": {
      "text/html": [
       "<pre style=\"white-space:pre;overflow-x:auto;line-height:normal;font-family:Menlo,'DejaVu Sans Mono',consolas,'Courier New',monospace\"><span style=\"color: #008000; text-decoration-color: #008000\">DEBUG   </span> * Input tokens:                <span style=\"color: #008080; text-decoration-color: #008080; font-weight: bold\">180</span>                                                                        \n",
       "</pre>\n"
      ],
      "text/plain": [
       "\u001b[32mDEBUG   \u001b[0m * Input tokens:                \u001b[1;36m180\u001b[0m                                                                        \n"
      ]
     },
     "metadata": {},
     "output_type": "display_data"
    },
    {
     "data": {
      "text/html": [
       "<pre style=\"white-space:pre;overflow-x:auto;line-height:normal;font-family:Menlo,'DejaVu Sans Mono',consolas,'Courier New',monospace\"><span style=\"color: #008000; text-decoration-color: #008000\">DEBUG   </span> * Output tokens:               <span style=\"color: #008080; text-decoration-color: #008080; font-weight: bold\">19</span>                                                                         \n",
       "</pre>\n"
      ],
      "text/plain": [
       "\u001b[32mDEBUG   \u001b[0m * Output tokens:               \u001b[1;36m19\u001b[0m                                                                         \n"
      ]
     },
     "metadata": {},
     "output_type": "display_data"
    },
    {
     "data": {
      "text/html": [
       "<pre style=\"white-space:pre;overflow-x:auto;line-height:normal;font-family:Menlo,'DejaVu Sans Mono',consolas,'Courier New',monospace\"><span style=\"color: #008000; text-decoration-color: #008000\">DEBUG   </span> * Total tokens:                <span style=\"color: #008080; text-decoration-color: #008080; font-weight: bold\">199</span>                                                                        \n",
       "</pre>\n"
      ],
      "text/plain": [
       "\u001b[32mDEBUG   \u001b[0m * Total tokens:                \u001b[1;36m199\u001b[0m                                                                        \n"
      ]
     },
     "metadata": {},
     "output_type": "display_data"
    },
    {
     "data": {
      "text/html": [
       "<pre style=\"white-space:pre;overflow-x:auto;line-height:normal;font-family:Menlo,'DejaVu Sans Mono',consolas,'Courier New',monospace\"><span style=\"color: #008000; text-decoration-color: #008000\">DEBUG   </span> * Time:                        <span style=\"color: #008080; text-decoration-color: #008080; font-weight: bold\">16.</span>2670s                                                                   \n",
       "</pre>\n"
      ],
      "text/plain": [
       "\u001b[32mDEBUG   \u001b[0m * Time:                        \u001b[1;36m16.\u001b[0m2670s                                                                   \n"
      ]
     },
     "metadata": {},
     "output_type": "display_data"
    },
    {
     "data": {
      "text/html": [
       "<pre style=\"white-space:pre;overflow-x:auto;line-height:normal;font-family:Menlo,'DejaVu Sans Mono',consolas,'Courier New',monospace\"><span style=\"color: #008000; text-decoration-color: #008000\">DEBUG   </span> * Tokens per second:           <span style=\"color: #008080; text-decoration-color: #008080; font-weight: bold\">1.1680</span> tokens/s                                                            \n",
       "</pre>\n"
      ],
      "text/plain": [
       "\u001b[32mDEBUG   \u001b[0m * Tokens per second:           \u001b[1;36m1.1680\u001b[0m tokens/s                                                            \n"
      ]
     },
     "metadata": {},
     "output_type": "display_data"
    },
    {
     "data": {
      "text/html": [
       "<pre style=\"white-space:pre;overflow-x:auto;line-height:normal;font-family:Menlo,'DejaVu Sans Mono',consolas,'Courier New',monospace\"><span style=\"color: #008000; text-decoration-color: #008000\">DEBUG   </span> * Additional metrics:          <span style=\"font-weight: bold\">{</span><span style=\"color: #008000; text-decoration-color: #008000\">'total_duration'</span>: <span style=\"color: #008080; text-decoration-color: #008080; font-weight: bold\">16265193400</span>, <span style=\"color: #008000; text-decoration-color: #008000\">'load_duration'</span>: <span style=\"color: #008080; text-decoration-color: #008080; font-weight: bold\">23317200</span>,                 \n",
       "         <span style=\"color: #008000; text-decoration-color: #008000\">'prompt_eval_duration'</span>: <span style=\"color: #008080; text-decoration-color: #008080; font-weight: bold\">14312000000</span>, <span style=\"color: #008000; text-decoration-color: #008000\">'eval_duration'</span>: <span style=\"color: #008080; text-decoration-color: #008080; font-weight: bold\">1929000000</span><span style=\"font-weight: bold\">}</span>                                         \n",
       "</pre>\n"
      ],
      "text/plain": [
       "\u001b[32mDEBUG   \u001b[0m * Additional metrics:          \u001b[1m{\u001b[0m\u001b[32m'total_duration'\u001b[0m: \u001b[1;36m16265193400\u001b[0m, \u001b[32m'load_duration'\u001b[0m: \u001b[1;36m23317200\u001b[0m,                 \n",
       "         \u001b[32m'prompt_eval_duration'\u001b[0m: \u001b[1;36m14312000000\u001b[0m, \u001b[32m'eval_duration'\u001b[0m: \u001b[1;36m1929000000\u001b[0m\u001b[1m}\u001b[0m                                         \n"
      ]
     },
     "metadata": {},
     "output_type": "display_data"
    },
    {
     "data": {
      "text/html": [
       "<pre style=\"white-space:pre;overflow-x:auto;line-height:normal;font-family:Menlo,'DejaVu Sans Mono',consolas,'Courier New',monospace\"><span style=\"color: #008000; text-decoration-color: #008000\">DEBUG   </span> **************** METRICS ******************                                                               \n",
       "</pre>\n"
      ],
      "text/plain": [
       "\u001b[32mDEBUG   \u001b[0m **************** METRICS ******************                                                               \n"
      ]
     },
     "metadata": {},
     "output_type": "display_data"
    },
    {
     "data": {
      "text/html": [
       "<pre style=\"white-space:pre;overflow-x:auto;line-height:normal;font-family:Menlo,'DejaVu Sans Mono',consolas,'Courier New',monospace\"><span style=\"color: #008000; text-decoration-color: #008000\">DEBUG   </span> Getting function search_knowledge_base                                                                    \n",
       "</pre>\n"
      ],
      "text/plain": [
       "\u001b[32mDEBUG   \u001b[0m Getting function search_knowledge_base                                                                    \n"
      ]
     },
     "metadata": {},
     "output_type": "display_data"
    },
    {
     "data": {
      "text/html": [
       "<pre style=\"white-space:pre;overflow-x:auto;line-height:normal;font-family:Menlo,'DejaVu Sans Mono',consolas,'Courier New',monospace\"><span style=\"color: #008000; text-decoration-color: #008000\">DEBUG   </span> Running: <span style=\"color: #800080; text-decoration-color: #800080; font-weight: bold\">search_knowledge_base</span><span style=\"font-weight: bold\">(</span><span style=\"color: #808000; text-decoration-color: #808000\">query</span>=<span style=\"color: #800080; text-decoration-color: #800080\">John</span><span style=\"font-weight: bold\">)</span>                                                                \n",
       "</pre>\n"
      ],
      "text/plain": [
       "\u001b[32mDEBUG   \u001b[0m Running: \u001b[1;35msearch_knowledge_base\u001b[0m\u001b[1m(\u001b[0m\u001b[33mquery\u001b[0m=\u001b[35mJohn\u001b[0m\u001b[1m)\u001b[0m                                                                \n"
      ]
     },
     "metadata": {},
     "output_type": "display_data"
    },
    {
     "data": {
      "text/html": [
       "<pre style=\"white-space:pre;overflow-x:auto;line-height:normal;font-family:Menlo,'DejaVu Sans Mono',consolas,'Courier New',monospace\"><span style=\"color: #008000; text-decoration-color: #008000\">DEBUG   </span> Getting <span style=\"color: #008080; text-decoration-color: #008080; font-weight: bold\">5</span> relevant documents for query: John                                                              \n",
       "</pre>\n"
      ],
      "text/plain": [
       "\u001b[32mDEBUG   \u001b[0m Getting \u001b[1;36m5\u001b[0m relevant documents for query: John                                                              \n"
      ]
     },
     "metadata": {},
     "output_type": "display_data"
    },
    {
     "data": {
      "text/html": [
       "<pre style=\"white-space:pre;overflow-x:auto;line-height:normal;font-family:Menlo,'DejaVu Sans Mono',consolas,'Courier New',monospace\"><span style=\"color: #008000; text-decoration-color: #008000\">DEBUG   </span> Time to get references: <span style=\"color: #008080; text-decoration-color: #008080; font-weight: bold\">0.</span>4173s                                                                           \n",
       "</pre>\n"
      ],
      "text/plain": [
       "\u001b[32mDEBUG   \u001b[0m Time to get references: \u001b[1;36m0.\u001b[0m4173s                                                                           \n"
      ]
     },
     "metadata": {},
     "output_type": "display_data"
    },
    {
     "data": {
      "text/html": [
       "<pre style=\"white-space:pre;overflow-x:auto;line-height:normal;font-family:Menlo,'DejaVu Sans Mono',consolas,'Courier New',monospace\"><span style=\"color: #008000; text-decoration-color: #008000\">DEBUG   </span> ---------- Ollama Response ----------                                                                     \n",
       "</pre>\n"
      ],
      "text/plain": [
       "\u001b[32mDEBUG   \u001b[0m ---------- Ollama Response ----------                                                                     \n"
      ]
     },
     "metadata": {},
     "output_type": "display_data"
    },
    {
     "data": {
      "text/html": [
       "<pre style=\"white-space:pre;overflow-x:auto;line-height:normal;font-family:Menlo,'DejaVu Sans Mono',consolas,'Courier New',monospace\"><span style=\"color: #008000; text-decoration-color: #008000\">DEBUG   </span> ============== user ==============                                                                        \n",
       "</pre>\n"
      ],
      "text/plain": [
       "\u001b[32mDEBUG   \u001b[0m ============== user ==============                                                                        \n"
      ]
     },
     "metadata": {},
     "output_type": "display_data"
    },
    {
     "data": {
      "text/html": [
       "<pre style=\"white-space:pre;overflow-x:auto;line-height:normal;font-family:Menlo,'DejaVu Sans Mono',consolas,'Courier New',monospace\"><span style=\"color: #008000; text-decoration-color: #008000\">DEBUG   </span> What is the LastName of the employee called John?                                                         \n",
       "</pre>\n"
      ],
      "text/plain": [
       "\u001b[32mDEBUG   \u001b[0m What is the LastName of the employee called John?                                                         \n"
      ]
     },
     "metadata": {},
     "output_type": "display_data"
    },
    {
     "data": {
      "text/html": [
       "<pre style=\"white-space:pre;overflow-x:auto;line-height:normal;font-family:Menlo,'DejaVu Sans Mono',consolas,'Courier New',monospace\"><span style=\"color: #008000; text-decoration-color: #008000\">DEBUG   </span> ============== assistant ==============                                                                   \n",
       "</pre>\n"
      ],
      "text/plain": [
       "\u001b[32mDEBUG   \u001b[0m ============== assistant ==============                                                                   \n"
      ]
     },
     "metadata": {},
     "output_type": "display_data"
    },
    {
     "data": {
      "text/html": [
       "<pre style=\"white-space:pre;overflow-x:auto;line-height:normal;font-family:Menlo,'DejaVu Sans Mono',consolas,'Courier New',monospace\"><span style=\"color: #008000; text-decoration-color: #008000\">DEBUG   </span> Tool Calls: <span style=\"font-weight: bold\">[</span>                                                                                             \n",
       "           <span style=\"font-weight: bold\">{</span>                                                                                                       \n",
       "             <span style=\"color: #008000; text-decoration-color: #008000\">\"type\"</span>: <span style=\"color: #008000; text-decoration-color: #008000\">\"function\"</span>,                                                                                   \n",
       "             <span style=\"color: #008000; text-decoration-color: #008000\">\"function\"</span>: <span style=\"font-weight: bold\">{</span>                                                                                         \n",
       "               <span style=\"color: #008000; text-decoration-color: #008000\">\"name\"</span>: <span style=\"color: #008000; text-decoration-color: #008000\">\"search_knowledge_base\"</span>,                                                                    \n",
       "               <span style=\"color: #008000; text-decoration-color: #008000\">\"arguments\"</span>: <span style=\"color: #008000; text-decoration-color: #008000\">\"{\\\"query\\\": \\\"John\\\"}\"</span>                                                                \n",
       "             <span style=\"font-weight: bold\">}</span>                                                                                                     \n",
       "           <span style=\"font-weight: bold\">}</span>                                                                                                       \n",
       "         <span style=\"font-weight: bold\">]</span>                                                                                                         \n",
       "</pre>\n"
      ],
      "text/plain": [
       "\u001b[32mDEBUG   \u001b[0m Tool Calls: \u001b[1m[\u001b[0m                                                                                             \n",
       "           \u001b[1m{\u001b[0m                                                                                                       \n",
       "             \u001b[32m\"type\"\u001b[0m: \u001b[32m\"function\"\u001b[0m,                                                                                   \n",
       "             \u001b[32m\"function\"\u001b[0m: \u001b[1m{\u001b[0m                                                                                         \n",
       "               \u001b[32m\"name\"\u001b[0m: \u001b[32m\"search_knowledge_base\"\u001b[0m,                                                                    \n",
       "               \u001b[32m\"arguments\"\u001b[0m: \u001b[32m\"\u001b[0m\u001b[32m{\u001b[0m\u001b[32m\\\"query\\\": \\\"John\\\"\u001b[0m\u001b[32m}\u001b[0m\u001b[32m\"\u001b[0m                                                                \n",
       "             \u001b[1m}\u001b[0m                                                                                                     \n",
       "           \u001b[1m}\u001b[0m                                                                                                       \n",
       "         \u001b[1m]\u001b[0m                                                                                                         \n"
      ]
     },
     "metadata": {},
     "output_type": "display_data"
    },
    {
     "data": {
      "text/html": [
       "<pre style=\"white-space:pre;overflow-x:auto;line-height:normal;font-family:Menlo,'DejaVu Sans Mono',consolas,'Courier New',monospace\"><span style=\"color: #008000; text-decoration-color: #008000\">DEBUG   </span> **************** METRICS ****************                                                                 \n",
       "</pre>\n"
      ],
      "text/plain": [
       "\u001b[32mDEBUG   \u001b[0m **************** METRICS ****************                                                                 \n"
      ]
     },
     "metadata": {},
     "output_type": "display_data"
    },
    {
     "data": {
      "text/html": [
       "<pre style=\"white-space:pre;overflow-x:auto;line-height:normal;font-family:Menlo,'DejaVu Sans Mono',consolas,'Courier New',monospace\"><span style=\"color: #008000; text-decoration-color: #008000\">DEBUG   </span> * Input tokens:                <span style=\"color: #008080; text-decoration-color: #008080; font-weight: bold\">180</span>                                                                        \n",
       "</pre>\n"
      ],
      "text/plain": [
       "\u001b[32mDEBUG   \u001b[0m * Input tokens:                \u001b[1;36m180\u001b[0m                                                                        \n"
      ]
     },
     "metadata": {},
     "output_type": "display_data"
    },
    {
     "data": {
      "text/html": [
       "<pre style=\"white-space:pre;overflow-x:auto;line-height:normal;font-family:Menlo,'DejaVu Sans Mono',consolas,'Courier New',monospace\"><span style=\"color: #008000; text-decoration-color: #008000\">DEBUG   </span> * Output tokens:               <span style=\"color: #008080; text-decoration-color: #008080; font-weight: bold\">19</span>                                                                         \n",
       "</pre>\n"
      ],
      "text/plain": [
       "\u001b[32mDEBUG   \u001b[0m * Output tokens:               \u001b[1;36m19\u001b[0m                                                                         \n"
      ]
     },
     "metadata": {},
     "output_type": "display_data"
    },
    {
     "data": {
      "text/html": [
       "<pre style=\"white-space:pre;overflow-x:auto;line-height:normal;font-family:Menlo,'DejaVu Sans Mono',consolas,'Courier New',monospace\"><span style=\"color: #008000; text-decoration-color: #008000\">DEBUG   </span> * Total tokens:                <span style=\"color: #008080; text-decoration-color: #008080; font-weight: bold\">199</span>                                                                        \n",
       "</pre>\n"
      ],
      "text/plain": [
       "\u001b[32mDEBUG   \u001b[0m * Total tokens:                \u001b[1;36m199\u001b[0m                                                                        \n"
      ]
     },
     "metadata": {},
     "output_type": "display_data"
    },
    {
     "data": {
      "text/html": [
       "<pre style=\"white-space:pre;overflow-x:auto;line-height:normal;font-family:Menlo,'DejaVu Sans Mono',consolas,'Courier New',monospace\"><span style=\"color: #008000; text-decoration-color: #008000\">DEBUG   </span> * Time:                        <span style=\"color: #008080; text-decoration-color: #008080; font-weight: bold\">16.</span>2670s                                                                   \n",
       "</pre>\n"
      ],
      "text/plain": [
       "\u001b[32mDEBUG   \u001b[0m * Time:                        \u001b[1;36m16.\u001b[0m2670s                                                                   \n"
      ]
     },
     "metadata": {},
     "output_type": "display_data"
    },
    {
     "data": {
      "text/html": [
       "<pre style=\"white-space:pre;overflow-x:auto;line-height:normal;font-family:Menlo,'DejaVu Sans Mono',consolas,'Courier New',monospace\"><span style=\"color: #008000; text-decoration-color: #008000\">DEBUG   </span> * Tokens per second:           <span style=\"color: #008080; text-decoration-color: #008080; font-weight: bold\">1.1680</span> tokens/s                                                            \n",
       "</pre>\n"
      ],
      "text/plain": [
       "\u001b[32mDEBUG   \u001b[0m * Tokens per second:           \u001b[1;36m1.1680\u001b[0m tokens/s                                                            \n"
      ]
     },
     "metadata": {},
     "output_type": "display_data"
    },
    {
     "data": {
      "text/html": [
       "<pre style=\"white-space:pre;overflow-x:auto;line-height:normal;font-family:Menlo,'DejaVu Sans Mono',consolas,'Courier New',monospace\"><span style=\"color: #008000; text-decoration-color: #008000\">DEBUG   </span> * Additional metrics:          <span style=\"font-weight: bold\">{</span><span style=\"color: #008000; text-decoration-color: #008000\">'total_duration'</span>: <span style=\"color: #008080; text-decoration-color: #008080; font-weight: bold\">16265193400</span>, <span style=\"color: #008000; text-decoration-color: #008000\">'load_duration'</span>: <span style=\"color: #008080; text-decoration-color: #008080; font-weight: bold\">23317200</span>,                 \n",
       "         <span style=\"color: #008000; text-decoration-color: #008000\">'prompt_eval_duration'</span>: <span style=\"color: #008080; text-decoration-color: #008080; font-weight: bold\">14312000000</span>, <span style=\"color: #008000; text-decoration-color: #008000\">'eval_duration'</span>: <span style=\"color: #008080; text-decoration-color: #008080; font-weight: bold\">1929000000</span><span style=\"font-weight: bold\">}</span>                                         \n",
       "</pre>\n"
      ],
      "text/plain": [
       "\u001b[32mDEBUG   \u001b[0m * Additional metrics:          \u001b[1m{\u001b[0m\u001b[32m'total_duration'\u001b[0m: \u001b[1;36m16265193400\u001b[0m, \u001b[32m'load_duration'\u001b[0m: \u001b[1;36m23317200\u001b[0m,                 \n",
       "         \u001b[32m'prompt_eval_duration'\u001b[0m: \u001b[1;36m14312000000\u001b[0m, \u001b[32m'eval_duration'\u001b[0m: \u001b[1;36m1929000000\u001b[0m\u001b[1m}\u001b[0m                                         \n"
      ]
     },
     "metadata": {},
     "output_type": "display_data"
    },
    {
     "data": {
      "text/html": [
       "<pre style=\"white-space:pre;overflow-x:auto;line-height:normal;font-family:Menlo,'DejaVu Sans Mono',consolas,'Courier New',monospace\"><span style=\"color: #008000; text-decoration-color: #008000\">DEBUG   </span> **************** METRICS ******************                                                               \n",
       "</pre>\n"
      ],
      "text/plain": [
       "\u001b[32mDEBUG   \u001b[0m **************** METRICS ******************                                                               \n"
      ]
     },
     "metadata": {},
     "output_type": "display_data"
    },
    {
     "data": {
      "text/html": [
       "<pre style=\"white-space:pre;overflow-x:auto;line-height:normal;font-family:Menlo,'DejaVu Sans Mono',consolas,'Courier New',monospace\"><span style=\"color: #008000; text-decoration-color: #008000\">DEBUG   </span> ============== tool ==============                                                                        \n",
       "</pre>\n"
      ],
      "text/plain": [
       "\u001b[32mDEBUG   \u001b[0m ============== tool ==============                                                                        \n"
      ]
     },
     "metadata": {},
     "output_type": "display_data"
    },
    {
     "data": {
      "text/html": [
       "<pre style=\"white-space:pre;overflow-x:auto;line-height:normal;font-family:Menlo,'DejaVu Sans Mono',consolas,'Courier New',monospace\"><span style=\"color: #008000; text-decoration-color: #008000\">DEBUG   </span> <span style=\"font-weight: bold\">[</span>                                                                                                         \n",
       "           <span style=\"font-weight: bold\">{</span>                                                                                                       \n",
       "             <span style=\"color: #008000; text-decoration-color: #008000\">\"name\"</span>: <span style=\"color: #008000; text-decoration-color: #008000\">\"employees\"</span>,                                                                                  \n",
       "             <span style=\"color: #008000; text-decoration-color: #008000\">\"meta_data\"</span>: <span style=\"font-weight: bold\">{</span>                                                                                        \n",
       "               <span style=\"color: #008000; text-decoration-color: #008000\">\"chunk\"</span>: <span style=\"color: #008080; text-decoration-color: #008080; font-weight: bold\">2</span>,                                                                                         \n",
       "               <span style=\"color: #008000; text-decoration-color: #008000\">\"chunk_size\"</span>: <span style=\"color: #008080; text-decoration-color: #008080; font-weight: bold\">2578</span>                                                                                  \n",
       "             <span style=\"font-weight: bold\">}</span>,                                                                                                    \n",
       "             <span style=\"color: #008000; text-decoration-color: #008000\">\"content\"</span>: <span style=\"color: #008000; text-decoration-color: #008000\">\" Manager, 34, 75000, 2014-12-07 167, Sarah, James, Human Resources, Compensation Analyst, </span>\n",
       "         <span style=\"color: #008000; text-decoration-color: #008000\">29, 70000, 2019-09-21 168, Anthony, Watson, Engineering, Systems Engineer, 35, 80000, 2016-06-03 169, </span>    \n",
       "         <span style=\"color: #008000; text-decoration-color: #008000\">Michelle, Brooks, Marketing, SEO Manager, 31, 72000, 2020-01-16 170, Daniel, Kelly, Finance, Financial </span>   \n",
       "         <span style=\"color: #008000; text-decoration-color: #008000\">Controller, 38, 90000, 2013-07-25 171, Laura, Sanders, Engineering, Network Engineer, 30, 78000, </span>         \n",
       "         <span style=\"color: #008000; text-decoration-color: #008000\">2017-11-11 172, Thomas, Price, Sales, Sales Operations Manager, 33, 69000, 2015-04-19 173, Amanda, </span>       \n",
       "         <span style=\"color: #008000; text-decoration-color: #008000\">Bennett, Customer Support, Customer Experience Manager, 28, 62000, 2021-08-30 174, Christopher, Wood, </span>    \n",
       "         <span style=\"color: #008000; text-decoration-color: #008000\">Human Resources, HR Director, 42, 95000, 2012-10-22 175, Jessica, Barnes, Marketing, Content Editor, 27, </span> \n",
       "         <span style=\"color: #008000; text-decoration-color: #008000\">58000, 2022-02-14 176, Matthew, Ross, Engineering, Software Developer, 29, 74000, 2018-09-05 177, Susan, </span> \n",
       "         <span style=\"color: #008000; text-decoration-color: #008000\">Henderson, Finance, Auditor, 36, 83000, 2014-05-17 178, Andrew, Reyes, Marketing, Social Media </span>           \n",
       "         <span style=\"color: #008000; text-decoration-color: #008000\">Coordinator, 25, 54000, 2022-06-28 179, Karen, Stevens, Customer Support, Support Technician, 31, 60000, </span> \n",
       "         <span style=\"color: #008000; text-decoration-color: #008000\">2019-03-09 180, Joshua, Morris, Engineering, Front-End Developer, 34, 80000, 2016-12-20 181, Dorothy, </span>    \n",
       "         <span style=\"color: #008000; text-decoration-color: #008000\">Foster, Sales, Account Manager, 30, 66000, 2018-07-13 182, Charles, Gonzales, Human Resources, Recruitment</span>\n",
       "         <span style=\"color: #008000; text-decoration-color: #008000\">Manager, 37, 85000, 2013-09-29 183, Melissa, Bryant, Marketing, Marketing Coordinator, 28, 61000, </span>        \n",
       "         <span style=\"color: #008000; text-decoration-color: #008000\">2020-04-25 184, Robert, Alexander, Engineering, Back-End Developer, 32, 77000, 2017-02-08 185, Angela, </span>   \n",
       "         <span style=\"color: #008000; text-decoration-color: #008000\">Russell, Finance, Financial Analyst, 35, 82000, 2015-08-16 186, Steven, Griffin, Marketing, Advertising </span>  \n",
       "         <span style=\"color: #008000; text-decoration-color: #008000\">Manager, 39, 90000, 2012-11-03 187, Rebecca, Diaz, Customer Support, Client Support Specialist, 29, 63000,</span>\n",
       "         <span style=\"color: #008000; text-decoration-color: #008000\">2019-05-27 188, Kevin, Hayes, Engineering, Software Engineer, 31, 76000, 2018-10-19 189, Sarah, Mendoza, </span> \n",
       "         <span style=\"color: #008000; text-decoration-color: #008000\">Human Resources, HR Assistant, 26, 58000, 2021-01-07 190, James, Fisher, Sales, Sales Representative, 28, </span>\n",
       "         <span style=\"color: #008000; text-decoration-color: #008000\">61000, 2020-09-14 191, Linda, Sullivan, Marketing, Content Creator, 34, 70000, 2016-07-22 192, Thomas, </span>   \n",
       "         <span style=\"color: #008000; text-decoration-color: #008000\">Little, Engineering, DevOps Specialist, 33, 79000, 2017-04-30 193, Nancy, Bates, Finance, Senior </span>         \n",
       "         <span style=\"color: #008000; text-decoration-color: #008000\">Accountant, 40, 88000, 2013-06-11 194, Daniel, Harrison, Marketing, Product Manager, 30, 75000, 2018-03-05</span>\n",
       "         <span style=\"color: #008000; text-decoration-color: #008000\">195, Barbara, Stone, Customer Support, Support Lead, 32, 72000, 2019-12-18 196, Matthew, Graham, </span>         \n",
       "         <span style=\"color: #008000; text-decoration-color: #008000\">Engineering, Software Architect, 38, 105000, 2014-08-09 197, Karen, West, Human Resources, HR Manager, 36,</span>\n",
       "         <span style=\"color: #008000; text-decoration-color: #008000\">82000, 2015-10-27 198, Robert, Jordan, Sales, Regional Manager, 39, 89000, 2013-05-16 199, Jessica, Owens,</span>\n",
       "         <span style=\"color: #008000; text-decoration-color: #008000\">Marketing, Digital Strategist, 29, 68000, 2020-02-23 200, Justin, Peterson, Engineering, Data Analyst, 31,</span>\n",
       "         <span style=\"color: #008000; text-decoration-color: #008000\">76000, 2017-09-07 \"</span>                                                                                       \n",
       "           <span style=\"font-weight: bold\">}</span>,                                                                                                      \n",
       "           <span style=\"font-weight: bold\">{</span>                                                                                                       \n",
       "             <span style=\"color: #008000; text-decoration-color: #008000\">\"name\"</span>: <span style=\"color: #008000; text-decoration-color: #008000\">\"employees\"</span>,                                                                                  \n",
       "             <span style=\"color: #008000; text-decoration-color: #008000\">\"meta_data\"</span>: <span style=\"font-weight: bold\">{</span>                                                                                        \n",
       "               <span style=\"color: #008000; text-decoration-color: #008000\">\"chunk\"</span>: <span style=\"color: #008080; text-decoration-color: #008080; font-weight: bold\">1</span>,                                                                                         \n",
       "               <span style=\"color: #008000; text-decoration-color: #008000\">\"chunk_size\"</span>: <span style=\"color: #008080; text-decoration-color: #008080; font-weight: bold\">4994</span>                                                                                  \n",
       "             <span style=\"font-weight: bold\">}</span>,                                                                                                    \n",
       "             <span style=\"color: #008000; text-decoration-color: #008000\">\"content\"</span>: <span style=\"color: #008000; text-decoration-color: #008000\">\"EmployeeID, FirstName, LastName, Department, Role, Age, Salary, StartDate 101, John, Doe, </span>\n",
       "         <span style=\"color: #008000; text-decoration-color: #008000\">Engineering, Software Engineer, 28, 75000, 2018-06-15 102, Jane, Smith, Marketing, Content Strategist, 32,</span>\n",
       "         <span style=\"color: #008000; text-decoration-color: #008000\">68000, 2019-09-01 103, Emily, Jones, Human Resources, HR Manager, 45, 82000, 2015-03-22 104, Michael, </span>    \n",
       "         <span style=\"color: #008000; text-decoration-color: #008000\">Brown, Engineering, DevOps Engineer, 30, 78000, 2020-11-12 105, Sarah, Davis, Sales, Sales Executive, 29, </span>\n",
       "         <span style=\"color: #008000; text-decoration-color: #008000\">62000, 2021-07-30 106, David, Wilson, Engineering, Data Scientist, 34, 91000, 2017-01-10 107, Linda, </span>     \n",
       "         <span style=\"color: #008000; text-decoration-color: #008000\">Taylor, Customer Support, Support Specialist, 26, 50000, 2022-04-18 108, Robert, Anderson, Marketing, SEO </span>\n",
       "         <span style=\"color: #008000; text-decoration-color: #008000\">Specialist, 39, 70000, 2016-08-05 109, Patricia, Thomas, Sales, Account Manager, 31, 66000, 2018-12-20 </span>   \n",
       "         <span style=\"color: #008000; text-decoration-color: #008000\">110, James, Jackson, Engineering, Product Manager, 37, 88000, 2014-05-14 111, Karen, White, Finance, </span>     \n",
       "         <span style=\"color: #008000; text-decoration-color: #008000\">Accountant, 41, 73000, 2013-02-28 112, Charles, Harris, Engineering, Backend Developer, 33, 80000, </span>       \n",
       "         <span style=\"color: #008000; text-decoration-color: #008000\">2019-10-10 113, Barbara, Martin, Marketing, Graphic Designer, 27, 59000, 2020-03-17 114, Thomas, Thompson,</span>\n",
       "         <span style=\"color: #008000; text-decoration-color: #008000\">Sales, Sales Manager, 36, 85000, 2015-07-25 115, Mary, Garcia, Human Resources, Recruiter, 30, 65000, </span>    \n",
       "         <span style=\"color: #008000; text-decoration-color: #008000\">2018-11-05 116, Christopher, Martinez, Engineering, Frontend Developer, 29, 77000, 2021-01-19 117, </span>       \n",
       "         <span style=\"color: #008000; text-decoration-color: #008000\">Jessica, Robinson, Customer Support, Customer Service Manager, 38, 72000, 2016-09-30 118, Daniel, Clark, </span> \n",
       "         <span style=\"color: #008000; text-decoration-color: #008000\">Finance, Financial Analyst, 35, 80000, 2017-04-22 119, Susan, Lewis, Marketing, Social Media Manager, 33, </span>\n",
       "         <span style=\"color: #008000; text-decoration-color: #008000\">68000, 2019-06-14 120, Matthew, Lee, Engineering, Machine Learning Engineer, 31, 95000, 2018-08-03 121, </span>  \n",
       "         <span style=\"color: #008000; text-decoration-color: #008000\">Nancy, Walker, Sales, Sales Representative, 28, 60000, 2020-12-11 122, Anthony, Hall, Engineering, Quality</span>\n",
       "         <span style=\"color: #008000; text-decoration-color: #008000\">Assurance Engineer, 34, 75000, 2015-05-27 123, Donna, Allen, Human Resources, HR Coordinator, 29, 62000, </span> \n",
       "         <span style=\"color: #008000; text-decoration-color: #008000\">2021-03-09 124, Mark, Young, Marketing, Email Marketing Specialist, 32, 70000, 2017-07-16 125, Dorothy, </span>  \n",
       "         <span style=\"color: #008000; text-decoration-color: #008000\">Hernandez, Finance, Payroll Specialist, 40, 69000, 2014-10-21 126, Paul, King, Engineering, Full Stack </span>   \n",
       "         <span style=\"color: #008000; text-decoration-color: #008000\">Developer, 36, 82000, 2016-02-13 127, Michelle, Wright, Customer Support, Technical Support Engineer, 27, </span>\n",
       "         <span style=\"color: #008000; text-decoration-color: #008000\">58000, 2022-01-05 128, Steven, Lopez, Sales, Regional Sales Manager, 39, 88000, 2013-08-19 129, Laura, </span>   \n",
       "         <span style=\"color: #008000; text-decoration-color: #008000\">Scott, Marketing, Brand Manager, 34, 75000, 2018-04-08 130, George, Green, Engineering, Site Reliability </span> \n",
       "         <span style=\"color: #008000; text-decoration-color: #008000\">Engineer, 32, 81000, 2019-11-23 131, Elizabeth, Adams, Human Resources, Benefits Coordinator, 30, 64000, </span> \n",
       "         <span style=\"color: #008000; text-decoration-color: #008000\">2020-05-30 132, Kevin, Baker, Finance, Investment Analyst, 37, 92000, 2015-09-12 133, Angela, Gonzalez, </span>  \n",
       "         <span style=\"color: #008000; text-decoration-color: #008000\">Marketing, Market Research Analyst, 29, 66000, 2021-06-07 134, Brian, Nelson, Engineering, Embedded </span>      \n",
       "         <span style=\"color: #008000; text-decoration-color: #008000\">Systems Engineer, 35, 83000, 2017-12-18 135, Melissa, Carter, Customer Support, Client Relations Manager, </span>\n",
       "         <span style=\"color: #008000; text-decoration-color: #008000\">31, 71000, 2018-03-25 136, Edward, Mitchell, Sales, Inside Sales Representative, 28, 61000, 2020-10-14 </span>   \n",
       "         <span style=\"color: #008000; text-decoration-color: #008000\">137, Stephanie, Perez, Marketing, Content Writer, 26, 55000, 2022-07-09 138, Jason, Roberts, Engineering, </span>\n",
       "         <span style=\"color: #008000; text-decoration-color: #008000\">Data Engineer, 33, 79000, 2016-06-21 139, Rebecca, Turner, Human Resources, Training Specialist, 34, </span>     \n",
       "         <span style=\"color: #008000; text-decoration-color: #008000\">68000, 2019-02-05 140, Jeffrey, Phillips, Finance, Controller, 42, 95000, 2013-04-17 141, Sharon, </span>        \n",
       "         <span style=\"color: #008000; text-decoration-color: #008000\">Campbell, Marketing, Public Relations Manager, 38, 72000, 2015-08-29 142, Ryan, Parker, Engineering, </span>     \n",
       "         <span style=\"color: #008000; text-decoration-color: #008000\">Security Engineer, 30, 80000, 2018-01-11 143, Katherine, Evans, Sales, Sales Associate, 27, 59000, </span>       \n",
       "         <span style=\"color: #008000; text-decoration-color: #008000\">2021-09-03 144, Gary, Edwards, Customer Support, Support Analyst, 29, 63000, 2019-05-19 145, Carol, </span>      \n",
       "         <span style=\"color: #008000; text-decoration-color: #008000\">Collins, Human Resources, HR Generalist, 36, 70000, 2014-11-07 146, Eric, Stewart, Engineering, Software </span> \n",
       "         <span style=\"color: #008000; text-decoration-color: #008000\">Architect, 40, 105000, 2012-07-22 147, Michelle, Sanchez, Marketing, Digital Marketing Manager, 33, 76000,</span>\n",
       "         <span style=\"color: #008000; text-decoration-color: #008000\">2017-03-30 148, Stephen, Morris, Finance, Tax Specialist, 39, 85000, 2016-10-05 149, Emily, Rogers, </span>      \n",
       "         <span style=\"color: #008000; text-decoration-color: #008000\">Engineering, Mobile Developer, 28, 74000, 2020-02-14 150, Justin, Reed, Sales, Account Executive, 31, </span>    \n",
       "         <span style=\"color: #008000; text-decoration-color: #008000\">67000, 2018-06-09 151, Laura, Cook, Customer Support, Customer Success Manager, 35, 72000, 2015-12-25 152,</span>\n",
       "         <span style=\"color: #008000; text-decoration-color: #008000\">Joshua, Morgan, Engineering, Cloud Engineer, 32, 81000, 2019-08-16 153, Ashley, Bell, Marketing, Content </span> \n",
       "         <span style=\"color: #008000; text-decoration-color: #008000\">Marketing Manager, 29, 69000, 2021-04-20 154, Brandon, Murphy, Finance, Financial Planner, 34, 78000, </span>    \n",
       "         <span style=\"color: #008000; text-decoration-color: #008000\">2017-05-13 155, Kimberly, Bailey, Human Resources, HR Assistant, 26, 56000, 2022-03-08 156, Adam, Rivera, </span>\n",
       "         <span style=\"color: #008000; text-decoration-color: #008000\">Engineering, AI Engineer, 37, 93000, 2014-09-27 157, Melissa, Cooper, Sales, Sales Director, 40, 98000, </span>  \n",
       "         <span style=\"color: #008000; text-decoration-color: #008000\">2013-01-19 158, Jason, Richardson, Marketing, Product Marketing Manager, 31, 73000, 2018-11-02 159, </span>      \n",
       "         <span style=\"color: #008000; text-decoration-color: #008000\">Amanda, Cox, Customer Support, Support Lead, 28, 61000, 2020-07-23 160, Kevin, Howard, Engineering, </span>      \n",
       "         <span style=\"color: #008000; text-decoration-color: #008000\">Software Tester, 29, 70000, 2019-10-30 161, Rebecca, Ward, Human Resources, HR Specialist, 33, 68000, </span>    \n",
       "         <span style=\"color: #008000; text-decoration-color: #008000\">2016-04-12 162, Brian, Torres, Finance, Accounts Payable Clerk, 27, 50000, 2021-02-05 163, Stephanie, </span>    \n",
       "         <span style=\"color: #008000; text-decoration-color: #008000\">Peterson, Marketing, Graphic Artist, 30, 65000, 2017-08-18 164, Mark, Gray, Engineering, Database </span>        \n",
       "         <span style=\"color: #008000; text-decoration-color: #008000\">Administrator, 36, 82000, 2015-03-14 165, Angela, Ramirez, Sales, Sales Consultant, 32, 64000, 2018-05-29 </span>\n",
       "         <span style=\"color: #008000; text-decoration-color: #008000\">166, Justin, Cruz, Customer Support, Technical Support\"</span>                                                   \n",
       "           <span style=\"font-weight: bold\">}</span>                                                                                                       \n",
       "         <span style=\"font-weight: bold\">]</span>                                                                                                         \n",
       "</pre>\n"
      ],
      "text/plain": [
       "\u001b[32mDEBUG   \u001b[0m \u001b[1m[\u001b[0m                                                                                                         \n",
       "           \u001b[1m{\u001b[0m                                                                                                       \n",
       "             \u001b[32m\"name\"\u001b[0m: \u001b[32m\"employees\"\u001b[0m,                                                                                  \n",
       "             \u001b[32m\"meta_data\"\u001b[0m: \u001b[1m{\u001b[0m                                                                                        \n",
       "               \u001b[32m\"chunk\"\u001b[0m: \u001b[1;36m2\u001b[0m,                                                                                         \n",
       "               \u001b[32m\"chunk_size\"\u001b[0m: \u001b[1;36m2578\u001b[0m                                                                                  \n",
       "             \u001b[1m}\u001b[0m,                                                                                                    \n",
       "             \u001b[32m\"content\"\u001b[0m: \u001b[32m\" Manager, 34, 75000, 2014-12-07 167, Sarah, James, Human Resources, Compensation Analyst, \u001b[0m\n",
       "         \u001b[32m29, 70000, 2019-09-21 168, Anthony, Watson, Engineering, Systems Engineer, 35, 80000, 2016-06-03 169, \u001b[0m    \n",
       "         \u001b[32mMichelle, Brooks, Marketing, SEO Manager, 31, 72000, 2020-01-16 170, Daniel, Kelly, Finance, Financial \u001b[0m   \n",
       "         \u001b[32mController, 38, 90000, 2013-07-25 171, Laura, Sanders, Engineering, Network Engineer, 30, 78000, \u001b[0m         \n",
       "         \u001b[32m2017-11-11 172, Thomas, Price, Sales, Sales Operations Manager, 33, 69000, 2015-04-19 173, Amanda, \u001b[0m       \n",
       "         \u001b[32mBennett, Customer Support, Customer Experience Manager, 28, 62000, 2021-08-30 174, Christopher, Wood, \u001b[0m    \n",
       "         \u001b[32mHuman Resources, HR Director, 42, 95000, 2012-10-22 175, Jessica, Barnes, Marketing, Content Editor, 27, \u001b[0m \n",
       "         \u001b[32m58000, 2022-02-14 176, Matthew, Ross, Engineering, Software Developer, 29, 74000, 2018-09-05 177, Susan, \u001b[0m \n",
       "         \u001b[32mHenderson, Finance, Auditor, 36, 83000, 2014-05-17 178, Andrew, Reyes, Marketing, Social Media \u001b[0m           \n",
       "         \u001b[32mCoordinator, 25, 54000, 2022-06-28 179, Karen, Stevens, Customer Support, Support Technician, 31, 60000, \u001b[0m \n",
       "         \u001b[32m2019-03-09 180, Joshua, Morris, Engineering, Front-End Developer, 34, 80000, 2016-12-20 181, Dorothy, \u001b[0m    \n",
       "         \u001b[32mFoster, Sales, Account Manager, 30, 66000, 2018-07-13 182, Charles, Gonzales, Human Resources, Recruitment\u001b[0m\n",
       "         \u001b[32mManager, 37, 85000, 2013-09-29 183, Melissa, Bryant, Marketing, Marketing Coordinator, 28, 61000, \u001b[0m        \n",
       "         \u001b[32m2020-04-25 184, Robert, Alexander, Engineering, Back-End Developer, 32, 77000, 2017-02-08 185, Angela, \u001b[0m   \n",
       "         \u001b[32mRussell, Finance, Financial Analyst, 35, 82000, 2015-08-16 186, Steven, Griffin, Marketing, Advertising \u001b[0m  \n",
       "         \u001b[32mManager, 39, 90000, 2012-11-03 187, Rebecca, Diaz, Customer Support, Client Support Specialist, 29, 63000,\u001b[0m\n",
       "         \u001b[32m2019-05-27 188, Kevin, Hayes, Engineering, Software Engineer, 31, 76000, 2018-10-19 189, Sarah, Mendoza, \u001b[0m \n",
       "         \u001b[32mHuman Resources, HR Assistant, 26, 58000, 2021-01-07 190, James, Fisher, Sales, Sales Representative, 28, \u001b[0m\n",
       "         \u001b[32m61000, 2020-09-14 191, Linda, Sullivan, Marketing, Content Creator, 34, 70000, 2016-07-22 192, Thomas, \u001b[0m   \n",
       "         \u001b[32mLittle, Engineering, DevOps Specialist, 33, 79000, 2017-04-30 193, Nancy, Bates, Finance, Senior \u001b[0m         \n",
       "         \u001b[32mAccountant, 40, 88000, 2013-06-11 194, Daniel, Harrison, Marketing, Product Manager, 30, 75000, 2018-03-05\u001b[0m\n",
       "         \u001b[32m195, Barbara, Stone, Customer Support, Support Lead, 32, 72000, 2019-12-18 196, Matthew, Graham, \u001b[0m         \n",
       "         \u001b[32mEngineering, Software Architect, 38, 105000, 2014-08-09 197, Karen, West, Human Resources, HR Manager, 36,\u001b[0m\n",
       "         \u001b[32m82000, 2015-10-27 198, Robert, Jordan, Sales, Regional Manager, 39, 89000, 2013-05-16 199, Jessica, Owens,\u001b[0m\n",
       "         \u001b[32mMarketing, Digital Strategist, 29, 68000, 2020-02-23 200, Justin, Peterson, Engineering, Data Analyst, 31,\u001b[0m\n",
       "         \u001b[32m76000, 2017-09-07 \"\u001b[0m                                                                                       \n",
       "           \u001b[1m}\u001b[0m,                                                                                                      \n",
       "           \u001b[1m{\u001b[0m                                                                                                       \n",
       "             \u001b[32m\"name\"\u001b[0m: \u001b[32m\"employees\"\u001b[0m,                                                                                  \n",
       "             \u001b[32m\"meta_data\"\u001b[0m: \u001b[1m{\u001b[0m                                                                                        \n",
       "               \u001b[32m\"chunk\"\u001b[0m: \u001b[1;36m1\u001b[0m,                                                                                         \n",
       "               \u001b[32m\"chunk_size\"\u001b[0m: \u001b[1;36m4994\u001b[0m                                                                                  \n",
       "             \u001b[1m}\u001b[0m,                                                                                                    \n",
       "             \u001b[32m\"content\"\u001b[0m: \u001b[32m\"EmployeeID, FirstName, LastName, Department, Role, Age, Salary, StartDate 101, John, Doe, \u001b[0m\n",
       "         \u001b[32mEngineering, Software Engineer, 28, 75000, 2018-06-15 102, Jane, Smith, Marketing, Content Strategist, 32,\u001b[0m\n",
       "         \u001b[32m68000, 2019-09-01 103, Emily, Jones, Human Resources, HR Manager, 45, 82000, 2015-03-22 104, Michael, \u001b[0m    \n",
       "         \u001b[32mBrown, Engineering, DevOps Engineer, 30, 78000, 2020-11-12 105, Sarah, Davis, Sales, Sales Executive, 29, \u001b[0m\n",
       "         \u001b[32m62000, 2021-07-30 106, David, Wilson, Engineering, Data Scientist, 34, 91000, 2017-01-10 107, Linda, \u001b[0m     \n",
       "         \u001b[32mTaylor, Customer Support, Support Specialist, 26, 50000, 2022-04-18 108, Robert, Anderson, Marketing, SEO \u001b[0m\n",
       "         \u001b[32mSpecialist, 39, 70000, 2016-08-05 109, Patricia, Thomas, Sales, Account Manager, 31, 66000, 2018-12-20 \u001b[0m   \n",
       "         \u001b[32m110, James, Jackson, Engineering, Product Manager, 37, 88000, 2014-05-14 111, Karen, White, Finance, \u001b[0m     \n",
       "         \u001b[32mAccountant, 41, 73000, 2013-02-28 112, Charles, Harris, Engineering, Backend Developer, 33, 80000, \u001b[0m       \n",
       "         \u001b[32m2019-10-10 113, Barbara, Martin, Marketing, Graphic Designer, 27, 59000, 2020-03-17 114, Thomas, Thompson,\u001b[0m\n",
       "         \u001b[32mSales, Sales Manager, 36, 85000, 2015-07-25 115, Mary, Garcia, Human Resources, Recruiter, 30, 65000, \u001b[0m    \n",
       "         \u001b[32m2018-11-05 116, Christopher, Martinez, Engineering, Frontend Developer, 29, 77000, 2021-01-19 117, \u001b[0m       \n",
       "         \u001b[32mJessica, Robinson, Customer Support, Customer Service Manager, 38, 72000, 2016-09-30 118, Daniel, Clark, \u001b[0m \n",
       "         \u001b[32mFinance, Financial Analyst, 35, 80000, 2017-04-22 119, Susan, Lewis, Marketing, Social Media Manager, 33, \u001b[0m\n",
       "         \u001b[32m68000, 2019-06-14 120, Matthew, Lee, Engineering, Machine Learning Engineer, 31, 95000, 2018-08-03 121, \u001b[0m  \n",
       "         \u001b[32mNancy, Walker, Sales, Sales Representative, 28, 60000, 2020-12-11 122, Anthony, Hall, Engineering, Quality\u001b[0m\n",
       "         \u001b[32mAssurance Engineer, 34, 75000, 2015-05-27 123, Donna, Allen, Human Resources, HR Coordinator, 29, 62000, \u001b[0m \n",
       "         \u001b[32m2021-03-09 124, Mark, Young, Marketing, Email Marketing Specialist, 32, 70000, 2017-07-16 125, Dorothy, \u001b[0m  \n",
       "         \u001b[32mHernandez, Finance, Payroll Specialist, 40, 69000, 2014-10-21 126, Paul, King, Engineering, Full Stack \u001b[0m   \n",
       "         \u001b[32mDeveloper, 36, 82000, 2016-02-13 127, Michelle, Wright, Customer Support, Technical Support Engineer, 27, \u001b[0m\n",
       "         \u001b[32m58000, 2022-01-05 128, Steven, Lopez, Sales, Regional Sales Manager, 39, 88000, 2013-08-19 129, Laura, \u001b[0m   \n",
       "         \u001b[32mScott, Marketing, Brand Manager, 34, 75000, 2018-04-08 130, George, Green, Engineering, Site Reliability \u001b[0m \n",
       "         \u001b[32mEngineer, 32, 81000, 2019-11-23 131, Elizabeth, Adams, Human Resources, Benefits Coordinator, 30, 64000, \u001b[0m \n",
       "         \u001b[32m2020-05-30 132, Kevin, Baker, Finance, Investment Analyst, 37, 92000, 2015-09-12 133, Angela, Gonzalez, \u001b[0m  \n",
       "         \u001b[32mMarketing, Market Research Analyst, 29, 66000, 2021-06-07 134, Brian, Nelson, Engineering, Embedded \u001b[0m      \n",
       "         \u001b[32mSystems Engineer, 35, 83000, 2017-12-18 135, Melissa, Carter, Customer Support, Client Relations Manager, \u001b[0m\n",
       "         \u001b[32m31, 71000, 2018-03-25 136, Edward, Mitchell, Sales, Inside Sales Representative, 28, 61000, 2020-10-14 \u001b[0m   \n",
       "         \u001b[32m137, Stephanie, Perez, Marketing, Content Writer, 26, 55000, 2022-07-09 138, Jason, Roberts, Engineering, \u001b[0m\n",
       "         \u001b[32mData Engineer, 33, 79000, 2016-06-21 139, Rebecca, Turner, Human Resources, Training Specialist, 34, \u001b[0m     \n",
       "         \u001b[32m68000, 2019-02-05 140, Jeffrey, Phillips, Finance, Controller, 42, 95000, 2013-04-17 141, Sharon, \u001b[0m        \n",
       "         \u001b[32mCampbell, Marketing, Public Relations Manager, 38, 72000, 2015-08-29 142, Ryan, Parker, Engineering, \u001b[0m     \n",
       "         \u001b[32mSecurity Engineer, 30, 80000, 2018-01-11 143, Katherine, Evans, Sales, Sales Associate, 27, 59000, \u001b[0m       \n",
       "         \u001b[32m2021-09-03 144, Gary, Edwards, Customer Support, Support Analyst, 29, 63000, 2019-05-19 145, Carol, \u001b[0m      \n",
       "         \u001b[32mCollins, Human Resources, HR Generalist, 36, 70000, 2014-11-07 146, Eric, Stewart, Engineering, Software \u001b[0m \n",
       "         \u001b[32mArchitect, 40, 105000, 2012-07-22 147, Michelle, Sanchez, Marketing, Digital Marketing Manager, 33, 76000,\u001b[0m\n",
       "         \u001b[32m2017-03-30 148, Stephen, Morris, Finance, Tax Specialist, 39, 85000, 2016-10-05 149, Emily, Rogers, \u001b[0m      \n",
       "         \u001b[32mEngineering, Mobile Developer, 28, 74000, 2020-02-14 150, Justin, Reed, Sales, Account Executive, 31, \u001b[0m    \n",
       "         \u001b[32m67000, 2018-06-09 151, Laura, Cook, Customer Support, Customer Success Manager, 35, 72000, 2015-12-25 152,\u001b[0m\n",
       "         \u001b[32mJoshua, Morgan, Engineering, Cloud Engineer, 32, 81000, 2019-08-16 153, Ashley, Bell, Marketing, Content \u001b[0m \n",
       "         \u001b[32mMarketing Manager, 29, 69000, 2021-04-20 154, Brandon, Murphy, Finance, Financial Planner, 34, 78000, \u001b[0m    \n",
       "         \u001b[32m2017-05-13 155, Kimberly, Bailey, Human Resources, HR Assistant, 26, 56000, 2022-03-08 156, Adam, Rivera, \u001b[0m\n",
       "         \u001b[32mEngineering, AI Engineer, 37, 93000, 2014-09-27 157, Melissa, Cooper, Sales, Sales Director, 40, 98000, \u001b[0m  \n",
       "         \u001b[32m2013-01-19 158, Jason, Richardson, Marketing, Product Marketing Manager, 31, 73000, 2018-11-02 159, \u001b[0m      \n",
       "         \u001b[32mAmanda, Cox, Customer Support, Support Lead, 28, 61000, 2020-07-23 160, Kevin, Howard, Engineering, \u001b[0m      \n",
       "         \u001b[32mSoftware Tester, 29, 70000, 2019-10-30 161, Rebecca, Ward, Human Resources, HR Specialist, 33, 68000, \u001b[0m    \n",
       "         \u001b[32m2016-04-12 162, Brian, Torres, Finance, Accounts Payable Clerk, 27, 50000, 2021-02-05 163, Stephanie, \u001b[0m    \n",
       "         \u001b[32mPeterson, Marketing, Graphic Artist, 30, 65000, 2017-08-18 164, Mark, Gray, Engineering, Database \u001b[0m        \n",
       "         \u001b[32mAdministrator, 36, 82000, 2015-03-14 165, Angela, Ramirez, Sales, Sales Consultant, 32, 64000, 2018-05-29 \u001b[0m\n",
       "         \u001b[32m166, Justin, Cruz, Customer Support, Technical Support\"\u001b[0m                                                   \n",
       "           \u001b[1m}\u001b[0m                                                                                                       \n",
       "         \u001b[1m]\u001b[0m                                                                                                         \n"
      ]
     },
     "metadata": {},
     "output_type": "display_data"
    },
    {
     "data": {
      "text/html": [
       "<pre style=\"white-space:pre;overflow-x:auto;line-height:normal;font-family:Menlo,'DejaVu Sans Mono',consolas,'Courier New',monospace\"><span style=\"color: #008000; text-decoration-color: #008000\">DEBUG   </span> **************** METRICS ****************                                                                 \n",
       "</pre>\n"
      ],
      "text/plain": [
       "\u001b[32mDEBUG   \u001b[0m **************** METRICS ****************                                                                 \n"
      ]
     },
     "metadata": {},
     "output_type": "display_data"
    },
    {
     "data": {
      "text/html": [
       "<pre style=\"white-space:pre;overflow-x:auto;line-height:normal;font-family:Menlo,'DejaVu Sans Mono',consolas,'Courier New',monospace\"><span style=\"color: #008000; text-decoration-color: #008000\">DEBUG   </span> * Time:                        <span style=\"color: #008080; text-decoration-color: #008080; font-weight: bold\">0.</span>4224s                                                                    \n",
       "</pre>\n"
      ],
      "text/plain": [
       "\u001b[32mDEBUG   \u001b[0m * Time:                        \u001b[1;36m0.\u001b[0m4224s                                                                    \n"
      ]
     },
     "metadata": {},
     "output_type": "display_data"
    },
    {
     "data": {
      "text/html": [
       "<pre style=\"white-space:pre;overflow-x:auto;line-height:normal;font-family:Menlo,'DejaVu Sans Mono',consolas,'Courier New',monospace\"><span style=\"color: #008000; text-decoration-color: #008000\">DEBUG   </span> **************** METRICS ******************                                                               \n",
       "</pre>\n"
      ],
      "text/plain": [
       "\u001b[32mDEBUG   \u001b[0m **************** METRICS ******************                                                               \n"
      ]
     },
     "metadata": {},
     "output_type": "display_data"
    }
   ],
   "source": [
    "agent.run(\"What is the LastName of the employee called John?\")"
   ]
  },
  {
   "cell_type": "code",
   "execution_count": 13,
   "metadata": {},
   "outputs": [],
   "source": [
    "# agent.run(\"How old is John Doe?\")\n",
    "# # #Latencia 26.7 s"
   ]
  },
  {
   "cell_type": "code",
   "execution_count": 11,
   "metadata": {},
   "outputs": [],
   "source": [
    "# agentic_agent = Agent(model=ollama_model,\n",
    "#             knowledge=knowledge_base,  \n",
    "#               # Add a tool to search the knowledge base which enables agentic RAG.\n",
    "#                # This is enabled by default when `knowledge` is provided to the Agent.\n",
    "#             search_knowledge=True,\n",
    "#             show_tool_calls=True,\n",
    "#             markdown=False)"
   ]
  },
  {
   "cell_type": "code",
   "execution_count": 12,
   "metadata": {},
   "outputs": [],
   "source": [
    "# agentic_agent.run(\"How old is John Doe?\")"
   ]
  }
 ],
 "metadata": {
  "kernelspec": {
   "display_name": ".venv",
   "language": "python",
   "name": "python3"
  },
  "language_info": {
   "codemirror_mode": {
    "name": "ipython",
    "version": 3
   },
   "file_extension": ".py",
   "mimetype": "text/x-python",
   "name": "python",
   "nbconvert_exporter": "python",
   "pygments_lexer": "ipython3",
   "version": "3.13.1"
  }
 },
 "nbformat": 4,
 "nbformat_minor": 2
}
