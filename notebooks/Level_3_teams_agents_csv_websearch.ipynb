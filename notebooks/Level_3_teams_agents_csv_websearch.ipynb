{
 "cells": [
  {
   "cell_type": "code",
   "execution_count": 13,
   "metadata": {},
   "outputs": [],
   "source": [
    "import getpass\n",
    "import os\n",
    "from pathlib import Path\n",
    "from dotenv import load_dotenv\n",
    "\n",
    "# Load the .env file\n",
    "_ = load_dotenv()"
   ]
  },
  {
   "cell_type": "code",
   "execution_count": 14,
   "metadata": {},
   "outputs": [],
   "source": [
    "from agno.models.huggingface import HuggingFace\n",
    "from agno.embedder.ollama import OllamaEmbedder\n",
    "from agno.models.ollama import Ollama\n",
    "from agno.models.huggingface import HuggingFace\n",
    "from agno.models.groq import Groq\n",
    "from agno.agent import Agent\n",
    "from agno.tools.duckduckgo import DuckDuckGoTools\n",
    "from agno.tools.csv_toolkit import CsvTools\n"
   ]
  },
  {
   "cell_type": "markdown",
   "metadata": {},
   "source": [
    "* LLM"
   ]
  },
  {
   "cell_type": "code",
   "execution_count": 15,
   "metadata": {},
   "outputs": [],
   "source": [
    "hf_model=HuggingFace(\n",
    "        id=\"meta-llama/Meta-Llama-3-8B-Instruct\",\n",
    "        api_key=os.getenv(\"HUGGINGFACE_API_TOKEN\"),\n",
    ")\n",
    "\n",
    "\n",
    "ollama_model=Ollama(id=\"llama3.2:3b\")\n",
    "\n",
    "groq_model=Groq(id=\"llama-3.1-8b-instant\",api_key=os.getenv(\"GROQ_API_KEY\"))"
   ]
  },
  {
   "cell_type": "code",
   "execution_count": 16,
   "metadata": {},
   "outputs": [],
   "source": [
    "ollama_embedder = OllamaEmbedder(id=\"nomic-embed-text:latest\",dimensions=768)"
   ]
  },
  {
   "cell_type": "markdown",
   "metadata": {},
   "source": [
    "### Web Searcher Agent"
   ]
  },
  {
   "cell_type": "code",
   "execution_count": 50,
   "metadata": {},
   "outputs": [
    {
     "name": "stdout",
     "output_type": "stream",
     "text": [
      " - Running: duckduckgo_search(query=Thomas Edison biographylife, max_results=5)\n",
      "\n",
      "It seems that Thomas Edison was an American inventor and businessman who developed many devices in fields such as electric power generation, mass communication, sound recording, and motion pictures. He is best known for his inventions of the phonograph, the motion picture camera, and early versions of the electric light bulb. Edison took out 1,093 patents in a variety of fields, including electric light and power, telephony and motion pictures. He was homeschooled by his mother due to being considered too difficult as a child.\n"
     ]
    }
   ],
   "source": [
    "web_searcher = Agent(model=groq_model, \n",
    "                     tools=[DuckDuckGoTools()], \n",
    "                     name=\"Web Searcher\",  \n",
    "                     role=\"Searches the web for information on a topic\", \n",
    "                     show_tool_calls=True,\n",
    "                     markdown=False)\n",
    "\n",
    "response = web_searcher.run(\"Who is Thomas Edison?\")\n",
    "print(response.content) #latencia 1min 50"
   ]
  },
  {
   "cell_type": "markdown",
   "metadata": {},
   "source": [
    "### Csv Agent"
   ]
  },
  {
   "cell_type": "code",
   "execution_count": 68,
   "metadata": {},
   "outputs": [],
   "source": [
    "csv_agent = Agent(\n",
    "    model=groq_model,\n",
    "    name=\"Csv Agent\",\n",
    "    role=\"Response to questions about employees csv file\",\n",
    "    tools=[CsvTools(csvs=[\"../data/employees.csv\"])],\n",
    "    markdown=False,\n",
    "    show_tool_calls=True,\n",
    "    debug_mode=False,\n",
    "    instructions=[\n",
    "        \"First always get the list of files\",\n",
    "        \"Then check the columns in the file\",\n",
    "        \"Then run the query to answer the question\",\n",
    "        \"Always wrap column names with double quotes if they contain spaces or special characters\",\n",
    "        \"Remember to escape the quotes in the JSON string (use \\\")\",\n",
    "        \"Use single quotes for string values\"\n",
    "    ],\n",
    ")\n",
    "\n"
   ]
  },
  {
   "cell_type": "code",
   "execution_count": 73,
   "metadata": {},
   "outputs": [
    {
     "data": {
      "text/html": [
       "<pre style=\"white-space:pre;overflow-x:auto;line-height:normal;font-family:Menlo,'DejaVu Sans Mono',consolas,'Courier New',monospace\"><span style=\"color: #000080; text-decoration-color: #000080\">INFO    </span> Reading columns from file: employees                                                                      \n",
       "</pre>\n"
      ],
      "text/plain": [
       "\u001b[34mINFO    \u001b[0m Reading columns from file: employees                                                                      \n"
      ]
     },
     "metadata": {},
     "output_type": "display_data"
    },
    {
     "data": {
      "text/html": [
       "<pre style=\"white-space:pre;overflow-x:auto;line-height:normal;font-family:Menlo,'DejaVu Sans Mono',consolas,'Courier New',monospace\"><span style=\"color: #000080; text-decoration-color: #000080\">INFO    </span> Loading csv file: employees                                                                               \n",
       "</pre>\n"
      ],
      "text/plain": [
       "\u001b[34mINFO    \u001b[0m Loading csv file: employees                                                                               \n"
      ]
     },
     "metadata": {},
     "output_type": "display_data"
    },
    {
     "data": {
      "text/html": [
       "<pre style=\"white-space:pre;overflow-x:auto;line-height:normal;font-family:Menlo,'DejaVu Sans Mono',consolas,'Courier New',monospace\"><span style=\"color: #000080; text-decoration-color: #000080\">INFO    </span> Running query: SELECT <span style=\"color: #800080; text-decoration-color: #800080; font-weight: bold\">MAX</span><span style=\"font-weight: bold\">(</span>Age<span style=\"font-weight: bold\">)</span> FROM <span style=\"color: #008000; text-decoration-color: #008000\">\"employees\"</span> WHERE <span style=\"color: #008000; text-decoration-color: #008000\">\"FirstName\"</span> = <span style=\"color: #008000; text-decoration-color: #008000\">'John'</span> AND <span style=\"color: #008000; text-decoration-color: #008000\">\"LastName\"</span> = <span style=\"color: #008000; text-decoration-color: #008000\">'Doe'</span>         \n",
       "</pre>\n"
      ],
      "text/plain": [
       "\u001b[34mINFO    \u001b[0m Running query: SELECT \u001b[1;35mMAX\u001b[0m\u001b[1m(\u001b[0mAge\u001b[1m)\u001b[0m FROM \u001b[32m\"employees\"\u001b[0m WHERE \u001b[32m\"FirstName\"\u001b[0m = \u001b[32m'John'\u001b[0m AND \u001b[32m\"LastName\"\u001b[0m = \u001b[32m'Doe'\u001b[0m         \n"
      ]
     },
     "metadata": {},
     "output_type": "display_data"
    },
    {
     "name": "stdout",
     "output_type": "stream",
     "text": [
      "Running:\n",
      " - list_csv_files()\n",
      " - get_columns(csv_name=employees)\n",
      " - query_csv_file(csv_name=employees, sql_query=SELECT MAX(Age) FROM \"employees\" WHERE \"FirstName\" = 'John' AND \"LastName\" = 'Doe')\n",
      "\n",
      "The maximum age of any person with the first name 'John' and the last name 'Doe' in the employees csv file is 28.\n"
     ]
    }
   ],
   "source": [
    "response = csv_agent.run(\"What is the age of the  person with the column FirstName equal to 'John'  and the column LastName  equal to 'Doe' ?\")\n",
    "print(response.content)"
   ]
  },
  {
   "cell_type": "code",
   "execution_count": 71,
   "metadata": {},
   "outputs": [
    {
     "data": {
      "text/html": [
       "<pre style=\"white-space:pre;overflow-x:auto;line-height:normal;font-family:Menlo,'DejaVu Sans Mono',consolas,'Courier New',monospace\"><span style=\"color: #000080; text-decoration-color: #000080\">INFO    </span> Reading columns from file: employees                                                                      \n",
       "</pre>\n"
      ],
      "text/plain": [
       "\u001b[34mINFO    \u001b[0m Reading columns from file: employees                                                                      \n"
      ]
     },
     "metadata": {},
     "output_type": "display_data"
    },
    {
     "data": {
      "text/html": [
       "<pre style=\"white-space:pre;overflow-x:auto;line-height:normal;font-family:Menlo,'DejaVu Sans Mono',consolas,'Courier New',monospace\"><span style=\"color: #000080; text-decoration-color: #000080\">INFO    </span> Loading csv file: employees                                                                               \n",
       "</pre>\n"
      ],
      "text/plain": [
       "\u001b[34mINFO    \u001b[0m Loading csv file: employees                                                                               \n"
      ]
     },
     "metadata": {},
     "output_type": "display_data"
    },
    {
     "data": {
      "text/html": [
       "<pre style=\"white-space:pre;overflow-x:auto;line-height:normal;font-family:Menlo,'DejaVu Sans Mono',consolas,'Courier New',monospace\"><span style=\"color: #000080; text-decoration-color: #000080\">INFO    </span> Running query: SELECT <span style=\"color: #008000; text-decoration-color: #008000\">\"Department\"</span> FROM employees WHERE <span style=\"color: #008000; text-decoration-color: #008000\">\"FirstName\"</span> = <span style=\"color: #008000; text-decoration-color: #008000\">'John'</span> AND <span style=\"color: #008000; text-decoration-color: #008000\">\"LastName\"</span> = <span style=\"color: #008000; text-decoration-color: #008000\">'Doe'</span>       \n",
       "</pre>\n"
      ],
      "text/plain": [
       "\u001b[34mINFO    \u001b[0m Running query: SELECT \u001b[32m\"Department\"\u001b[0m FROM employees WHERE \u001b[32m\"FirstName\"\u001b[0m = \u001b[32m'John'\u001b[0m AND \u001b[32m\"LastName\"\u001b[0m = \u001b[32m'Doe'\u001b[0m       \n"
      ]
     },
     "metadata": {},
     "output_type": "display_data"
    },
    {
     "name": "stdout",
     "output_type": "stream",
     "text": [
      "Running:\n",
      " - list_csv_files()\n",
      " - get_columns(csv_name=employees)\n",
      " - query_csv_file(csv_name=employees, sql_query=SELECT \"Department\" FROM employees WHERE \"FirstName\" = 'John' AND \"LastName\" = 'Doe')\n",
      "\n",
      "So the department of the person with the column FirstName equal to 'John'  and the column LastName  equal to 'Doe' is 'Engineering'.\n"
     ]
    }
   ],
   "source": [
    "response = csv_agent.run(\"What is the Department of the  person with the column FirstName equal to 'John'  and the column LastName  equal to 'Doe' ?\")\n",
    "print(response.content)"
   ]
  },
  {
   "cell_type": "markdown",
   "metadata": {},
   "source": [
    "### Multi-Agent Team"
   ]
  },
  {
   "cell_type": "code",
   "execution_count": 74,
   "metadata": {},
   "outputs": [],
   "source": [
    "team_leader = Agent(\n",
    "    name=\"Multi-Agent Team\",\n",
    "    role=\"Team leader agent\",\n",
    "    model=groq_model,\n",
    "    tools=[web_searcher,csv_agent],\n",
    "    show_tool_calls=True,\n",
    "    markdown=False,\n",
    "    debug_mode=False,\n",
    ")\n"
   ]
  },
  {
   "cell_type": "code",
   "execution_count": 82,
   "metadata": {},
   "outputs": [
    {
     "data": {
      "text/plain": [
       "\"To extract the Department of the person with the column 'FirstName' equal to 'John' and the column 'LastName' equal to 'Doe', I'll need to query a database. \\n\\nFor simplicity, let's assume we are working with a SQL database, and the table is named 'Employees'.\\n\\n```sql\\nCREATE TABLE Employees (\\n  Id INT PRIMARY KEY,\\n  FirstName NVARCHAR(50),\\n  LastName NVARCHAR(50),\\n  Department NVARCHAR(100)\\n);\\n```\\n\\nWe can query this table to find the Department of the person with the column 'FirstName' equal to 'John' and the column 'LastName' equal to 'Doe' as follows:\\n\\n```sql\\nSELECT Department \\nFROM Employees \\nWHERE FirstName = 'John' AND LastName = 'Doe';\\n```\\n\\nThis SQL query will return the Department of the person matching the specified criteria.\\n\\nHowever, if multiple employees have the same name, the above query will return all their departments. If you are looking for a single department (e.g., the first or any department), we can use the LIMIT keyword (in MySQL) or FETCH FIRST keyword (in SQL Server). \\n\\nHere's an example in MySQL:\\n\\n```sql\\nSELECT Department \\nFROM Employees \\nWHERE FirstName = 'John' AND LastName = 'Doe'\\nLIMIT 1;\\n```\\n\\nAnd here's an example in SQL Server:\\n\\n```sql\\nSELECT TOP 1 Department \\nFROM Employees \\nWHERE FirstName = 'John' AND LastName = 'Doe';\\n```\""
      ]
     },
     "execution_count": 82,
     "metadata": {},
     "output_type": "execute_result"
    }
   ],
   "source": [
    "team_leader.run(\"Who is Thomas Edison?\")\n",
    "response.content"
   ]
  },
  {
   "cell_type": "code",
   "execution_count": 81,
   "metadata": {},
   "outputs": [
    {
     "data": {
      "text/plain": [
       "\"To extract the Department of the person with the column 'FirstName' equal to 'John' and the column 'LastName' equal to 'Doe', I'll need to query a database. \\n\\nFor simplicity, let's assume we are working with a SQL database, and the table is named 'Employees'.\\n\\n```sql\\nCREATE TABLE Employees (\\n  Id INT PRIMARY KEY,\\n  FirstName NVARCHAR(50),\\n  LastName NVARCHAR(50),\\n  Department NVARCHAR(100)\\n);\\n```\\n\\nWe can query this table to find the Department of the person with the column 'FirstName' equal to 'John' and the column 'LastName' equal to 'Doe' as follows:\\n\\n```sql\\nSELECT Department \\nFROM Employees \\nWHERE FirstName = 'John' AND LastName = 'Doe';\\n```\\n\\nThis SQL query will return the Department of the person matching the specified criteria.\\n\\nHowever, if multiple employees have the same name, the above query will return all their departments. If you are looking for a single department (e.g., the first or any department), we can use the LIMIT keyword (in MySQL) or FETCH FIRST keyword (in SQL Server). \\n\\nHere's an example in MySQL:\\n\\n```sql\\nSELECT Department \\nFROM Employees \\nWHERE FirstName = 'John' AND LastName = 'Doe'\\nLIMIT 1;\\n```\\n\\nAnd here's an example in SQL Server:\\n\\n```sql\\nSELECT TOP 1 Department \\nFROM Employees \\nWHERE FirstName = 'John' AND LastName = 'Doe';\\n```\""
      ]
     },
     "execution_count": 81,
     "metadata": {},
     "output_type": "execute_result"
    }
   ],
   "source": [
    "response = team_leader.run(\"What is the Department of the  person with the column FirstName equal to 'John'  and the column LastName  equal to 'Doe' ?\")\n",
    "response.content"
   ]
  }
 ],
 "metadata": {
  "kernelspec": {
   "display_name": ".venv",
   "language": "python",
   "name": "python3"
  },
  "language_info": {
   "codemirror_mode": {
    "name": "ipython",
    "version": 3
   },
   "file_extension": ".py",
   "mimetype": "text/x-python",
   "name": "python",
   "nbconvert_exporter": "python",
   "pygments_lexer": "ipython3",
   "version": "3.13.1"
  }
 },
 "nbformat": 4,
 "nbformat_minor": 2
}
