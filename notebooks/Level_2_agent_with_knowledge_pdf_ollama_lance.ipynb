{
 "cells": [
  {
   "cell_type": "code",
   "execution_count": 1,
   "metadata": {},
   "outputs": [],
   "source": [
    "from pathlib import Path\n",
    "\n",
    "from agno.agent import Agent\n",
    "from agno.knowledge.pdf_url import PDFUrlKnowledgeBase"
   ]
  },
  {
   "cell_type": "markdown",
   "metadata": {},
   "source": [
    "* Models"
   ]
  },
  {
   "cell_type": "code",
   "execution_count": 2,
   "metadata": {},
   "outputs": [],
   "source": [
    "from agno.models.ollama import Ollama\n",
    "\n",
    "ollama_model=Ollama(id=\"llama3.2:3b\")"
   ]
  },
  {
   "cell_type": "code",
   "execution_count": 3,
   "metadata": {},
   "outputs": [],
   "source": [
    "from agno.embedder.ollama import OllamaEmbedder\n",
    "\n",
    "ollama_embedder = OllamaEmbedder(id=\"nomic-embed-text:latest\",dimensions=768)\n"
   ]
  },
  {
   "cell_type": "markdown",
   "metadata": {},
   "source": [
    "* Vector Database"
   ]
  },
  {
   "cell_type": "code",
   "execution_count": 5,
   "metadata": {},
   "outputs": [],
   "source": [
    "from agno.vectordb.lancedb import LanceDb, SearchType\n",
    "\n",
    "# Define the database URL where the vector database will be stored\n",
    "db_url = \"./tmp/lancedb\"\n",
    "vector_db = LanceDb(\n",
    "    table_name=\"recipes\",  # Table name in the vector database\n",
    "    uri=db_url,  # Location to initiate/create the vector database\n",
    "    embedder=ollama_embedder,  # Without using this, it will use OpenAIChat embeddings by default\n",
    "    search_type=SearchType.vector,\n",
    ")"
   ]
  },
  {
   "cell_type": "code",
   "execution_count": 6,
   "metadata": {},
   "outputs": [
    {
     "data": {
      "text/html": [
       "<pre style=\"white-space:pre;overflow-x:auto;line-height:normal;font-family:Menlo,'DejaVu Sans Mono',consolas,'Courier New',monospace\"><span style=\"color: #000080; text-decoration-color: #000080\">INFO    </span> Creating collection                                                                                       \n",
       "</pre>\n"
      ],
      "text/plain": [
       "\u001b[34mINFO    \u001b[0m Creating collection                                                                                       \n"
      ]
     },
     "metadata": {},
     "output_type": "display_data"
    },
    {
     "data": {
      "text/html": [
       "<pre style=\"white-space:pre;overflow-x:auto;line-height:normal;font-family:Menlo,'DejaVu Sans Mono',consolas,'Courier New',monospace\"><span style=\"color: #000080; text-decoration-color: #000080\">INFO    </span> Loading knowledge base                                                                                    \n",
       "</pre>\n"
      ],
      "text/plain": [
       "\u001b[34mINFO    \u001b[0m Loading knowledge base                                                                                    \n"
      ]
     },
     "metadata": {},
     "output_type": "display_data"
    },
    {
     "data": {
      "text/html": [
       "<pre style=\"white-space:pre;overflow-x:auto;line-height:normal;font-family:Menlo,'DejaVu Sans Mono',consolas,'Courier New',monospace\"><span style=\"color: #000080; text-decoration-color: #000080\">INFO    </span> Reading: <span style=\"color: #0000ff; text-decoration-color: #0000ff; text-decoration: underline\">https://agno-public.s3.amazonaws.com/recipes/ThaiRecipes.pdf</span>                                     \n",
       "</pre>\n"
      ],
      "text/plain": [
       "\u001b[34mINFO    \u001b[0m Reading: \u001b[4;94mhttps://agno-public.s3.amazonaws.com/recipes/ThaiRecipes.pdf\u001b[0m                                     \n"
      ]
     },
     "metadata": {},
     "output_type": "display_data"
    },
    {
     "data": {
      "text/html": [
       "<pre style=\"white-space:pre;overflow-x:auto;line-height:normal;font-family:Menlo,'DejaVu Sans Mono',consolas,'Courier New',monospace\"><span style=\"color: #000080; text-decoration-color: #000080\">INFO    </span> Added <span style=\"color: #008080; text-decoration-color: #008080; font-weight: bold\">14</span> documents to knowledge base                                                                      \n",
       "</pre>\n"
      ],
      "text/plain": [
       "\u001b[34mINFO    \u001b[0m Added \u001b[1;36m14\u001b[0m documents to knowledge base                                                                      \n"
      ]
     },
     "metadata": {},
     "output_type": "display_data"
    }
   ],
   "source": [
    "# Create CSV knowledge base\n",
    "# Create a knowledge base of PDFs from URLs\n",
    "knowledge_base = PDFUrlKnowledgeBase(\n",
    "    urls=[\"https://agno-public.s3.amazonaws.com/recipes/ThaiRecipes.pdf\"],\n",
    "    vector_db=vector_db\n",
    ")\n",
    "# Load the knowledge base\n",
    "knowledge_base.load()"
   ]
  },
  {
   "cell_type": "code",
   "execution_count": 7,
   "metadata": {},
   "outputs": [
    {
     "data": {
      "text/plain": [
       "PDFUrlKnowledgeBase(reader=PDFUrlReader(chunk=True, chunk_size=3000, separators=['\\n', '\\n\\n', '\\r', '\\r\\n', '\\n\\r', '\\t', ' ', '  '], chunking_strategy=<agno.document.chunking.fixed.FixedSizeChunking object at 0x0000019C9716AE90>), vector_db=<agno.vectordb.lancedb.lance_db.LanceDb object at 0x0000019CFFE84EC0>, num_documents=5, optimize_on=1000, chunking_strategy=<agno.document.chunking.fixed.FixedSizeChunking object at 0x0000019C9716AE90>, urls=['https://agno-public.s3.amazonaws.com/recipes/ThaiRecipes.pdf'])"
      ]
     },
     "execution_count": 7,
     "metadata": {},
     "output_type": "execute_result"
    }
   ],
   "source": [
    "knowledge_base"
   ]
  },
  {
   "cell_type": "markdown",
   "metadata": {},
   "source": [
    "* Agent with knowledge"
   ]
  },
  {
   "cell_type": "code",
   "execution_count": 9,
   "metadata": {},
   "outputs": [],
   "source": [
    "# Create and use the agent\n",
    "agent = Agent(model=ollama_model,\n",
    "            knowledge=knowledge_base,  \n",
    "              # Add a tool to search the knowledge base which enables agentic RAG.\n",
    "               # This is enabled by default when `knowledge` is provided to the Agent.\n",
    "            search_knowledge=True,\n",
    "            show_tool_calls=True,\n",
    "            debug_mode=True,\n",
    "            markdown=False)\n"
   ]
  },
  {
   "cell_type": "markdown",
   "metadata": {},
   "source": [
    "* Tests"
   ]
  },
  {
   "cell_type": "code",
   "execution_count": 10,
   "metadata": {},
   "outputs": [
    {
     "data": {
      "text/html": [
       "<pre style=\"white-space:pre;overflow-x:auto;line-height:normal;font-family:Menlo,'DejaVu Sans Mono',consolas,'Courier New',monospace\"><span style=\"color: #008000; text-decoration-color: #008000\">DEBUG   </span> *********** Agent ID: <span style=\"color: #ffff00; text-decoration-color: #ffff00\">eb3265c7-2c9c-4df4-b8bf-da5acd5c814b</span> ***********                                    \n",
       "</pre>\n"
      ],
      "text/plain": [
       "\u001b[32mDEBUG   \u001b[0m *********** Agent ID: \u001b[93meb3265c7-2c9c-4df4-b8bf-da5acd5c814b\u001b[0m ***********                                    \n"
      ]
     },
     "metadata": {},
     "output_type": "display_data"
    },
    {
     "data": {
      "text/html": [
       "<pre style=\"white-space:pre;overflow-x:auto;line-height:normal;font-family:Menlo,'DejaVu Sans Mono',consolas,'Courier New',monospace\"><span style=\"color: #008000; text-decoration-color: #008000\">DEBUG   </span> *********** Session ID: <span style=\"color: #ffff00; text-decoration-color: #ffff00\">6f042532-415f-465b-8609-8123869b5bf0</span> ***********                                  \n",
       "</pre>\n"
      ],
      "text/plain": [
       "\u001b[32mDEBUG   \u001b[0m *********** Session ID: \u001b[93m6f042532-415f-465b-8609-8123869b5bf0\u001b[0m ***********                                  \n"
      ]
     },
     "metadata": {},
     "output_type": "display_data"
    },
    {
     "data": {
      "text/html": [
       "<pre style=\"white-space:pre;overflow-x:auto;line-height:normal;font-family:Menlo,'DejaVu Sans Mono',consolas,'Courier New',monospace\"><span style=\"color: #008000; text-decoration-color: #008000\">DEBUG   </span> *********** Agent Run Start: <span style=\"color: #ffff00; text-decoration-color: #ffff00\">e239a6d6-3319-4f3b-94d1-13115016f981</span> ***********                             \n",
       "</pre>\n"
      ],
      "text/plain": [
       "\u001b[32mDEBUG   \u001b[0m *********** Agent Run Start: \u001b[93me239a6d6-3319-4f3b-94d1-13115016f981\u001b[0m ***********                             \n"
      ]
     },
     "metadata": {},
     "output_type": "display_data"
    },
    {
     "data": {
      "text/html": [
       "<pre style=\"white-space:pre;overflow-x:auto;line-height:normal;font-family:Menlo,'DejaVu Sans Mono',consolas,'Courier New',monospace\"><span style=\"color: #008000; text-decoration-color: #008000\">DEBUG   </span> Processing tools for model                                                                                \n",
       "</pre>\n"
      ],
      "text/plain": [
       "\u001b[32mDEBUG   \u001b[0m Processing tools for model                                                                                \n"
      ]
     },
     "metadata": {},
     "output_type": "display_data"
    },
    {
     "data": {
      "text/html": [
       "<pre style=\"white-space:pre;overflow-x:auto;line-height:normal;font-family:Menlo,'DejaVu Sans Mono',consolas,'Courier New',monospace\"><span style=\"color: #008000; text-decoration-color: #008000\">DEBUG   </span> Included function search_knowledge_base                                                                   \n",
       "</pre>\n"
      ],
      "text/plain": [
       "\u001b[32mDEBUG   \u001b[0m Included function search_knowledge_base                                                                   \n"
      ]
     },
     "metadata": {},
     "output_type": "display_data"
    },
    {
     "data": {
      "text/html": [
       "<pre style=\"white-space:pre;overflow-x:auto;line-height:normal;font-family:Menlo,'DejaVu Sans Mono',consolas,'Courier New',monospace\"><span style=\"color: #008000; text-decoration-color: #008000\">DEBUG   </span> ---------- Ollama Response Start ----------                                                               \n",
       "</pre>\n"
      ],
      "text/plain": [
       "\u001b[32mDEBUG   \u001b[0m ---------- Ollama Response Start ----------                                                               \n"
      ]
     },
     "metadata": {},
     "output_type": "display_data"
    },
    {
     "data": {
      "text/html": [
       "<pre style=\"white-space:pre;overflow-x:auto;line-height:normal;font-family:Menlo,'DejaVu Sans Mono',consolas,'Courier New',monospace\"><span style=\"color: #008000; text-decoration-color: #008000\">DEBUG   </span> ============== user ==============                                                                        \n",
       "</pre>\n"
      ],
      "text/plain": [
       "\u001b[32mDEBUG   \u001b[0m ============== user ==============                                                                        \n"
      ]
     },
     "metadata": {},
     "output_type": "display_data"
    },
    {
     "data": {
      "text/html": [
       "<pre style=\"white-space:pre;overflow-x:auto;line-height:normal;font-family:Menlo,'DejaVu Sans Mono',consolas,'Courier New',monospace\"><span style=\"color: #008000; text-decoration-color: #008000\">DEBUG   </span> How do I make chicken and galangal in coconut milk soup                                                   \n",
       "</pre>\n"
      ],
      "text/plain": [
       "\u001b[32mDEBUG   \u001b[0m How do I make chicken and galangal in coconut milk soup                                                   \n"
      ]
     },
     "metadata": {},
     "output_type": "display_data"
    },
    {
     "data": {
      "text/html": [
       "<pre style=\"white-space:pre;overflow-x:auto;line-height:normal;font-family:Menlo,'DejaVu Sans Mono',consolas,'Courier New',monospace\"><span style=\"color: #008000; text-decoration-color: #008000\">DEBUG   </span> ============== assistant ==============                                                                   \n",
       "</pre>\n"
      ],
      "text/plain": [
       "\u001b[32mDEBUG   \u001b[0m ============== assistant ==============                                                                   \n"
      ]
     },
     "metadata": {},
     "output_type": "display_data"
    },
    {
     "data": {
      "text/html": [
       "<pre style=\"white-space:pre;overflow-x:auto;line-height:normal;font-family:Menlo,'DejaVu Sans Mono',consolas,'Courier New',monospace\"><span style=\"color: #008000; text-decoration-color: #008000\">DEBUG   </span> Tool Calls: <span style=\"font-weight: bold\">[</span>                                                                                             \n",
       "           <span style=\"font-weight: bold\">{</span>                                                                                                       \n",
       "             <span style=\"color: #008000; text-decoration-color: #008000\">\"type\"</span>: <span style=\"color: #008000; text-decoration-color: #008000\">\"function\"</span>,                                                                                   \n",
       "             <span style=\"color: #008000; text-decoration-color: #008000\">\"function\"</span>: <span style=\"font-weight: bold\">{</span>                                                                                         \n",
       "               <span style=\"color: #008000; text-decoration-color: #008000\">\"name\"</span>: <span style=\"color: #008000; text-decoration-color: #008000\">\"search_knowledge_base\"</span>,                                                                    \n",
       "               <span style=\"color: #008000; text-decoration-color: #008000\">\"arguments\"</span>: <span style=\"color: #008000; text-decoration-color: #008000\">\"{\\\"query\\\": \\\"chicken and galangal in coconut milk soup recipe\\\"}\"</span>                    \n",
       "             <span style=\"font-weight: bold\">}</span>                                                                                                     \n",
       "           <span style=\"font-weight: bold\">}</span>                                                                                                       \n",
       "         <span style=\"font-weight: bold\">]</span>                                                                                                         \n",
       "</pre>\n"
      ],
      "text/plain": [
       "\u001b[32mDEBUG   \u001b[0m Tool Calls: \u001b[1m[\u001b[0m                                                                                             \n",
       "           \u001b[1m{\u001b[0m                                                                                                       \n",
       "             \u001b[32m\"type\"\u001b[0m: \u001b[32m\"function\"\u001b[0m,                                                                                   \n",
       "             \u001b[32m\"function\"\u001b[0m: \u001b[1m{\u001b[0m                                                                                         \n",
       "               \u001b[32m\"name\"\u001b[0m: \u001b[32m\"search_knowledge_base\"\u001b[0m,                                                                    \n",
       "               \u001b[32m\"arguments\"\u001b[0m: \u001b[32m\"\u001b[0m\u001b[32m{\u001b[0m\u001b[32m\\\"query\\\": \\\"chicken and galangal in coconut milk soup recipe\\\"\u001b[0m\u001b[32m}\u001b[0m\u001b[32m\"\u001b[0m                    \n",
       "             \u001b[1m}\u001b[0m                                                                                                     \n",
       "           \u001b[1m}\u001b[0m                                                                                                       \n",
       "         \u001b[1m]\u001b[0m                                                                                                         \n"
      ]
     },
     "metadata": {},
     "output_type": "display_data"
    },
    {
     "data": {
      "text/html": [
       "<pre style=\"white-space:pre;overflow-x:auto;line-height:normal;font-family:Menlo,'DejaVu Sans Mono',consolas,'Courier New',monospace\"><span style=\"color: #008000; text-decoration-color: #008000\">DEBUG   </span> **************** METRICS ****************                                                                 \n",
       "</pre>\n"
      ],
      "text/plain": [
       "\u001b[32mDEBUG   \u001b[0m **************** METRICS ****************                                                                 \n"
      ]
     },
     "metadata": {},
     "output_type": "display_data"
    },
    {
     "data": {
      "text/html": [
       "<pre style=\"white-space:pre;overflow-x:auto;line-height:normal;font-family:Menlo,'DejaVu Sans Mono',consolas,'Courier New',monospace\"><span style=\"color: #008000; text-decoration-color: #008000\">DEBUG   </span> * Input tokens:                <span style=\"color: #008080; text-decoration-color: #008080; font-weight: bold\">183</span>                                                                        \n",
       "</pre>\n"
      ],
      "text/plain": [
       "\u001b[32mDEBUG   \u001b[0m * Input tokens:                \u001b[1;36m183\u001b[0m                                                                        \n"
      ]
     },
     "metadata": {},
     "output_type": "display_data"
    },
    {
     "data": {
      "text/html": [
       "<pre style=\"white-space:pre;overflow-x:auto;line-height:normal;font-family:Menlo,'DejaVu Sans Mono',consolas,'Courier New',monospace\"><span style=\"color: #008000; text-decoration-color: #008000\">DEBUG   </span> * Output tokens:               <span style=\"color: #008080; text-decoration-color: #008080; font-weight: bold\">29</span>                                                                         \n",
       "</pre>\n"
      ],
      "text/plain": [
       "\u001b[32mDEBUG   \u001b[0m * Output tokens:               \u001b[1;36m29\u001b[0m                                                                         \n"
      ]
     },
     "metadata": {},
     "output_type": "display_data"
    },
    {
     "data": {
      "text/html": [
       "<pre style=\"white-space:pre;overflow-x:auto;line-height:normal;font-family:Menlo,'DejaVu Sans Mono',consolas,'Courier New',monospace\"><span style=\"color: #008000; text-decoration-color: #008000\">DEBUG   </span> * Total tokens:                <span style=\"color: #008080; text-decoration-color: #008080; font-weight: bold\">212</span>                                                                        \n",
       "</pre>\n"
      ],
      "text/plain": [
       "\u001b[32mDEBUG   \u001b[0m * Total tokens:                \u001b[1;36m212\u001b[0m                                                                        \n"
      ]
     },
     "metadata": {},
     "output_type": "display_data"
    },
    {
     "data": {
      "text/html": [
       "<pre style=\"white-space:pre;overflow-x:auto;line-height:normal;font-family:Menlo,'DejaVu Sans Mono',consolas,'Courier New',monospace\"><span style=\"color: #008000; text-decoration-color: #008000\">DEBUG   </span> * Time:                        <span style=\"color: #008080; text-decoration-color: #008080; font-weight: bold\">27.</span>5609s                                                                   \n",
       "</pre>\n"
      ],
      "text/plain": [
       "\u001b[32mDEBUG   \u001b[0m * Time:                        \u001b[1;36m27.\u001b[0m5609s                                                                   \n"
      ]
     },
     "metadata": {},
     "output_type": "display_data"
    },
    {
     "data": {
      "text/html": [
       "<pre style=\"white-space:pre;overflow-x:auto;line-height:normal;font-family:Menlo,'DejaVu Sans Mono',consolas,'Courier New',monospace\"><span style=\"color: #008000; text-decoration-color: #008000\">DEBUG   </span> * Tokens per second:           <span style=\"color: #008080; text-decoration-color: #008080; font-weight: bold\">1.0522</span> tokens/s                                                            \n",
       "</pre>\n"
      ],
      "text/plain": [
       "\u001b[32mDEBUG   \u001b[0m * Tokens per second:           \u001b[1;36m1.0522\u001b[0m tokens/s                                                            \n"
      ]
     },
     "metadata": {},
     "output_type": "display_data"
    },
    {
     "data": {
      "text/html": [
       "<pre style=\"white-space:pre;overflow-x:auto;line-height:normal;font-family:Menlo,'DejaVu Sans Mono',consolas,'Courier New',monospace\"><span style=\"color: #008000; text-decoration-color: #008000\">DEBUG   </span> * Additional metrics:          <span style=\"font-weight: bold\">{</span><span style=\"color: #008000; text-decoration-color: #008000\">'total_duration'</span>: <span style=\"color: #008080; text-decoration-color: #008080; font-weight: bold\">27174341300</span>, <span style=\"color: #008000; text-decoration-color: #008000\">'load_duration'</span>: <span style=\"color: #008080; text-decoration-color: #008080; font-weight: bold\">32258900</span>,                 \n",
       "         <span style=\"color: #008000; text-decoration-color: #008000\">'prompt_eval_duration'</span>: <span style=\"color: #008080; text-decoration-color: #008080; font-weight: bold\">23452000000</span>, <span style=\"color: #008000; text-decoration-color: #008000\">'eval_duration'</span>: <span style=\"color: #008080; text-decoration-color: #008080; font-weight: bold\">3688000000</span><span style=\"font-weight: bold\">}</span>                                         \n",
       "</pre>\n"
      ],
      "text/plain": [
       "\u001b[32mDEBUG   \u001b[0m * Additional metrics:          \u001b[1m{\u001b[0m\u001b[32m'total_duration'\u001b[0m: \u001b[1;36m27174341300\u001b[0m, \u001b[32m'load_duration'\u001b[0m: \u001b[1;36m32258900\u001b[0m,                 \n",
       "         \u001b[32m'prompt_eval_duration'\u001b[0m: \u001b[1;36m23452000000\u001b[0m, \u001b[32m'eval_duration'\u001b[0m: \u001b[1;36m3688000000\u001b[0m\u001b[1m}\u001b[0m                                         \n"
      ]
     },
     "metadata": {},
     "output_type": "display_data"
    },
    {
     "data": {
      "text/html": [
       "<pre style=\"white-space:pre;overflow-x:auto;line-height:normal;font-family:Menlo,'DejaVu Sans Mono',consolas,'Courier New',monospace\"><span style=\"color: #008000; text-decoration-color: #008000\">DEBUG   </span> **************** METRICS ******************                                                               \n",
       "</pre>\n"
      ],
      "text/plain": [
       "\u001b[32mDEBUG   \u001b[0m **************** METRICS ******************                                                               \n"
      ]
     },
     "metadata": {},
     "output_type": "display_data"
    },
    {
     "data": {
      "text/html": [
       "<pre style=\"white-space:pre;overflow-x:auto;line-height:normal;font-family:Menlo,'DejaVu Sans Mono',consolas,'Courier New',monospace\"><span style=\"color: #008000; text-decoration-color: #008000\">DEBUG   </span> Getting function search_knowledge_base                                                                    \n",
       "</pre>\n"
      ],
      "text/plain": [
       "\u001b[32mDEBUG   \u001b[0m Getting function search_knowledge_base                                                                    \n"
      ]
     },
     "metadata": {},
     "output_type": "display_data"
    },
    {
     "data": {
      "text/html": [
       "<pre style=\"white-space:pre;overflow-x:auto;line-height:normal;font-family:Menlo,'DejaVu Sans Mono',consolas,'Courier New',monospace\"><span style=\"color: #008000; text-decoration-color: #008000\">DEBUG   </span> Running: <span style=\"color: #800080; text-decoration-color: #800080; font-weight: bold\">search_knowledge_base</span><span style=\"font-weight: bold\">(</span><span style=\"color: #808000; text-decoration-color: #808000\">query</span>=<span style=\"color: #800080; text-decoration-color: #800080\">chicken</span> and galangal in coconut milk soup recipe<span style=\"font-weight: bold\">)</span>                    \n",
       "</pre>\n"
      ],
      "text/plain": [
       "\u001b[32mDEBUG   \u001b[0m Running: \u001b[1;35msearch_knowledge_base\u001b[0m\u001b[1m(\u001b[0m\u001b[33mquery\u001b[0m=\u001b[35mchicken\u001b[0m and galangal in coconut milk soup recipe\u001b[1m)\u001b[0m                    \n"
      ]
     },
     "metadata": {},
     "output_type": "display_data"
    },
    {
     "data": {
      "text/html": [
       "<pre style=\"white-space:pre;overflow-x:auto;line-height:normal;font-family:Menlo,'DejaVu Sans Mono',consolas,'Courier New',monospace\"><span style=\"color: #008000; text-decoration-color: #008000\">DEBUG   </span> Getting <span style=\"color: #008080; text-decoration-color: #008080; font-weight: bold\">5</span> relevant documents for query: chicken and galangal in coconut milk soup recipe                  \n",
       "</pre>\n"
      ],
      "text/plain": [
       "\u001b[32mDEBUG   \u001b[0m Getting \u001b[1;36m5\u001b[0m relevant documents for query: chicken and galangal in coconut milk soup recipe                  \n"
      ]
     },
     "metadata": {},
     "output_type": "display_data"
    },
    {
     "data": {
      "text/html": [
       "<pre style=\"white-space:pre;overflow-x:auto;line-height:normal;font-family:Menlo,'DejaVu Sans Mono',consolas,'Courier New',monospace\"><span style=\"color: #008000; text-decoration-color: #008000\">DEBUG   </span> Time to get references: <span style=\"color: #008080; text-decoration-color: #008080; font-weight: bold\">0.</span>6178s                                                                           \n",
       "</pre>\n"
      ],
      "text/plain": [
       "\u001b[32mDEBUG   \u001b[0m Time to get references: \u001b[1;36m0.\u001b[0m6178s                                                                           \n"
      ]
     },
     "metadata": {},
     "output_type": "display_data"
    },
    {
     "data": {
      "text/html": [
       "<pre style=\"white-space:pre;overflow-x:auto;line-height:normal;font-family:Menlo,'DejaVu Sans Mono',consolas,'Courier New',monospace\"><span style=\"color: #008000; text-decoration-color: #008000\">DEBUG   </span> ---------- Ollama Response ----------                                                                     \n",
       "</pre>\n"
      ],
      "text/plain": [
       "\u001b[32mDEBUG   \u001b[0m ---------- Ollama Response ----------                                                                     \n"
      ]
     },
     "metadata": {},
     "output_type": "display_data"
    },
    {
     "data": {
      "text/html": [
       "<pre style=\"white-space:pre;overflow-x:auto;line-height:normal;font-family:Menlo,'DejaVu Sans Mono',consolas,'Courier New',monospace\"><span style=\"color: #008000; text-decoration-color: #008000\">DEBUG   </span> ============== user ==============                                                                        \n",
       "</pre>\n"
      ],
      "text/plain": [
       "\u001b[32mDEBUG   \u001b[0m ============== user ==============                                                                        \n"
      ]
     },
     "metadata": {},
     "output_type": "display_data"
    },
    {
     "data": {
      "text/html": [
       "<pre style=\"white-space:pre;overflow-x:auto;line-height:normal;font-family:Menlo,'DejaVu Sans Mono',consolas,'Courier New',monospace\"><span style=\"color: #008000; text-decoration-color: #008000\">DEBUG   </span> How do I make chicken and galangal in coconut milk soup                                                   \n",
       "</pre>\n"
      ],
      "text/plain": [
       "\u001b[32mDEBUG   \u001b[0m How do I make chicken and galangal in coconut milk soup                                                   \n"
      ]
     },
     "metadata": {},
     "output_type": "display_data"
    },
    {
     "data": {
      "text/html": [
       "<pre style=\"white-space:pre;overflow-x:auto;line-height:normal;font-family:Menlo,'DejaVu Sans Mono',consolas,'Courier New',monospace\"><span style=\"color: #008000; text-decoration-color: #008000\">DEBUG   </span> ============== assistant ==============                                                                   \n",
       "</pre>\n"
      ],
      "text/plain": [
       "\u001b[32mDEBUG   \u001b[0m ============== assistant ==============                                                                   \n"
      ]
     },
     "metadata": {},
     "output_type": "display_data"
    },
    {
     "data": {
      "text/html": [
       "<pre style=\"white-space:pre;overflow-x:auto;line-height:normal;font-family:Menlo,'DejaVu Sans Mono',consolas,'Courier New',monospace\"><span style=\"color: #008000; text-decoration-color: #008000\">DEBUG   </span> Tool Calls: <span style=\"font-weight: bold\">[</span>                                                                                             \n",
       "           <span style=\"font-weight: bold\">{</span>                                                                                                       \n",
       "             <span style=\"color: #008000; text-decoration-color: #008000\">\"type\"</span>: <span style=\"color: #008000; text-decoration-color: #008000\">\"function\"</span>,                                                                                   \n",
       "             <span style=\"color: #008000; text-decoration-color: #008000\">\"function\"</span>: <span style=\"font-weight: bold\">{</span>                                                                                         \n",
       "               <span style=\"color: #008000; text-decoration-color: #008000\">\"name\"</span>: <span style=\"color: #008000; text-decoration-color: #008000\">\"search_knowledge_base\"</span>,                                                                    \n",
       "               <span style=\"color: #008000; text-decoration-color: #008000\">\"arguments\"</span>: <span style=\"color: #008000; text-decoration-color: #008000\">\"{\\\"query\\\": \\\"chicken and galangal in coconut milk soup recipe\\\"}\"</span>                    \n",
       "             <span style=\"font-weight: bold\">}</span>                                                                                                     \n",
       "           <span style=\"font-weight: bold\">}</span>                                                                                                       \n",
       "         <span style=\"font-weight: bold\">]</span>                                                                                                         \n",
       "</pre>\n"
      ],
      "text/plain": [
       "\u001b[32mDEBUG   \u001b[0m Tool Calls: \u001b[1m[\u001b[0m                                                                                             \n",
       "           \u001b[1m{\u001b[0m                                                                                                       \n",
       "             \u001b[32m\"type\"\u001b[0m: \u001b[32m\"function\"\u001b[0m,                                                                                   \n",
       "             \u001b[32m\"function\"\u001b[0m: \u001b[1m{\u001b[0m                                                                                         \n",
       "               \u001b[32m\"name\"\u001b[0m: \u001b[32m\"search_knowledge_base\"\u001b[0m,                                                                    \n",
       "               \u001b[32m\"arguments\"\u001b[0m: \u001b[32m\"\u001b[0m\u001b[32m{\u001b[0m\u001b[32m\\\"query\\\": \\\"chicken and galangal in coconut milk soup recipe\\\"\u001b[0m\u001b[32m}\u001b[0m\u001b[32m\"\u001b[0m                    \n",
       "             \u001b[1m}\u001b[0m                                                                                                     \n",
       "           \u001b[1m}\u001b[0m                                                                                                       \n",
       "         \u001b[1m]\u001b[0m                                                                                                         \n"
      ]
     },
     "metadata": {},
     "output_type": "display_data"
    },
    {
     "data": {
      "text/html": [
       "<pre style=\"white-space:pre;overflow-x:auto;line-height:normal;font-family:Menlo,'DejaVu Sans Mono',consolas,'Courier New',monospace\"><span style=\"color: #008000; text-decoration-color: #008000\">DEBUG   </span> **************** METRICS ****************                                                                 \n",
       "</pre>\n"
      ],
      "text/plain": [
       "\u001b[32mDEBUG   \u001b[0m **************** METRICS ****************                                                                 \n"
      ]
     },
     "metadata": {},
     "output_type": "display_data"
    },
    {
     "data": {
      "text/html": [
       "<pre style=\"white-space:pre;overflow-x:auto;line-height:normal;font-family:Menlo,'DejaVu Sans Mono',consolas,'Courier New',monospace\"><span style=\"color: #008000; text-decoration-color: #008000\">DEBUG   </span> * Input tokens:                <span style=\"color: #008080; text-decoration-color: #008080; font-weight: bold\">183</span>                                                                        \n",
       "</pre>\n"
      ],
      "text/plain": [
       "\u001b[32mDEBUG   \u001b[0m * Input tokens:                \u001b[1;36m183\u001b[0m                                                                        \n"
      ]
     },
     "metadata": {},
     "output_type": "display_data"
    },
    {
     "data": {
      "text/html": [
       "<pre style=\"white-space:pre;overflow-x:auto;line-height:normal;font-family:Menlo,'DejaVu Sans Mono',consolas,'Courier New',monospace\"><span style=\"color: #008000; text-decoration-color: #008000\">DEBUG   </span> * Output tokens:               <span style=\"color: #008080; text-decoration-color: #008080; font-weight: bold\">29</span>                                                                         \n",
       "</pre>\n"
      ],
      "text/plain": [
       "\u001b[32mDEBUG   \u001b[0m * Output tokens:               \u001b[1;36m29\u001b[0m                                                                         \n"
      ]
     },
     "metadata": {},
     "output_type": "display_data"
    },
    {
     "data": {
      "text/html": [
       "<pre style=\"white-space:pre;overflow-x:auto;line-height:normal;font-family:Menlo,'DejaVu Sans Mono',consolas,'Courier New',monospace\"><span style=\"color: #008000; text-decoration-color: #008000\">DEBUG   </span> * Total tokens:                <span style=\"color: #008080; text-decoration-color: #008080; font-weight: bold\">212</span>                                                                        \n",
       "</pre>\n"
      ],
      "text/plain": [
       "\u001b[32mDEBUG   \u001b[0m * Total tokens:                \u001b[1;36m212\u001b[0m                                                                        \n"
      ]
     },
     "metadata": {},
     "output_type": "display_data"
    },
    {
     "data": {
      "text/html": [
       "<pre style=\"white-space:pre;overflow-x:auto;line-height:normal;font-family:Menlo,'DejaVu Sans Mono',consolas,'Courier New',monospace\"><span style=\"color: #008000; text-decoration-color: #008000\">DEBUG   </span> * Time:                        <span style=\"color: #008080; text-decoration-color: #008080; font-weight: bold\">27.</span>5609s                                                                   \n",
       "</pre>\n"
      ],
      "text/plain": [
       "\u001b[32mDEBUG   \u001b[0m * Time:                        \u001b[1;36m27.\u001b[0m5609s                                                                   \n"
      ]
     },
     "metadata": {},
     "output_type": "display_data"
    },
    {
     "data": {
      "text/html": [
       "<pre style=\"white-space:pre;overflow-x:auto;line-height:normal;font-family:Menlo,'DejaVu Sans Mono',consolas,'Courier New',monospace\"><span style=\"color: #008000; text-decoration-color: #008000\">DEBUG   </span> * Tokens per second:           <span style=\"color: #008080; text-decoration-color: #008080; font-weight: bold\">1.0522</span> tokens/s                                                            \n",
       "</pre>\n"
      ],
      "text/plain": [
       "\u001b[32mDEBUG   \u001b[0m * Tokens per second:           \u001b[1;36m1.0522\u001b[0m tokens/s                                                            \n"
      ]
     },
     "metadata": {},
     "output_type": "display_data"
    },
    {
     "data": {
      "text/html": [
       "<pre style=\"white-space:pre;overflow-x:auto;line-height:normal;font-family:Menlo,'DejaVu Sans Mono',consolas,'Courier New',monospace\"><span style=\"color: #008000; text-decoration-color: #008000\">DEBUG   </span> * Additional metrics:          <span style=\"font-weight: bold\">{</span><span style=\"color: #008000; text-decoration-color: #008000\">'total_duration'</span>: <span style=\"color: #008080; text-decoration-color: #008080; font-weight: bold\">27174341300</span>, <span style=\"color: #008000; text-decoration-color: #008000\">'load_duration'</span>: <span style=\"color: #008080; text-decoration-color: #008080; font-weight: bold\">32258900</span>,                 \n",
       "         <span style=\"color: #008000; text-decoration-color: #008000\">'prompt_eval_duration'</span>: <span style=\"color: #008080; text-decoration-color: #008080; font-weight: bold\">23452000000</span>, <span style=\"color: #008000; text-decoration-color: #008000\">'eval_duration'</span>: <span style=\"color: #008080; text-decoration-color: #008080; font-weight: bold\">3688000000</span><span style=\"font-weight: bold\">}</span>                                         \n",
       "</pre>\n"
      ],
      "text/plain": [
       "\u001b[32mDEBUG   \u001b[0m * Additional metrics:          \u001b[1m{\u001b[0m\u001b[32m'total_duration'\u001b[0m: \u001b[1;36m27174341300\u001b[0m, \u001b[32m'load_duration'\u001b[0m: \u001b[1;36m32258900\u001b[0m,                 \n",
       "         \u001b[32m'prompt_eval_duration'\u001b[0m: \u001b[1;36m23452000000\u001b[0m, \u001b[32m'eval_duration'\u001b[0m: \u001b[1;36m3688000000\u001b[0m\u001b[1m}\u001b[0m                                         \n"
      ]
     },
     "metadata": {},
     "output_type": "display_data"
    },
    {
     "data": {
      "text/html": [
       "<pre style=\"white-space:pre;overflow-x:auto;line-height:normal;font-family:Menlo,'DejaVu Sans Mono',consolas,'Courier New',monospace\"><span style=\"color: #008000; text-decoration-color: #008000\">DEBUG   </span> **************** METRICS ******************                                                               \n",
       "</pre>\n"
      ],
      "text/plain": [
       "\u001b[32mDEBUG   \u001b[0m **************** METRICS ******************                                                               \n"
      ]
     },
     "metadata": {},
     "output_type": "display_data"
    },
    {
     "data": {
      "text/html": [
       "<pre style=\"white-space:pre;overflow-x:auto;line-height:normal;font-family:Menlo,'DejaVu Sans Mono',consolas,'Courier New',monospace\"><span style=\"color: #008000; text-decoration-color: #008000\">DEBUG   </span> ============== tool ==============                                                                        \n",
       "</pre>\n"
      ],
      "text/plain": [
       "\u001b[32mDEBUG   \u001b[0m ============== tool ==============                                                                        \n"
      ]
     },
     "metadata": {},
     "output_type": "display_data"
    },
    {
     "data": {
      "text/html": [
       "<pre style=\"white-space:pre;overflow-x:auto;line-height:normal;font-family:Menlo,'DejaVu Sans Mono',consolas,'Courier New',monospace\"><span style=\"color: #008000; text-decoration-color: #008000\">DEBUG   </span> <span style=\"font-weight: bold\">[</span>                                                                                                         \n",
       "           <span style=\"font-weight: bold\">{</span>                                                                                                       \n",
       "             <span style=\"color: #008000; text-decoration-color: #008000\">\"name\"</span>: <span style=\"color: #008000; text-decoration-color: #008000\">\"ThaiRecipes\"</span>,                                                                                \n",
       "             <span style=\"color: #008000; text-decoration-color: #008000\">\"content\"</span>: <span style=\"color: #008000; text-decoration-color: #008000\">\"INGREDIENTS (One serving) 150 grams chicken, cut into bite-size pieces 50 grams sliced </span>   \n",
       "         <span style=\"color: #008000; text-decoration-color: #008000\">young galangal 100 grams lightly crushed lemongrass, julienned 100 grams straw mushrooms 250 grams coconut</span>\n",
       "         <span style=\"color: #008000; text-decoration-color: #008000\">milk 100 grams chicken stock 3 tbsp lime juice 3 tbsp fish sauce 2 leaves kaffir lime, shredded 1-2 </span>      \n",
       "         <span style=\"color: #008000; text-decoration-color: #008000\">bird\\u2019s eye chilies, pounded 3 leaves coriander Preparation: 10 mins Cooking: 20 mins Total: 30 mins </span> \n",
       "         <span style=\"color: #008000; text-decoration-color: #008000\">Spicy Level: HEALTH BENEFITS Vitamin A, B1, B2, B6, C, E, K, Folate, Copper, Iron, Phosphorus Directions: </span>\n",
       "         <span style=\"color: #008000; text-decoration-color: #008000\">1. Bring the chicken stock and coconut milk to a slow boil. Add galangal, lemongrass, chicken and </span>        \n",
       "         <span style=\"color: #008000; text-decoration-color: #008000\">mushrooms. When the soup returns to a boil, season it with fish sauce. 2. Wait until the chicken is </span>      \n",
       "         <span style=\"color: #008000; text-decoration-color: #008000\">cooked, and then add the kaffir lime leaves and bird\\u2019s eye chilies. Remove the pot from heat and add </span>\n",
       "         <span style=\"color: #008000; text-decoration-color: #008000\">lime juice. 3. Garnish with coriander leaves. Tips: \\u2022 Keep the heat low throughout the cooking </span>      \n",
       "         <span style=\"color: #008000; text-decoration-color: #008000\">process. High heat will make the oil in the coconut milk separate and rise to the top. \\u2022 If </span>         \n",
       "         <span style=\"color: #008000; text-decoration-color: #008000\">you\\u2019re using mature galangal, reduce the amount. \\u2022 Lime juice becomes more aromatic when it is </span> \n",
       "         <span style=\"color: #008000; text-decoration-color: #008000\">added after the pot is removed from heat. \\u2022 Reduce amount of chilies for a milder taste. { }Tom Kha </span> \n",
       "         <span style=\"color: #008000; text-decoration-color: #008000\">Gai Chicken and Galangal in Coconut Milk Soup T H A I S E L E C T C O O K B O O K | 0 7 30 Min\"</span>,          \n",
       "             <span style=\"color: #008000; text-decoration-color: #008000\">\"meta_data\"</span>: <span style=\"font-weight: bold\">{</span>                                                                                        \n",
       "               <span style=\"color: #008000; text-decoration-color: #008000\">\"page\"</span>: <span style=\"color: #008080; text-decoration-color: #008080; font-weight: bold\">5</span>,                                                                                          \n",
       "               <span style=\"color: #008000; text-decoration-color: #008000\">\"chunk\"</span>: <span style=\"color: #008080; text-decoration-color: #008080; font-weight: bold\">1</span>,                                                                                         \n",
       "               <span style=\"color: #008000; text-decoration-color: #008000\">\"chunk_size\"</span>: <span style=\"color: #008080; text-decoration-color: #008080; font-weight: bold\">1275</span>                                                                                  \n",
       "             <span style=\"font-weight: bold\">}</span>                                                                                                     \n",
       "           <span style=\"font-weight: bold\">}</span>,                                                                                                      \n",
       "           <span style=\"font-weight: bold\">{</span>                                                                                                       \n",
       "             <span style=\"color: #008000; text-decoration-color: #008000\">\"name\"</span>: <span style=\"color: #008000; text-decoration-color: #008000\">\"ThaiRecipes\"</span>,                                                                                \n",
       "             <span style=\"color: #008000; text-decoration-color: #008000\">\"content\"</span>: <span style=\"color: #008000; text-decoration-color: #008000\">\"INGREDIENTS (Two servings) 300 grams chicken rump 80 grams Massaman curry paste 100 grams </span>\n",
       "         <span style=\"color: #008000; text-decoration-color: #008000\">coconut cream (the top layer of coconut milk) 300 grams coconut milk 250 grams chicken stock 50 grams </span>    \n",
       "         <span style=\"color: #008000; text-decoration-color: #008000\">roasted peanuts 200 grams potatoes, chopped into large chunks 100 grams onion, chopped into large chunks </span> \n",
       "         <span style=\"color: #008000; text-decoration-color: #008000\">30 grams palm sugar 2 tbsp tamarind juice 1 tbsp fish sauce HEALTH BENEFITS Vitamin A, B6, C, E, K, </span>      \n",
       "         <span style=\"color: #008000; text-decoration-color: #008000\">Calcium, Copper, Iron, Magnesium, Potassium Preparation: 15 mins Cooking: 30 mins Total: 45 mins Spicy </span>   \n",
       "         <span style=\"color: #008000; text-decoration-color: #008000\">Level: { }Massaman Gai Massaman Curry with Chicken and Potatoes Directions: 1. Simmer coconut cream over </span> \n",
       "         <span style=\"color: #008000; text-decoration-color: #008000\">medium heat till the oil separates. Add Massaman curry paste and fry until the mix darkens and gives off a</span>\n",
       "         <span style=\"color: #008000; text-decoration-color: #008000\">fragrance. 2. Divide the coconut milk in half. Pour the first half into the pot and continue simmering </span>   \n",
       "         <span style=\"color: #008000; text-decoration-color: #008000\">until the mix starts to dry out. Then add chicken and the remaining coconut milk. 3. Add the chicken stock</span>\n",
       "         <span style=\"color: #008000; text-decoration-color: #008000\">and keep simmering until it comes to a boil. 4. Add roasted peanuts, potatoes and simmer until the chicken</span>\n",
       "         <span style=\"color: #008000; text-decoration-color: #008000\">is tender. 5. When the potatoes are cooked, season with fish sauce, palm sugar and tamarind juice. Add </span>   \n",
       "         <span style=\"color: #008000; text-decoration-color: #008000\">onion and cook through until the soup begins to dry out. Serve in a bowl. Tips: \\u2022 To make tamarind </span>  \n",
       "         <span style=\"color: #008000; text-decoration-color: #008000\">juice, mix 1 portion of the tamarind with 3 to 3.5 portions of water. \\u2022 Different brands of instant </span> \n",
       "         <span style=\"color: #008000; text-decoration-color: #008000\">tamarind juice have different flavors and levels of sourness. T H A I S E L E C T C O O K B O O K | 1 5 45</span>\n",
       "         <span style=\"color: #008000; text-decoration-color: #008000\">Min\"</span>,                                                                                                     \n",
       "             <span style=\"color: #008000; text-decoration-color: #008000\">\"meta_data\"</span>: <span style=\"font-weight: bold\">{</span>                                                                                        \n",
       "               <span style=\"color: #008000; text-decoration-color: #008000\">\"page\"</span>: <span style=\"color: #008080; text-decoration-color: #008080; font-weight: bold\">9</span>,                                                                                          \n",
       "               <span style=\"color: #008000; text-decoration-color: #008000\">\"chunk\"</span>: <span style=\"color: #008080; text-decoration-color: #008080; font-weight: bold\">1</span>,                                                                                         \n",
       "               <span style=\"color: #008000; text-decoration-color: #008000\">\"chunk_size\"</span>: <span style=\"color: #008080; text-decoration-color: #008080; font-weight: bold\">1441</span>                                                                                  \n",
       "             <span style=\"font-weight: bold\">}</span>                                                                                                     \n",
       "           <span style=\"font-weight: bold\">}</span>,                                                                                                      \n",
       "           <span style=\"font-weight: bold\">{</span>                                                                                                       \n",
       "             <span style=\"color: #008000; text-decoration-color: #008000\">\"name\"</span>: <span style=\"color: #008000; text-decoration-color: #008000\">\"ThaiRecipes\"</span>,                                                                                \n",
       "             <span style=\"color: #008000; text-decoration-color: #008000\">\"content\"</span>: <span style=\"color: #008000; text-decoration-color: #008000\">\"INGREDIENTS (Four servings) 2 1/2 cups black glutinous rice 1 cup coconut cream 2 cups </span>   \n",
       "         <span style=\"color: #008000; text-decoration-color: #008000\">sugar 5 cups young coconut juice 3 cups young coconut flesh, cut into slices 1/2 tsp salt HEALTH BENEFITS </span>\n",
       "         <span style=\"color: #008000; text-decoration-color: #008000\">Vitamin B, C, E, K, Folate, Iron, Magnesium, Manganese, Selenium Preparation: 10 mins Cooking: 20 mins </span>   \n",
       "         <span style=\"color: #008000; text-decoration-color: #008000\">Total: 30 mins Directions: 1. Rinse the black glutinous rice in water twice. Pour into a pot and add </span>     \n",
       "         <span style=\"color: #008000; text-decoration-color: #008000\">coconut juice. Place over medium heat and boil until the rice is thoroughly cooked. 2.Add sugar and </span>      \n",
       "         <span style=\"color: #008000; text-decoration-color: #008000\">continue boiling until well dissolved. 3. Add coconut flesh. Stir well. Bring to a boil once again and </span>   \n",
       "         <span style=\"color: #008000; text-decoration-color: #008000\">turn off the heat. 4. Mix the coconut cream and salt together and place over low heat. Stir regularly to </span> \n",
       "         <span style=\"color: #008000; text-decoration-color: #008000\">prevent the coconut cream from separating. When the coconut cream is well heated and salt is thoroughly </span>  \n",
       "         <span style=\"color: #008000; text-decoration-color: #008000\">dissolved, remove from the heat. 5. Spoon the sweet glutinous rice into a serving bowl and top with some </span> \n",
       "         <span style=\"color: #008000; text-decoration-color: #008000\">salted coconut cream. Tips: \\u2022 The young coconut flesh can be substituted with longan. \\u2022 The </span>    \n",
       "         <span style=\"color: #008000; text-decoration-color: #008000\">black glutinous rice can be substituted with the white kind which is widely used in many Thai desserts </span>   \n",
       "         <span style=\"color: #008000; text-decoration-color: #008000\">including the popular \\u201cMango with Sticky Rice.\\u201d Khao Niew Dam Piek Maphrao Awn Black Glutinous </span> \n",
       "         <span style=\"color: #008000; text-decoration-color: #008000\">Rice Pudding with Young Coconut Flesh { } T H A I S E L E C T C O O K B O O K | 2 1 30 Min\"</span>,              \n",
       "             <span style=\"color: #008000; text-decoration-color: #008000\">\"meta_data\"</span>: <span style=\"font-weight: bold\">{</span>                                                                                        \n",
       "               <span style=\"color: #008000; text-decoration-color: #008000\">\"page\"</span>: <span style=\"color: #008080; text-decoration-color: #008080; font-weight: bold\">12</span>,                                                                                         \n",
       "               <span style=\"color: #008000; text-decoration-color: #008000\">\"chunk\"</span>: <span style=\"color: #008080; text-decoration-color: #008080; font-weight: bold\">1</span>,                                                                                         \n",
       "               <span style=\"color: #008000; text-decoration-color: #008000\">\"chunk_size\"</span>: <span style=\"color: #008080; text-decoration-color: #008080; font-weight: bold\">1294</span>                                                                                  \n",
       "             <span style=\"font-weight: bold\">}</span>                                                                                                     \n",
       "           <span style=\"font-weight: bold\">}</span>,                                                                                                      \n",
       "           <span style=\"font-weight: bold\">{</span>                                                                                                       \n",
       "             <span style=\"color: #008000; text-decoration-color: #008000\">\"name\"</span>: <span style=\"color: #008000; text-decoration-color: #008000\">\"ThaiRecipes\"</span>,                                                                                \n",
       "             <span style=\"color: #008000; text-decoration-color: #008000\">\"content\"</span>: <span style=\"color: #008000; text-decoration-color: #008000\">\"INGREDIENTS (One serving) 3 peeled Thai prawns 300 grams chicken or vegetable stock 100 </span>  \n",
       "         <span style=\"color: #008000; text-decoration-color: #008000\">grams straw mushrooms 100 grams lightly crushed lemongrass, chopped into one inch pieces 2 grams coriander</span>\n",
       "         <span style=\"color: #008000; text-decoration-color: #008000\">roots 2 tbsp fish sauce 2 tbsp lime juice 3 leaves kaffir lime, shredded 1-2 lightly crushed bird\\u2019s </span> \n",
       "         <span style=\"color: #008000; text-decoration-color: #008000\">eye chilies 5 leaves coriander 1 tbsp chili paste 100 grams evaporated milk HEALTH BENEFITS Vitamin A, B1,</span>\n",
       "         <span style=\"color: #008000; text-decoration-color: #008000\">B2, C, E, K, Folate, Calcium, Iron, Phosphorus, Zinc Preparation: 20 mins Cooking: 20 mins Total: 40 mins </span>\n",
       "         <span style=\"color: #008000; text-decoration-color: #008000\">Spicy Level: Directions: 1. Boil the stock and add lemongrass and coriander roots. Continue boiling for a </span>\n",
       "         <span style=\"color: #008000; text-decoration-color: #008000\">few minutes. 2. Sieve out the ingredients. Bring the stock back to a boil and add straw mushrooms. 3. Add </span>\n",
       "         <span style=\"color: #008000; text-decoration-color: #008000\">prawns and wait until it returns to a full boil, then add fish sauce and kaffir lime leaves. 4. Add lime </span> \n",
       "         <span style=\"color: #008000; text-decoration-color: #008000\">juice and chilies. Serve Tom Yum Goong in a bowl. Garnish with coriander leaves (mix with chili paste and </span>\n",
       "         <span style=\"color: #008000; text-decoration-color: #008000\">evaporated milk as an alterna- tive of Tom Yum Num Khon). Tips: \\u2022 Fish sauce becomes aromatic only </span>  \n",
       "         <span style=\"color: #008000; text-decoration-color: #008000\">when it is added to the boiling soup. \\u2022 Lime juice becomes aromatic only when it is added after the </span> \n",
       "         <span style=\"color: #008000; text-decoration-color: #008000\">soup is removed from heat. Tom Yum Goong Spicy Prawns Soup with Chili Paste { } T H A I S E L E C T C O O </span>\n",
       "         <span style=\"color: #008000; text-decoration-color: #008000\">K B O O K | 1 7 40 Min\"</span>,                                                                                  \n",
       "             <span style=\"color: #008000; text-decoration-color: #008000\">\"meta_data\"</span>: <span style=\"font-weight: bold\">{</span>                                                                                        \n",
       "               <span style=\"color: #008000; text-decoration-color: #008000\">\"page\"</span>: <span style=\"color: #008080; text-decoration-color: #008080; font-weight: bold\">10</span>,                                                                                         \n",
       "               <span style=\"color: #008000; text-decoration-color: #008000\">\"chunk\"</span>: <span style=\"color: #008080; text-decoration-color: #008080; font-weight: bold\">1</span>,                                                                                         \n",
       "               <span style=\"color: #008000; text-decoration-color: #008000\">\"chunk_size\"</span>: <span style=\"color: #008080; text-decoration-color: #008080; font-weight: bold\">1258</span>                                                                                  \n",
       "             <span style=\"font-weight: bold\">}</span>                                                                                                     \n",
       "           <span style=\"font-weight: bold\">}</span>,                                                                                                      \n",
       "           <span style=\"font-weight: bold\">{</span>                                                                                                       \n",
       "             <span style=\"color: #008000; text-decoration-color: #008000\">\"name\"</span>: <span style=\"color: #008000; text-decoration-color: #008000\">\"ThaiRecipes\"</span>,                                                                                \n",
       "             <span style=\"color: #008000; text-decoration-color: #008000\">\"content\"</span>: <span style=\"color: #008000; text-decoration-color: #008000\">\"Preparation: 15 mins Cooking: 30 mins Total: 45 mins Spicy Level: HEALTH BENEFITS Vitamin </span>\n",
       "         <span style=\"color: #008000; text-decoration-color: #008000\">A, B1, B2, B6, C, K, Folate, Calcium, Iron, Manganese, Omega 3 INGREDIENTS (One serving) 5 peeled Thai </span>   \n",
       "         <span style=\"color: #008000; text-decoration-color: #008000\">shrimps 80 grams long beans, chopped into one inch pieces 80 grams cauliflower, cut into bite size pieces </span>\n",
       "         <span style=\"color: #008000; text-decoration-color: #008000\">100 grams cabbage, chopped two inch cubes 40 grams Gaeng Som paste 500 grams vegetable stock or water 4 </span>  \n",
       "         <span style=\"color: #008000; text-decoration-color: #008000\">tbsp tamarind juice 15 grams palm sugar 2 tbsp fish sauce Directions: 1. Clean the shrimps thoroughly and </span>\n",
       "         <span style=\"color: #008000; text-decoration-color: #008000\">devein them. Bring the vegetable stock (or water) to a boil and add Gaeng Som paste. 2. When the soup </span>    \n",
       "         <span style=\"color: #008000; text-decoration-color: #008000\">returns to a full boil, add vegetables in this order: cauliflower, long beans and cabbage. 3. Season with </span>\n",
       "         <span style=\"color: #008000; text-decoration-color: #008000\">palm sugar, tamarind juice and fish sauce, making sure everything is well dissolved. 4.Add shrimps and </span>   \n",
       "         <span style=\"color: #008000; text-decoration-color: #008000\">cook briefly. Tips: \\u2022 As an alternative, shrimp can be replaced with fish. \\u2022 Seafood cooks quite</span>\n",
       "         <span style=\"color: #008000; text-decoration-color: #008000\">quickly thus shrimp and fish should be in the boiling soup only briefly, and then whisked out and served </span> \n",
       "         <span style=\"color: #008000; text-decoration-color: #008000\">to keep it fresh and juicy. \\u2022 Prepare the drier, tougher ingredients first, like cauliflower and long</span>\n",
       "         <span style=\"color: #008000; text-decoration-color: #008000\">beans, followed by leafy vegetables like cabbage. Gaeng Som Phak Ruam Sour Curry with Mixed Vegetables { }</span>\n",
       "         <span style=\"color: #008000; text-decoration-color: #008000\">T H A I S E L E C T C O O K B O O K | 1 9 45 Min\"</span>,                                                        \n",
       "             <span style=\"color: #008000; text-decoration-color: #008000\">\"meta_data\"</span>: <span style=\"font-weight: bold\">{</span>                                                                                        \n",
       "               <span style=\"color: #008000; text-decoration-color: #008000\">\"page\"</span>: <span style=\"color: #008080; text-decoration-color: #008080; font-weight: bold\">11</span>,                                                                                         \n",
       "               <span style=\"color: #008000; text-decoration-color: #008000\">\"chunk\"</span>: <span style=\"color: #008080; text-decoration-color: #008080; font-weight: bold\">1</span>,                                                                                         \n",
       "               <span style=\"color: #008000; text-decoration-color: #008000\">\"chunk_size\"</span>: <span style=\"color: #008080; text-decoration-color: #008080; font-weight: bold\">1279</span>                                                                                  \n",
       "             <span style=\"font-weight: bold\">}</span>                                                                                                     \n",
       "           <span style=\"font-weight: bold\">}</span>                                                                                                       \n",
       "         <span style=\"font-weight: bold\">]</span>                                                                                                         \n",
       "</pre>\n"
      ],
      "text/plain": [
       "\u001b[32mDEBUG   \u001b[0m \u001b[1m[\u001b[0m                                                                                                         \n",
       "           \u001b[1m{\u001b[0m                                                                                                       \n",
       "             \u001b[32m\"name\"\u001b[0m: \u001b[32m\"ThaiRecipes\"\u001b[0m,                                                                                \n",
       "             \u001b[32m\"content\"\u001b[0m: \u001b[32m\"INGREDIENTS \u001b[0m\u001b[32m(\u001b[0m\u001b[32mOne serving\u001b[0m\u001b[32m)\u001b[0m\u001b[32m 150 grams chicken, cut into bite-size pieces 50 grams sliced \u001b[0m   \n",
       "         \u001b[32myoung galangal 100 grams lightly crushed lemongrass, julienned 100 grams straw mushrooms 250 grams coconut\u001b[0m\n",
       "         \u001b[32mmilk 100 grams chicken stock 3 tbsp lime juice 3 tbsp fish sauce 2 leaves kaffir lime, shredded 1-2 \u001b[0m      \n",
       "         \u001b[32mbird\\u2019s eye chilies, pounded 3 leaves coriander Preparation: 10 mins Cooking: 20 mins Total: 30 mins \u001b[0m \n",
       "         \u001b[32mSpicy Level: HEALTH BENEFITS Vitamin A, B1, B2, B6, C, E, K, Folate, Copper, Iron, Phosphorus Directions: \u001b[0m\n",
       "         \u001b[32m1. Bring the chicken stock and coconut milk to a slow boil. Add galangal, lemongrass, chicken and \u001b[0m        \n",
       "         \u001b[32mmushrooms. When the soup returns to a boil, season it with fish sauce. 2. Wait until the chicken is \u001b[0m      \n",
       "         \u001b[32mcooked, and then add the kaffir lime leaves and bird\\u2019s eye chilies. Remove the pot from heat and add \u001b[0m\n",
       "         \u001b[32mlime juice. 3. Garnish with coriander leaves. Tips: \\u2022 Keep the heat low throughout the cooking \u001b[0m      \n",
       "         \u001b[32mprocess. High heat will make the oil in the coconut milk separate and rise to the top. \\u2022 If \u001b[0m         \n",
       "         \u001b[32myou\\u2019re using mature galangal, reduce the amount. \\u2022 Lime juice becomes more aromatic when it is \u001b[0m \n",
       "         \u001b[32madded after the pot is removed from heat. \\u2022 Reduce amount of chilies for a milder taste. \u001b[0m\u001b[32m{\u001b[0m\u001b[32m \u001b[0m\u001b[32m}\u001b[0m\u001b[32mTom Kha \u001b[0m \n",
       "         \u001b[32mGai Chicken and Galangal in Coconut Milk Soup T H A I S E L E C T C O O K B O O K | 0 7 30 Min\"\u001b[0m,          \n",
       "             \u001b[32m\"meta_data\"\u001b[0m: \u001b[1m{\u001b[0m                                                                                        \n",
       "               \u001b[32m\"page\"\u001b[0m: \u001b[1;36m5\u001b[0m,                                                                                          \n",
       "               \u001b[32m\"chunk\"\u001b[0m: \u001b[1;36m1\u001b[0m,                                                                                         \n",
       "               \u001b[32m\"chunk_size\"\u001b[0m: \u001b[1;36m1275\u001b[0m                                                                                  \n",
       "             \u001b[1m}\u001b[0m                                                                                                     \n",
       "           \u001b[1m}\u001b[0m,                                                                                                      \n",
       "           \u001b[1m{\u001b[0m                                                                                                       \n",
       "             \u001b[32m\"name\"\u001b[0m: \u001b[32m\"ThaiRecipes\"\u001b[0m,                                                                                \n",
       "             \u001b[32m\"content\"\u001b[0m: \u001b[32m\"INGREDIENTS \u001b[0m\u001b[32m(\u001b[0m\u001b[32mTwo servings\u001b[0m\u001b[32m)\u001b[0m\u001b[32m 300 grams chicken rump 80 grams Massaman curry paste 100 grams \u001b[0m\n",
       "         \u001b[32mcoconut cream \u001b[0m\u001b[32m(\u001b[0m\u001b[32mthe top layer of coconut milk\u001b[0m\u001b[32m)\u001b[0m\u001b[32m 300 grams coconut milk 250 grams chicken stock 50 grams \u001b[0m    \n",
       "         \u001b[32mroasted peanuts 200 grams potatoes, chopped into large chunks 100 grams onion, chopped into large chunks \u001b[0m \n",
       "         \u001b[32m30 grams palm sugar 2 tbsp tamarind juice 1 tbsp fish sauce HEALTH BENEFITS Vitamin A, B6, C, E, K, \u001b[0m      \n",
       "         \u001b[32mCalcium, Copper, Iron, Magnesium, Potassium Preparation: 15 mins Cooking: 30 mins Total: 45 mins Spicy \u001b[0m   \n",
       "         \u001b[32mLevel: \u001b[0m\u001b[32m{\u001b[0m\u001b[32m \u001b[0m\u001b[32m}\u001b[0m\u001b[32mMassaman Gai Massaman Curry with Chicken and Potatoes Directions: 1. Simmer coconut cream over \u001b[0m \n",
       "         \u001b[32mmedium heat till the oil separates. Add Massaman curry paste and fry until the mix darkens and gives off a\u001b[0m\n",
       "         \u001b[32mfragrance. 2. Divide the coconut milk in half. Pour the first half into the pot and continue simmering \u001b[0m   \n",
       "         \u001b[32muntil the mix starts to dry out. Then add chicken and the remaining coconut milk. 3. Add the chicken stock\u001b[0m\n",
       "         \u001b[32mand keep simmering until it comes to a boil. 4. Add roasted peanuts, potatoes and simmer until the chicken\u001b[0m\n",
       "         \u001b[32mis tender. 5. When the potatoes are cooked, season with fish sauce, palm sugar and tamarind juice. Add \u001b[0m   \n",
       "         \u001b[32monion and cook through until the soup begins to dry out. Serve in a bowl. Tips: \\u2022 To make tamarind \u001b[0m  \n",
       "         \u001b[32mjuice, mix 1 portion of the tamarind with 3 to 3.5 portions of water. \\u2022 Different brands of instant \u001b[0m \n",
       "         \u001b[32mtamarind juice have different flavors and levels of sourness. T H A I S E L E C T C O O K B O O K | 1 5 45\u001b[0m\n",
       "         \u001b[32mMin\"\u001b[0m,                                                                                                     \n",
       "             \u001b[32m\"meta_data\"\u001b[0m: \u001b[1m{\u001b[0m                                                                                        \n",
       "               \u001b[32m\"page\"\u001b[0m: \u001b[1;36m9\u001b[0m,                                                                                          \n",
       "               \u001b[32m\"chunk\"\u001b[0m: \u001b[1;36m1\u001b[0m,                                                                                         \n",
       "               \u001b[32m\"chunk_size\"\u001b[0m: \u001b[1;36m1441\u001b[0m                                                                                  \n",
       "             \u001b[1m}\u001b[0m                                                                                                     \n",
       "           \u001b[1m}\u001b[0m,                                                                                                      \n",
       "           \u001b[1m{\u001b[0m                                                                                                       \n",
       "             \u001b[32m\"name\"\u001b[0m: \u001b[32m\"ThaiRecipes\"\u001b[0m,                                                                                \n",
       "             \u001b[32m\"content\"\u001b[0m: \u001b[32m\"INGREDIENTS \u001b[0m\u001b[32m(\u001b[0m\u001b[32mFour servings\u001b[0m\u001b[32m)\u001b[0m\u001b[32m 2 1/2 cups black glutinous rice 1 cup coconut cream 2 cups \u001b[0m   \n",
       "         \u001b[32msugar 5 cups young coconut juice 3 cups young coconut flesh, cut into slices 1/2 tsp salt HEALTH BENEFITS \u001b[0m\n",
       "         \u001b[32mVitamin B, C, E, K, Folate, Iron, Magnesium, Manganese, Selenium Preparation: 10 mins Cooking: 20 mins \u001b[0m   \n",
       "         \u001b[32mTotal: 30 mins Directions: 1. Rinse the black glutinous rice in water twice. Pour into a pot and add \u001b[0m     \n",
       "         \u001b[32mcoconut juice. Place over medium heat and boil until the rice is thoroughly cooked. 2.Add sugar and \u001b[0m      \n",
       "         \u001b[32mcontinue boiling until well dissolved. 3. Add coconut flesh. Stir well. Bring to a boil once again and \u001b[0m   \n",
       "         \u001b[32mturn off the heat. 4. Mix the coconut cream and salt together and place over low heat. Stir regularly to \u001b[0m \n",
       "         \u001b[32mprevent the coconut cream from separating. When the coconut cream is well heated and salt is thoroughly \u001b[0m  \n",
       "         \u001b[32mdissolved, remove from the heat. 5. Spoon the sweet glutinous rice into a serving bowl and top with some \u001b[0m \n",
       "         \u001b[32msalted coconut cream. Tips: \\u2022 The young coconut flesh can be substituted with longan. \\u2022 The \u001b[0m    \n",
       "         \u001b[32mblack glutinous rice can be substituted with the white kind which is widely used in many Thai desserts \u001b[0m   \n",
       "         \u001b[32mincluding the popular \\u201cMango with Sticky Rice.\\u201d Khao Niew Dam Piek Maphrao Awn Black Glutinous \u001b[0m \n",
       "         \u001b[32mRice Pudding with Young Coconut Flesh \u001b[0m\u001b[32m{\u001b[0m\u001b[32m \u001b[0m\u001b[32m}\u001b[0m\u001b[32m T H A I S E L E C T C O O K B O O K | 2 1 30 Min\"\u001b[0m,              \n",
       "             \u001b[32m\"meta_data\"\u001b[0m: \u001b[1m{\u001b[0m                                                                                        \n",
       "               \u001b[32m\"page\"\u001b[0m: \u001b[1;36m12\u001b[0m,                                                                                         \n",
       "               \u001b[32m\"chunk\"\u001b[0m: \u001b[1;36m1\u001b[0m,                                                                                         \n",
       "               \u001b[32m\"chunk_size\"\u001b[0m: \u001b[1;36m1294\u001b[0m                                                                                  \n",
       "             \u001b[1m}\u001b[0m                                                                                                     \n",
       "           \u001b[1m}\u001b[0m,                                                                                                      \n",
       "           \u001b[1m{\u001b[0m                                                                                                       \n",
       "             \u001b[32m\"name\"\u001b[0m: \u001b[32m\"ThaiRecipes\"\u001b[0m,                                                                                \n",
       "             \u001b[32m\"content\"\u001b[0m: \u001b[32m\"INGREDIENTS \u001b[0m\u001b[32m(\u001b[0m\u001b[32mOne serving\u001b[0m\u001b[32m)\u001b[0m\u001b[32m 3 peeled Thai prawns 300 grams chicken or vegetable stock 100 \u001b[0m  \n",
       "         \u001b[32mgrams straw mushrooms 100 grams lightly crushed lemongrass, chopped into one inch pieces 2 grams coriander\u001b[0m\n",
       "         \u001b[32mroots 2 tbsp fish sauce 2 tbsp lime juice 3 leaves kaffir lime, shredded 1-2 lightly crushed bird\\u2019s \u001b[0m \n",
       "         \u001b[32meye chilies 5 leaves coriander 1 tbsp chili paste 100 grams evaporated milk HEALTH BENEFITS Vitamin A, B1,\u001b[0m\n",
       "         \u001b[32mB2, C, E, K, Folate, Calcium, Iron, Phosphorus, Zinc Preparation: 20 mins Cooking: 20 mins Total: 40 mins \u001b[0m\n",
       "         \u001b[32mSpicy Level: Directions: 1. Boil the stock and add lemongrass and coriander roots. Continue boiling for a \u001b[0m\n",
       "         \u001b[32mfew minutes. 2. Sieve out the ingredients. Bring the stock back to a boil and add straw mushrooms. 3. Add \u001b[0m\n",
       "         \u001b[32mprawns and wait until it returns to a full boil, then add fish sauce and kaffir lime leaves. 4. Add lime \u001b[0m \n",
       "         \u001b[32mjuice and chilies. Serve Tom Yum Goong in a bowl. Garnish with coriander leaves \u001b[0m\u001b[32m(\u001b[0m\u001b[32mmix with chili paste and \u001b[0m\n",
       "         \u001b[32mevaporated milk as an alterna- tive of Tom Yum Num Khon\u001b[0m\u001b[32m)\u001b[0m\u001b[32m. Tips: \\u2022 Fish sauce becomes aromatic only \u001b[0m  \n",
       "         \u001b[32mwhen it is added to the boiling soup. \\u2022 Lime juice becomes aromatic only when it is added after the \u001b[0m \n",
       "         \u001b[32msoup is removed from heat. Tom Yum Goong Spicy Prawns Soup with Chili Paste \u001b[0m\u001b[32m{\u001b[0m\u001b[32m \u001b[0m\u001b[32m}\u001b[0m\u001b[32m T H A I S E L E C T C O O \u001b[0m\n",
       "         \u001b[32mK B O O K | 1 7 40 Min\"\u001b[0m,                                                                                  \n",
       "             \u001b[32m\"meta_data\"\u001b[0m: \u001b[1m{\u001b[0m                                                                                        \n",
       "               \u001b[32m\"page\"\u001b[0m: \u001b[1;36m10\u001b[0m,                                                                                         \n",
       "               \u001b[32m\"chunk\"\u001b[0m: \u001b[1;36m1\u001b[0m,                                                                                         \n",
       "               \u001b[32m\"chunk_size\"\u001b[0m: \u001b[1;36m1258\u001b[0m                                                                                  \n",
       "             \u001b[1m}\u001b[0m                                                                                                     \n",
       "           \u001b[1m}\u001b[0m,                                                                                                      \n",
       "           \u001b[1m{\u001b[0m                                                                                                       \n",
       "             \u001b[32m\"name\"\u001b[0m: \u001b[32m\"ThaiRecipes\"\u001b[0m,                                                                                \n",
       "             \u001b[32m\"content\"\u001b[0m: \u001b[32m\"Preparation: 15 mins Cooking: 30 mins Total: 45 mins Spicy Level: HEALTH BENEFITS Vitamin \u001b[0m\n",
       "         \u001b[32mA, B1, B2, B6, C, K, Folate, Calcium, Iron, Manganese, Omega 3 INGREDIENTS \u001b[0m\u001b[32m(\u001b[0m\u001b[32mOne serving\u001b[0m\u001b[32m)\u001b[0m\u001b[32m 5 peeled Thai \u001b[0m   \n",
       "         \u001b[32mshrimps 80 grams long beans, chopped into one inch pieces 80 grams cauliflower, cut into bite size pieces \u001b[0m\n",
       "         \u001b[32m100 grams cabbage, chopped two inch cubes 40 grams Gaeng Som paste 500 grams vegetable stock or water 4 \u001b[0m  \n",
       "         \u001b[32mtbsp tamarind juice 15 grams palm sugar 2 tbsp fish sauce Directions: 1. Clean the shrimps thoroughly and \u001b[0m\n",
       "         \u001b[32mdevein them. Bring the vegetable stock \u001b[0m\u001b[32m(\u001b[0m\u001b[32mor water\u001b[0m\u001b[32m)\u001b[0m\u001b[32m to a boil and add Gaeng Som paste. 2. When the soup \u001b[0m    \n",
       "         \u001b[32mreturns to a full boil, add vegetables in this order: cauliflower, long beans and cabbage. 3. Season with \u001b[0m\n",
       "         \u001b[32mpalm sugar, tamarind juice and fish sauce, making sure everything is well dissolved. 4.Add shrimps and \u001b[0m   \n",
       "         \u001b[32mcook briefly. Tips: \\u2022 As an alternative, shrimp can be replaced with fish. \\u2022 Seafood cooks quite\u001b[0m\n",
       "         \u001b[32mquickly thus shrimp and fish should be in the boiling soup only briefly, and then whisked out and served \u001b[0m \n",
       "         \u001b[32mto keep it fresh and juicy. \\u2022 Prepare the drier, tougher ingredients first, like cauliflower and long\u001b[0m\n",
       "         \u001b[32mbeans, followed by leafy vegetables like cabbage. Gaeng Som Phak Ruam Sour Curry with Mixed Vegetables \u001b[0m\u001b[32m{\u001b[0m\u001b[32m \u001b[0m\u001b[32m}\u001b[0m\n",
       "         \u001b[32mT H A I S E L E C T C O O K B O O K | 1 9 45 Min\"\u001b[0m,                                                        \n",
       "             \u001b[32m\"meta_data\"\u001b[0m: \u001b[1m{\u001b[0m                                                                                        \n",
       "               \u001b[32m\"page\"\u001b[0m: \u001b[1;36m11\u001b[0m,                                                                                         \n",
       "               \u001b[32m\"chunk\"\u001b[0m: \u001b[1;36m1\u001b[0m,                                                                                         \n",
       "               \u001b[32m\"chunk_size\"\u001b[0m: \u001b[1;36m1279\u001b[0m                                                                                  \n",
       "             \u001b[1m}\u001b[0m                                                                                                     \n",
       "           \u001b[1m}\u001b[0m                                                                                                       \n",
       "         \u001b[1m]\u001b[0m                                                                                                         \n"
      ]
     },
     "metadata": {},
     "output_type": "display_data"
    },
    {
     "data": {
      "text/html": [
       "<pre style=\"white-space:pre;overflow-x:auto;line-height:normal;font-family:Menlo,'DejaVu Sans Mono',consolas,'Courier New',monospace\"><span style=\"color: #008000; text-decoration-color: #008000\">DEBUG   </span> **************** METRICS ****************                                                                 \n",
       "</pre>\n"
      ],
      "text/plain": [
       "\u001b[32mDEBUG   \u001b[0m **************** METRICS ****************                                                                 \n"
      ]
     },
     "metadata": {},
     "output_type": "display_data"
    },
    {
     "data": {
      "text/html": [
       "<pre style=\"white-space:pre;overflow-x:auto;line-height:normal;font-family:Menlo,'DejaVu Sans Mono',consolas,'Courier New',monospace\"><span style=\"color: #008000; text-decoration-color: #008000\">DEBUG   </span> * Time:                        <span style=\"color: #008080; text-decoration-color: #008080; font-weight: bold\">0.</span>6223s                                                                    \n",
       "</pre>\n"
      ],
      "text/plain": [
       "\u001b[32mDEBUG   \u001b[0m * Time:                        \u001b[1;36m0.\u001b[0m6223s                                                                    \n"
      ]
     },
     "metadata": {},
     "output_type": "display_data"
    },
    {
     "data": {
      "text/html": [
       "<pre style=\"white-space:pre;overflow-x:auto;line-height:normal;font-family:Menlo,'DejaVu Sans Mono',consolas,'Courier New',monospace\"><span style=\"color: #008000; text-decoration-color: #008000\">DEBUG   </span> **************** METRICS ******************                                                               \n",
       "</pre>\n"
      ],
      "text/plain": [
       "\u001b[32mDEBUG   \u001b[0m **************** METRICS ******************                                                               \n"
      ]
     },
     "metadata": {},
     "output_type": "display_data"
    },
    {
     "data": {
      "text/html": [
       "<pre style=\"white-space:pre;overflow-x:auto;line-height:normal;font-family:Menlo,'DejaVu Sans Mono',consolas,'Courier New',monospace\"><span style=\"color: #008000; text-decoration-color: #008000\">DEBUG   </span> ============== assistant ==============                                                                   \n",
       "</pre>\n"
      ],
      "text/plain": [
       "\u001b[32mDEBUG   \u001b[0m ============== assistant ==============                                                                   \n"
      ]
     },
     "metadata": {},
     "output_type": "display_data"
    },
    {
     "data": {
      "text/html": [
       "<pre style=\"white-space:pre;overflow-x:auto;line-height:normal;font-family:Menlo,'DejaVu Sans Mono',consolas,'Courier New',monospace\"><span style=\"color: #008000; text-decoration-color: #008000\">DEBUG   </span> Here are the recipes extracted from the provided Thai cuisine book:                                       \n",
       "                                                                                                                   \n",
       "         **Recipe <span style=\"color: #008080; text-decoration-color: #008080; font-weight: bold\">1</span>: Khao Niew Dam Piek Maphrao <span style=\"font-weight: bold\">(</span>Awn Black Glutinous Rice Pudding with Young Coconut Flesh<span style=\"font-weight: bold\">)</span>**      \n",
       "                                                                                                                   \n",
       "         Ingredients:                                                                                              \n",
       "                                                                                                                   \n",
       "         * <span style=\"color: #008080; text-decoration-color: #008080; font-weight: bold\">1</span> cup black glutinous rice                                                                              \n",
       "         * <span style=\"color: #008080; text-decoration-color: #008080; font-weight: bold\">2</span> cups water                                                                                            \n",
       "         * <span style=\"color: #008080; text-decoration-color: #008080; font-weight: bold\">1</span>/<span style=\"color: #008080; text-decoration-color: #008080; font-weight: bold\">4</span> cup coconut milk                                                                                    \n",
       "         * <span style=\"color: #008080; text-decoration-color: #008080; font-weight: bold\">1</span>/<span style=\"color: #008080; text-decoration-color: #008080; font-weight: bold\">4</span> cup sugar                                                                                           \n",
       "         * <span style=\"color: #008080; text-decoration-color: #008080; font-weight: bold\">1</span>/<span style=\"color: #008080; text-decoration-color: #008080; font-weight: bold\">4</span> teaspoon salt                                                                                       \n",
       "         * <span style=\"color: #008080; text-decoration-color: #008080; font-weight: bold\">1</span>/<span style=\"color: #008080; text-decoration-color: #008080; font-weight: bold\">2</span> cup young coconut flesh                                                                             \n",
       "                                                                                                                   \n",
       "         Instructions:                                                                                             \n",
       "                                                                                                                   \n",
       "         <span style=\"color: #008080; text-decoration-color: #008080; font-weight: bold\">1</span>. Rinse the black glutinous rice and soak it in water for at least <span style=\"color: #008080; text-decoration-color: #008080; font-weight: bold\">30</span> minutes.                           \n",
       "         <span style=\"color: #008080; text-decoration-color: #008080; font-weight: bold\">2</span>. Drain and rinse the rice again.                                                                        \n",
       "         <span style=\"color: #008080; text-decoration-color: #008080; font-weight: bold\">3</span>. In a medium saucepan, combine the rice, water, sugar, and salt. Cook over medium heat, stirring        \n",
       "         constantly, until the mixture comes to a boil.                                                            \n",
       "         <span style=\"color: #008080; text-decoration-color: #008080; font-weight: bold\">4</span>. Reduce the heat to low and simmer for about <span style=\"color: #008080; text-decoration-color: #008080; font-weight: bold\">10</span>-<span style=\"color: #008080; text-decoration-color: #008080; font-weight: bold\">15</span> minutes or until the rice is cooked and creamy.      \n",
       "         <span style=\"color: #008080; text-decoration-color: #008080; font-weight: bold\">5</span>. Stir in the coconut milk and cook for another minute.                                                  \n",
       "         <span style=\"color: #008080; text-decoration-color: #008080; font-weight: bold\">6</span>. Transfer the pudding to individual serving bowls and top with salted coconut cream.                    \n",
       "                                                                                                                   \n",
       "         **Recipe <span style=\"color: #008080; text-decoration-color: #008080; font-weight: bold\">2</span>: Tom Yum Goong <span style=\"font-weight: bold\">(</span>Spicy Prawns Soup with Chili Paste<span style=\"font-weight: bold\">)</span>**                                          \n",
       "                                                                                                                   \n",
       "         Ingredients:                                                                                              \n",
       "                                                                                                                   \n",
       "         * <span style=\"color: #008080; text-decoration-color: #008080; font-weight: bold\">3</span> peeled prawns                                                                                         \n",
       "         * 300g chicken or vegetable stock                                                                         \n",
       "         * 100g straw mushrooms                                                                                    \n",
       "         * 100g lemongrass, chopped into <span style=\"color: #008080; text-decoration-color: #008080; font-weight: bold\">1</span>-inch pieces                                                             \n",
       "         * <span style=\"color: #008080; text-decoration-color: #008080; font-weight: bold\">2</span> coriander roots                                                                                       \n",
       "         * <span style=\"color: #008080; text-decoration-color: #008080; font-weight: bold\">2</span> tbsp fish sauce                                                                                       \n",
       "         * <span style=\"color: #008080; text-decoration-color: #008080; font-weight: bold\">2</span> tbsp lime juice                                                                                       \n",
       "         * <span style=\"color: #008080; text-decoration-color: #008080; font-weight: bold\">3</span> leaves kaffir lime                                                                                    \n",
       "         * <span style=\"color: #008080; text-decoration-color: #008080; font-weight: bold\">1</span>-<span style=\"color: #008080; text-decoration-color: #008080; font-weight: bold\">2</span> bird's eye chilies                                                                                  \n",
       "         * <span style=\"color: #008080; text-decoration-color: #008080; font-weight: bold\">5</span> coriander leaves                                                                                      \n",
       "         * Chili paste <span style=\"font-weight: bold\">(</span>optional<span style=\"font-weight: bold\">)</span>                                                                                  \n",
       "                                                                                                                   \n",
       "         Instructions:                                                                                             \n",
       "                                                                                                                   \n",
       "         <span style=\"color: #008080; text-decoration-color: #008080; font-weight: bold\">1</span>. Boil the stock and add lemongrass and coriander roots. Continue boiling for a few minutes.             \n",
       "         <span style=\"color: #008080; text-decoration-color: #008080; font-weight: bold\">2</span>. Sieve out the ingredients.                                                                             \n",
       "         <span style=\"color: #008080; text-decoration-color: #008080; font-weight: bold\">3</span>. Bring the stock back to a boil and add straw mushrooms.                                                \n",
       "         <span style=\"color: #008080; text-decoration-color: #008080; font-weight: bold\">4</span>. Add prawns and wait until it returns to a full boil, then add fish sauce and kaffir lime leaves.       \n",
       "         <span style=\"color: #008080; text-decoration-color: #008080; font-weight: bold\">5</span>. Add lime juice and chilies. Serve Tom Yum Goong in a bowl.                                             \n",
       "                                                                                                                   \n",
       "         **Recipe <span style=\"color: #008080; text-decoration-color: #008080; font-weight: bold\">3</span>: Gaeng Som Phak Ruam <span style=\"font-weight: bold\">(</span>Sour Curry with Mixed Vegetables<span style=\"font-weight: bold\">)</span>**                                      \n",
       "                                                                                                                   \n",
       "         Ingredients:                                                                                              \n",
       "                                                                                                                   \n",
       "         * <span style=\"color: #008080; text-decoration-color: #008080; font-weight: bold\">5</span> peeled Thai shrimps                                                                                   \n",
       "         * 80g long beans, chopped into <span style=\"color: #008080; text-decoration-color: #008080; font-weight: bold\">1</span>-inch pieces                                                              \n",
       "         * 80g cauliflower, cut into bite-size pieces                                                              \n",
       "         * 100g cabbage, chopped <span style=\"color: #008080; text-decoration-color: #008080; font-weight: bold\">2</span>-inch cubes                                                                      \n",
       "         * 40g Gaeng Som paste                                                                                     \n",
       "         * 500g vegetable stock or water                                                                           \n",
       "         * <span style=\"color: #008080; text-decoration-color: #008080; font-weight: bold\">4</span> tbsp tamarind juice                                                                                   \n",
       "         * 15g palm sugar                                                                                          \n",
       "         * <span style=\"color: #008080; text-decoration-color: #008080; font-weight: bold\">2</span> tbsp fish sauce                                                                                       \n",
       "                                                                                                                   \n",
       "         Instructions:                                                                                             \n",
       "                                                                                                                   \n",
       "         <span style=\"color: #008080; text-decoration-color: #008080; font-weight: bold\">1</span>. Clean the shrimps thoroughly and devein them.                                                          \n",
       "         <span style=\"color: #008080; text-decoration-color: #008080; font-weight: bold\">2</span>. Bring the vegetable stock <span style=\"font-weight: bold\">(</span>or water<span style=\"font-weight: bold\">)</span> to a boil and add Gaeng Som paste.                                \n",
       "         <span style=\"color: #008080; text-decoration-color: #008080; font-weight: bold\">3</span>. When the soup returns to a full boil, add vegetables in this order: cauliflower, long beans, and       \n",
       "         cabbage.                                                                                                  \n",
       "         <span style=\"color: #008080; text-decoration-color: #008080; font-weight: bold\">4</span>. Season with palm sugar, tamarind juice, and fish sauce, making sure everything is well dissolved.      \n",
       "         <span style=\"color: #008080; text-decoration-color: #008080; font-weight: bold\">5</span>. Add shrimps and cook briefly.                                                                          \n",
       "                                                                                                                   \n",
       "         Note: These recipes are based on the provided text and may not be complete or up-to-date. It's always a   \n",
       "         good idea to verify the recipes with the original source or consult multiple sources for accuracy.        \n",
       "</pre>\n"
      ],
      "text/plain": [
       "\u001b[32mDEBUG   \u001b[0m Here are the recipes extracted from the provided Thai cuisine book:                                       \n",
       "                                                                                                                   \n",
       "         **Recipe \u001b[1;36m1\u001b[0m: Khao Niew Dam Piek Maphrao \u001b[1m(\u001b[0mAwn Black Glutinous Rice Pudding with Young Coconut Flesh\u001b[1m)\u001b[0m**      \n",
       "                                                                                                                   \n",
       "         Ingredients:                                                                                              \n",
       "                                                                                                                   \n",
       "         * \u001b[1;36m1\u001b[0m cup black glutinous rice                                                                              \n",
       "         * \u001b[1;36m2\u001b[0m cups water                                                                                            \n",
       "         * \u001b[1;36m1\u001b[0m/\u001b[1;36m4\u001b[0m cup coconut milk                                                                                    \n",
       "         * \u001b[1;36m1\u001b[0m/\u001b[1;36m4\u001b[0m cup sugar                                                                                           \n",
       "         * \u001b[1;36m1\u001b[0m/\u001b[1;36m4\u001b[0m teaspoon salt                                                                                       \n",
       "         * \u001b[1;36m1\u001b[0m/\u001b[1;36m2\u001b[0m cup young coconut flesh                                                                             \n",
       "                                                                                                                   \n",
       "         Instructions:                                                                                             \n",
       "                                                                                                                   \n",
       "         \u001b[1;36m1\u001b[0m. Rinse the black glutinous rice and soak it in water for at least \u001b[1;36m30\u001b[0m minutes.                           \n",
       "         \u001b[1;36m2\u001b[0m. Drain and rinse the rice again.                                                                        \n",
       "         \u001b[1;36m3\u001b[0m. In a medium saucepan, combine the rice, water, sugar, and salt. Cook over medium heat, stirring        \n",
       "         constantly, until the mixture comes to a boil.                                                            \n",
       "         \u001b[1;36m4\u001b[0m. Reduce the heat to low and simmer for about \u001b[1;36m10\u001b[0m-\u001b[1;36m15\u001b[0m minutes or until the rice is cooked and creamy.      \n",
       "         \u001b[1;36m5\u001b[0m. Stir in the coconut milk and cook for another minute.                                                  \n",
       "         \u001b[1;36m6\u001b[0m. Transfer the pudding to individual serving bowls and top with salted coconut cream.                    \n",
       "                                                                                                                   \n",
       "         **Recipe \u001b[1;36m2\u001b[0m: Tom Yum Goong \u001b[1m(\u001b[0mSpicy Prawns Soup with Chili Paste\u001b[1m)\u001b[0m**                                          \n",
       "                                                                                                                   \n",
       "         Ingredients:                                                                                              \n",
       "                                                                                                                   \n",
       "         * \u001b[1;36m3\u001b[0m peeled prawns                                                                                         \n",
       "         * 300g chicken or vegetable stock                                                                         \n",
       "         * 100g straw mushrooms                                                                                    \n",
       "         * 100g lemongrass, chopped into \u001b[1;36m1\u001b[0m-inch pieces                                                             \n",
       "         * \u001b[1;36m2\u001b[0m coriander roots                                                                                       \n",
       "         * \u001b[1;36m2\u001b[0m tbsp fish sauce                                                                                       \n",
       "         * \u001b[1;36m2\u001b[0m tbsp lime juice                                                                                       \n",
       "         * \u001b[1;36m3\u001b[0m leaves kaffir lime                                                                                    \n",
       "         * \u001b[1;36m1\u001b[0m-\u001b[1;36m2\u001b[0m bird's eye chilies                                                                                  \n",
       "         * \u001b[1;36m5\u001b[0m coriander leaves                                                                                      \n",
       "         * Chili paste \u001b[1m(\u001b[0moptional\u001b[1m)\u001b[0m                                                                                  \n",
       "                                                                                                                   \n",
       "         Instructions:                                                                                             \n",
       "                                                                                                                   \n",
       "         \u001b[1;36m1\u001b[0m. Boil the stock and add lemongrass and coriander roots. Continue boiling for a few minutes.             \n",
       "         \u001b[1;36m2\u001b[0m. Sieve out the ingredients.                                                                             \n",
       "         \u001b[1;36m3\u001b[0m. Bring the stock back to a boil and add straw mushrooms.                                                \n",
       "         \u001b[1;36m4\u001b[0m. Add prawns and wait until it returns to a full boil, then add fish sauce and kaffir lime leaves.       \n",
       "         \u001b[1;36m5\u001b[0m. Add lime juice and chilies. Serve Tom Yum Goong in a bowl.                                             \n",
       "                                                                                                                   \n",
       "         **Recipe \u001b[1;36m3\u001b[0m: Gaeng Som Phak Ruam \u001b[1m(\u001b[0mSour Curry with Mixed Vegetables\u001b[1m)\u001b[0m**                                      \n",
       "                                                                                                                   \n",
       "         Ingredients:                                                                                              \n",
       "                                                                                                                   \n",
       "         * \u001b[1;36m5\u001b[0m peeled Thai shrimps                                                                                   \n",
       "         * 80g long beans, chopped into \u001b[1;36m1\u001b[0m-inch pieces                                                              \n",
       "         * 80g cauliflower, cut into bite-size pieces                                                              \n",
       "         * 100g cabbage, chopped \u001b[1;36m2\u001b[0m-inch cubes                                                                      \n",
       "         * 40g Gaeng Som paste                                                                                     \n",
       "         * 500g vegetable stock or water                                                                           \n",
       "         * \u001b[1;36m4\u001b[0m tbsp tamarind juice                                                                                   \n",
       "         * 15g palm sugar                                                                                          \n",
       "         * \u001b[1;36m2\u001b[0m tbsp fish sauce                                                                                       \n",
       "                                                                                                                   \n",
       "         Instructions:                                                                                             \n",
       "                                                                                                                   \n",
       "         \u001b[1;36m1\u001b[0m. Clean the shrimps thoroughly and devein them.                                                          \n",
       "         \u001b[1;36m2\u001b[0m. Bring the vegetable stock \u001b[1m(\u001b[0mor water\u001b[1m)\u001b[0m to a boil and add Gaeng Som paste.                                \n",
       "         \u001b[1;36m3\u001b[0m. When the soup returns to a full boil, add vegetables in this order: cauliflower, long beans, and       \n",
       "         cabbage.                                                                                                  \n",
       "         \u001b[1;36m4\u001b[0m. Season with palm sugar, tamarind juice, and fish sauce, making sure everything is well dissolved.      \n",
       "         \u001b[1;36m5\u001b[0m. Add shrimps and cook briefly.                                                                          \n",
       "                                                                                                                   \n",
       "         Note: These recipes are based on the provided text and may not be complete or up-to-date. It's always a   \n",
       "         good idea to verify the recipes with the original source or consult multiple sources for accuracy.        \n"
      ]
     },
     "metadata": {},
     "output_type": "display_data"
    },
    {
     "data": {
      "text/html": [
       "<pre style=\"white-space:pre;overflow-x:auto;line-height:normal;font-family:Menlo,'DejaVu Sans Mono',consolas,'Courier New',monospace\"><span style=\"color: #008000; text-decoration-color: #008000\">DEBUG   </span> **************** METRICS ****************                                                                 \n",
       "</pre>\n"
      ],
      "text/plain": [
       "\u001b[32mDEBUG   \u001b[0m **************** METRICS ****************                                                                 \n"
      ]
     },
     "metadata": {},
     "output_type": "display_data"
    },
    {
     "data": {
      "text/html": [
       "<pre style=\"white-space:pre;overflow-x:auto;line-height:normal;font-family:Menlo,'DejaVu Sans Mono',consolas,'Courier New',monospace\"><span style=\"color: #008000; text-decoration-color: #008000\">DEBUG   </span> * Input tokens:                <span style=\"color: #008080; text-decoration-color: #008080; font-weight: bold\">2048</span>                                                                       \n",
       "</pre>\n"
      ],
      "text/plain": [
       "\u001b[32mDEBUG   \u001b[0m * Input tokens:                \u001b[1;36m2048\u001b[0m                                                                       \n"
      ]
     },
     "metadata": {},
     "output_type": "display_data"
    },
    {
     "data": {
      "text/html": [
       "<pre style=\"white-space:pre;overflow-x:auto;line-height:normal;font-family:Menlo,'DejaVu Sans Mono',consolas,'Courier New',monospace\"><span style=\"color: #008000; text-decoration-color: #008000\">DEBUG   </span> * Output tokens:               <span style=\"color: #008080; text-decoration-color: #008080; font-weight: bold\">679</span>                                                                        \n",
       "</pre>\n"
      ],
      "text/plain": [
       "\u001b[32mDEBUG   \u001b[0m * Output tokens:               \u001b[1;36m679\u001b[0m                                                                        \n"
      ]
     },
     "metadata": {},
     "output_type": "display_data"
    },
    {
     "data": {
      "text/html": [
       "<pre style=\"white-space:pre;overflow-x:auto;line-height:normal;font-family:Menlo,'DejaVu Sans Mono',consolas,'Courier New',monospace\"><span style=\"color: #008000; text-decoration-color: #008000\">DEBUG   </span> * Total tokens:                <span style=\"color: #008080; text-decoration-color: #008080; font-weight: bold\">2727</span>                                                                       \n",
       "</pre>\n"
      ],
      "text/plain": [
       "\u001b[32mDEBUG   \u001b[0m * Total tokens:                \u001b[1;36m2727\u001b[0m                                                                       \n"
      ]
     },
     "metadata": {},
     "output_type": "display_data"
    },
    {
     "data": {
      "text/html": [
       "<pre style=\"white-space:pre;overflow-x:auto;line-height:normal;font-family:Menlo,'DejaVu Sans Mono',consolas,'Courier New',monospace\"><span style=\"color: #008000; text-decoration-color: #008000\">DEBUG   </span> * Time:                        <span style=\"color: #008080; text-decoration-color: #008080; font-weight: bold\">347.</span>8346s                                                                  \n",
       "</pre>\n"
      ],
      "text/plain": [
       "\u001b[32mDEBUG   \u001b[0m * Time:                        \u001b[1;36m347.\u001b[0m8346s                                                                  \n"
      ]
     },
     "metadata": {},
     "output_type": "display_data"
    },
    {
     "data": {
      "text/html": [
       "<pre style=\"white-space:pre;overflow-x:auto;line-height:normal;font-family:Menlo,'DejaVu Sans Mono',consolas,'Courier New',monospace\"><span style=\"color: #008000; text-decoration-color: #008000\">DEBUG   </span> * Tokens per second:           <span style=\"color: #008080; text-decoration-color: #008080; font-weight: bold\">1.9521</span> tokens/s                                                            \n",
       "</pre>\n"
      ],
      "text/plain": [
       "\u001b[32mDEBUG   \u001b[0m * Tokens per second:           \u001b[1;36m1.9521\u001b[0m tokens/s                                                            \n"
      ]
     },
     "metadata": {},
     "output_type": "display_data"
    },
    {
     "data": {
      "text/html": [
       "<pre style=\"white-space:pre;overflow-x:auto;line-height:normal;font-family:Menlo,'DejaVu Sans Mono',consolas,'Courier New',monospace\"><span style=\"color: #008000; text-decoration-color: #008000\">DEBUG   </span> * Additional metrics:          <span style=\"font-weight: bold\">{</span><span style=\"color: #008000; text-decoration-color: #008000\">'total_duration'</span>: <span style=\"color: #008080; text-decoration-color: #008080; font-weight: bold\">347830529100</span>, <span style=\"color: #008000; text-decoration-color: #008000\">'load_duration'</span>: <span style=\"color: #008080; text-decoration-color: #008080; font-weight: bold\">28613300</span>,                \n",
       "         <span style=\"color: #008000; text-decoration-color: #008000\">'prompt_eval_duration'</span>: <span style=\"color: #008080; text-decoration-color: #008080; font-weight: bold\">210962000000</span>, <span style=\"color: #008000; text-decoration-color: #008000\">'eval_duration'</span>: <span style=\"color: #008080; text-decoration-color: #008080; font-weight: bold\">136831000000</span><span style=\"font-weight: bold\">}</span>                                      \n",
       "</pre>\n"
      ],
      "text/plain": [
       "\u001b[32mDEBUG   \u001b[0m * Additional metrics:          \u001b[1m{\u001b[0m\u001b[32m'total_duration'\u001b[0m: \u001b[1;36m347830529100\u001b[0m, \u001b[32m'load_duration'\u001b[0m: \u001b[1;36m28613300\u001b[0m,                \n",
       "         \u001b[32m'prompt_eval_duration'\u001b[0m: \u001b[1;36m210962000000\u001b[0m, \u001b[32m'eval_duration'\u001b[0m: \u001b[1;36m136831000000\u001b[0m\u001b[1m}\u001b[0m                                      \n"
      ]
     },
     "metadata": {},
     "output_type": "display_data"
    },
    {
     "data": {
      "text/html": [
       "<pre style=\"white-space:pre;overflow-x:auto;line-height:normal;font-family:Menlo,'DejaVu Sans Mono',consolas,'Courier New',monospace\"><span style=\"color: #008000; text-decoration-color: #008000\">DEBUG   </span> **************** METRICS ******************                                                               \n",
       "</pre>\n"
      ],
      "text/plain": [
       "\u001b[32mDEBUG   \u001b[0m **************** METRICS ******************                                                               \n"
      ]
     },
     "metadata": {},
     "output_type": "display_data"
    },
    {
     "data": {
      "text/html": [
       "<pre style=\"white-space:pre;overflow-x:auto;line-height:normal;font-family:Menlo,'DejaVu Sans Mono',consolas,'Courier New',monospace\"><span style=\"color: #008000; text-decoration-color: #008000\">DEBUG   </span> ---------- Ollama Response End ----------                                                                 \n",
       "</pre>\n"
      ],
      "text/plain": [
       "\u001b[32mDEBUG   \u001b[0m ---------- Ollama Response End ----------                                                                 \n"
      ]
     },
     "metadata": {},
     "output_type": "display_data"
    },
    {
     "data": {
      "text/html": [
       "<pre style=\"white-space:pre;overflow-x:auto;line-height:normal;font-family:Menlo,'DejaVu Sans Mono',consolas,'Courier New',monospace\"><span style=\"color: #008000; text-decoration-color: #008000\">DEBUG   </span> Added <span style=\"color: #008080; text-decoration-color: #008080; font-weight: bold\">4</span> Messages to AgentMemory                                                                           \n",
       "</pre>\n"
      ],
      "text/plain": [
       "\u001b[32mDEBUG   \u001b[0m Added \u001b[1;36m4\u001b[0m Messages to AgentMemory                                                                           \n"
      ]
     },
     "metadata": {},
     "output_type": "display_data"
    },
    {
     "data": {
      "text/html": [
       "<pre style=\"white-space:pre;overflow-x:auto;line-height:normal;font-family:Menlo,'DejaVu Sans Mono',consolas,'Courier New',monospace\"><span style=\"color: #008000; text-decoration-color: #008000\">DEBUG   </span> Added AgentRun to AgentMemory                                                                             \n",
       "</pre>\n"
      ],
      "text/plain": [
       "\u001b[32mDEBUG   \u001b[0m Added AgentRun to AgentMemory                                                                             \n"
      ]
     },
     "metadata": {},
     "output_type": "display_data"
    },
    {
     "data": {
      "text/html": [
       "<pre style=\"white-space:pre;overflow-x:auto;line-height:normal;font-family:Menlo,'DejaVu Sans Mono',consolas,'Courier New',monospace\"><span style=\"color: #008000; text-decoration-color: #008000\">DEBUG   </span> --**-- Logging Agent Run                                                                                  \n",
       "</pre>\n"
      ],
      "text/plain": [
       "\u001b[32mDEBUG   \u001b[0m --**-- Logging Agent Run                                                                                  \n"
      ]
     },
     "metadata": {},
     "output_type": "display_data"
    },
    {
     "data": {
      "text/html": [
       "<pre style=\"white-space:pre;overflow-x:auto;line-height:normal;font-family:Menlo,'DejaVu Sans Mono',consolas,'Courier New',monospace\"><span style=\"color: #008000; text-decoration-color: #008000\">DEBUG   </span> *********** Agent Run End: <span style=\"color: #ffff00; text-decoration-color: #ffff00\">e239a6d6-3319-4f3b-94d1-13115016f981</span> ***********                               \n",
       "</pre>\n"
      ],
      "text/plain": [
       "\u001b[32mDEBUG   \u001b[0m *********** Agent Run End: \u001b[93me239a6d6-3319-4f3b-94d1-13115016f981\u001b[0m ***********                               \n"
      ]
     },
     "metadata": {},
     "output_type": "display_data"
    },
    {
     "data": {
      "text/plain": [
       "RunResponse(content=\" - Running: search_knowledge_base(query=chicken and galangal in coconut milk soup recipe)\\n\\nHere are the recipes extracted from the provided Thai cuisine book:\\n\\n**Recipe 1: Khao Niew Dam Piek Maphrao (Awn Black Glutinous Rice Pudding with Young Coconut Flesh)**\\n\\nIngredients:\\n\\n* 1 cup black glutinous rice\\n* 2 cups water\\n* 1/4 cup coconut milk\\n* 1/4 cup sugar\\n* 1/4 teaspoon salt\\n* 1/2 cup young coconut flesh\\n\\nInstructions:\\n\\n1. Rinse the black glutinous rice and soak it in water for at least 30 minutes.\\n2. Drain and rinse the rice again.\\n3. In a medium saucepan, combine the rice, water, sugar, and salt. Cook over medium heat, stirring constantly, until the mixture comes to a boil.\\n4. Reduce the heat to low and simmer for about 10-15 minutes or until the rice is cooked and creamy.\\n5. Stir in the coconut milk and cook for another minute.\\n6. Transfer the pudding to individual serving bowls and top with salted coconut cream.\\n\\n**Recipe 2: Tom Yum Goong (Spicy Prawns Soup with Chili Paste)**\\n\\nIngredients:\\n\\n* 3 peeled prawns\\n* 300g chicken or vegetable stock\\n* 100g straw mushrooms\\n* 100g lemongrass, chopped into 1-inch pieces\\n* 2 coriander roots\\n* 2 tbsp fish sauce\\n* 2 tbsp lime juice\\n* 3 leaves kaffir lime\\n* 1-2 bird's eye chilies\\n* 5 coriander leaves\\n* Chili paste (optional)\\n\\nInstructions:\\n\\n1. Boil the stock and add lemongrass and coriander roots. Continue boiling for a few minutes.\\n2. Sieve out the ingredients.\\n3. Bring the stock back to a boil and add straw mushrooms.\\n4. Add prawns and wait until it returns to a full boil, then add fish sauce and kaffir lime leaves.\\n5. Add lime juice and chilies. Serve Tom Yum Goong in a bowl.\\n\\n**Recipe 3: Gaeng Som Phak Ruam (Sour Curry with Mixed Vegetables)**\\n\\nIngredients:\\n\\n* 5 peeled Thai shrimps\\n* 80g long beans, chopped into 1-inch pieces\\n* 80g cauliflower, cut into bite-size pieces\\n* 100g cabbage, chopped 2-inch cubes\\n* 40g Gaeng Som paste\\n* 500g vegetable stock or water\\n* 4 tbsp tamarind juice\\n* 15g palm sugar\\n* 2 tbsp fish sauce\\n\\nInstructions:\\n\\n1. Clean the shrimps thoroughly and devein them.\\n2. Bring the vegetable stock (or water) to a boil and add Gaeng Som paste.\\n3. When the soup returns to a full boil, add vegetables in this order: cauliflower, long beans, and cabbage.\\n4. Season with palm sugar, tamarind juice, and fish sauce, making sure everything is well dissolved.\\n5. Add shrimps and cook briefly.\\n\\nNote: These recipes are based on the provided text and may not be complete or up-to-date. It's always a good idea to verify the recipes with the original source or consult multiple sources for accuracy.\", content_type='str', event='RunResponse', messages=[Message(role='user', content='How do I make chicken and galangal in coconut milk soup', name=None, tool_call_id=None, tool_calls=None, audio=None, images=None, videos=None, audio_output=None, reasoning_content=None, tool_name=None, tool_args=None, tool_call_error=None, stop_after_tool_call=False, add_to_agent_memory=True, from_history=False, metrics=MessageMetrics(input_tokens=0, output_tokens=0, total_tokens=0, prompt_tokens=0, completion_tokens=0, prompt_tokens_details=None, completion_tokens_details=None, additional_metrics=None, time=None, time_to_first_token=None, timer=None), references=None, created_at=1739399977), Message(role='assistant', content='', name=None, tool_call_id=None, tool_calls=[{'type': 'function', 'function': {'name': 'search_knowledge_base', 'arguments': '{\"query\": \"chicken and galangal in coconut milk soup recipe\"}'}}], audio=None, images=None, videos=None, audio_output=None, reasoning_content=None, tool_name=None, tool_args=None, tool_call_error=None, stop_after_tool_call=False, add_to_agent_memory=True, from_history=False, metrics=MessageMetrics(input_tokens=183, output_tokens=29, total_tokens=212, prompt_tokens=0, completion_tokens=0, prompt_tokens_details=None, completion_tokens_details=None, additional_metrics={'total_duration': 27174341300, 'load_duration': 32258900, 'prompt_eval_duration': 23452000000, 'eval_duration': 3688000000}, time=27.560887500003446, time_to_first_token=None, timer=<agno.utils.timer.Timer object at 0x0000019C9708FA10>), references=None, created_at=1739399977), Message(role='tool', content='[\\n  {\\n    \"name\": \"ThaiRecipes\",\\n    \"content\": \"INGREDIENTS (One serving) 150 grams chicken, cut into bite-size pieces 50 grams sliced young galangal 100 grams lightly crushed lemongrass, julienned 100 grams straw mushrooms 250 grams coconut milk 100 grams chicken stock 3 tbsp lime juice 3 tbsp fish sauce 2 leaves kaffir lime, shredded 1-2 bird\\\\u2019s eye chilies, pounded 3 leaves coriander Preparation: 10 mins Cooking: 20 mins Total: 30 mins Spicy Level: HEALTH BENEFITS Vitamin A, B1, B2, B6, C, E, K, Folate, Copper, Iron, Phosphorus Directions: 1. Bring the chicken stock and coconut milk to a slow boil. Add galangal, lemongrass, chicken and mushrooms. When the soup returns to a boil, season it with fish sauce. 2. Wait until the chicken is cooked, and then add the kaffir lime leaves and bird\\\\u2019s eye chilies. Remove the pot from heat and add lime juice. 3. Garnish with coriander leaves. Tips: \\\\u2022 Keep the heat low throughout the cooking process. High heat will make the oil in the coconut milk separate and rise to the top. \\\\u2022 If you\\\\u2019re using mature galangal, reduce the amount. \\\\u2022 Lime juice becomes more aromatic when it is added after the pot is removed from heat. \\\\u2022 Reduce amount of chilies for a milder taste. { }Tom Kha Gai Chicken and Galangal in Coconut Milk Soup T H A I S E L E C T C O O K B O O K | 0 7 30 Min\",\\n    \"meta_data\": {\\n      \"page\": 5,\\n      \"chunk\": 1,\\n      \"chunk_size\": 1275\\n    }\\n  },\\n  {\\n    \"name\": \"ThaiRecipes\",\\n    \"content\": \"INGREDIENTS (Two servings) 300 grams chicken rump 80 grams Massaman curry paste 100 grams coconut cream (the top layer of coconut milk) 300 grams coconut milk 250 grams chicken stock 50 grams roasted peanuts 200 grams potatoes, chopped into large chunks 100 grams onion, chopped into large chunks 30 grams palm sugar 2 tbsp tamarind juice 1 tbsp fish sauce HEALTH BENEFITS Vitamin A, B6, C, E, K, Calcium, Copper, Iron, Magnesium, Potassium Preparation: 15 mins Cooking: 30 mins Total: 45 mins Spicy Level: { }Massaman Gai Massaman Curry with Chicken and Potatoes Directions: 1. Simmer coconut cream over medium heat till the oil separates. Add Massaman curry paste and fry until the mix darkens and gives off a fragrance. 2. Divide the coconut milk in half. Pour the first half into the pot and continue simmering until the mix starts to dry out. Then add chicken and the remaining coconut milk. 3. Add the chicken stock and keep simmering until it comes to a boil. 4. Add roasted peanuts, potatoes and simmer until the chicken is tender. 5. When the potatoes are cooked, season with fish sauce, palm sugar and tamarind juice. Add onion and cook through until the soup begins to dry out. Serve in a bowl. Tips: \\\\u2022 To make tamarind juice, mix 1 portion of the tamarind with 3 to 3.5 portions of water. \\\\u2022 Different brands of instant tamarind juice have different flavors and levels of sourness. T H A I S E L E C T C O O K B O O K | 1 5 45 Min\",\\n    \"meta_data\": {\\n      \"page\": 9,\\n      \"chunk\": 1,\\n      \"chunk_size\": 1441\\n    }\\n  },\\n  {\\n    \"name\": \"ThaiRecipes\",\\n    \"content\": \"INGREDIENTS (Four servings) 2 1/2 cups black glutinous rice 1 cup coconut cream 2 cups sugar 5 cups young coconut juice 3 cups young coconut flesh, cut into slices 1/2 tsp salt HEALTH BENEFITS Vitamin B, C, E, K, Folate, Iron, Magnesium, Manganese, Selenium Preparation: 10 mins Cooking: 20 mins Total: 30 mins Directions: 1. Rinse the black glutinous rice in water twice. Pour into a pot and add coconut juice. Place over medium heat and boil until the rice is thoroughly cooked. 2.Add sugar and continue boiling until well dissolved. 3. Add coconut flesh. Stir well. Bring to a boil once again and turn off the heat. 4. Mix the coconut cream and salt together and place over low heat. Stir regularly to prevent the coconut cream from separating. When the coconut cream is well heated and salt is thoroughly dissolved, remove from the heat. 5. Spoon the sweet glutinous rice into a serving bowl and top with some salted coconut cream. Tips: \\\\u2022 The young coconut flesh can be substituted with longan. \\\\u2022 The black glutinous rice can be substituted with the white kind which is widely used in many Thai desserts including the popular \\\\u201cMango with Sticky Rice.\\\\u201d Khao Niew Dam Piek Maphrao Awn Black Glutinous Rice Pudding with Young Coconut Flesh { } T H A I S E L E C T C O O K B O O K | 2 1 30 Min\",\\n    \"meta_data\": {\\n      \"page\": 12,\\n      \"chunk\": 1,\\n      \"chunk_size\": 1294\\n    }\\n  },\\n  {\\n    \"name\": \"ThaiRecipes\",\\n    \"content\": \"INGREDIENTS (One serving) 3 peeled Thai prawns 300 grams chicken or vegetable stock 100 grams straw mushrooms 100 grams lightly crushed lemongrass, chopped into one inch pieces 2 grams coriander roots 2 tbsp fish sauce 2 tbsp lime juice 3 leaves kaffir lime, shredded 1-2 lightly crushed bird\\\\u2019s eye chilies 5 leaves coriander 1 tbsp chili paste 100 grams evaporated milk HEALTH BENEFITS Vitamin A, B1, B2, C, E, K, Folate, Calcium, Iron, Phosphorus, Zinc Preparation: 20 mins Cooking: 20 mins Total: 40 mins Spicy Level: Directions: 1. Boil the stock and add lemongrass and coriander roots. Continue boiling for a few minutes. 2. Sieve out the ingredients. Bring the stock back to a boil and add straw mushrooms. 3. Add prawns and wait until it returns to a full boil, then add fish sauce and kaffir lime leaves. 4. Add lime juice and chilies. Serve Tom Yum Goong in a bowl. Garnish with coriander leaves (mix with chili paste and evaporated milk as an alterna- tive of Tom Yum Num Khon). Tips: \\\\u2022 Fish sauce becomes aromatic only when it is added to the boiling soup. \\\\u2022 Lime juice becomes aromatic only when it is added after the soup is removed from heat. Tom Yum Goong Spicy Prawns Soup with Chili Paste { } T H A I S E L E C T C O O K B O O K | 1 7 40 Min\",\\n    \"meta_data\": {\\n      \"page\": 10,\\n      \"chunk\": 1,\\n      \"chunk_size\": 1258\\n    }\\n  },\\n  {\\n    \"name\": \"ThaiRecipes\",\\n    \"content\": \"Preparation: 15 mins Cooking: 30 mins Total: 45 mins Spicy Level: HEALTH BENEFITS Vitamin A, B1, B2, B6, C, K, Folate, Calcium, Iron, Manganese, Omega 3 INGREDIENTS (One serving) 5 peeled Thai shrimps 80 grams long beans, chopped into one inch pieces 80 grams cauliflower, cut into bite size pieces 100 grams cabbage, chopped two inch cubes 40 grams Gaeng Som paste 500 grams vegetable stock or water 4 tbsp tamarind juice 15 grams palm sugar 2 tbsp fish sauce Directions: 1. Clean the shrimps thoroughly and devein them. Bring the vegetable stock (or water) to a boil and add Gaeng Som paste. 2. When the soup returns to a full boil, add vegetables in this order: cauliflower, long beans and cabbage. 3. Season with palm sugar, tamarind juice and fish sauce, making sure everything is well dissolved. 4.Add shrimps and cook briefly. Tips: \\\\u2022 As an alternative, shrimp can be replaced with fish. \\\\u2022 Seafood cooks quite quickly thus shrimp and fish should be in the boiling soup only briefly, and then whisked out and served to keep it fresh and juicy. \\\\u2022 Prepare the drier, tougher ingredients first, like cauliflower and long beans, followed by leafy vegetables like cabbage. Gaeng Som Phak Ruam Sour Curry with Mixed Vegetables { } T H A I S E L E C T C O O K B O O K | 1 9 45 Min\",\\n    \"meta_data\": {\\n      \"page\": 11,\\n      \"chunk\": 1,\\n      \"chunk_size\": 1279\\n    }\\n  }\\n]', name=None, tool_call_id=None, tool_calls=None, audio=None, images=None, videos=None, audio_output=None, reasoning_content=None, tool_name='search_knowledge_base', tool_args={'query': 'chicken and galangal in coconut milk soup recipe'}, tool_call_error=False, stop_after_tool_call=False, add_to_agent_memory=True, from_history=False, metrics=MessageMetrics(input_tokens=0, output_tokens=0, total_tokens=0, prompt_tokens=0, completion_tokens=0, prompt_tokens_details=None, completion_tokens_details=None, additional_metrics=None, time=0.6223013999988325, time_to_first_token=None, timer=None), references=None, created_at=1739400005), Message(role='assistant', content=\"Here are the recipes extracted from the provided Thai cuisine book:\\n\\n**Recipe 1: Khao Niew Dam Piek Maphrao (Awn Black Glutinous Rice Pudding with Young Coconut Flesh)**\\n\\nIngredients:\\n\\n* 1 cup black glutinous rice\\n* 2 cups water\\n* 1/4 cup coconut milk\\n* 1/4 cup sugar\\n* 1/4 teaspoon salt\\n* 1/2 cup young coconut flesh\\n\\nInstructions:\\n\\n1. Rinse the black glutinous rice and soak it in water for at least 30 minutes.\\n2. Drain and rinse the rice again.\\n3. In a medium saucepan, combine the rice, water, sugar, and salt. Cook over medium heat, stirring constantly, until the mixture comes to a boil.\\n4. Reduce the heat to low and simmer for about 10-15 minutes or until the rice is cooked and creamy.\\n5. Stir in the coconut milk and cook for another minute.\\n6. Transfer the pudding to individual serving bowls and top with salted coconut cream.\\n\\n**Recipe 2: Tom Yum Goong (Spicy Prawns Soup with Chili Paste)**\\n\\nIngredients:\\n\\n* 3 peeled prawns\\n* 300g chicken or vegetable stock\\n* 100g straw mushrooms\\n* 100g lemongrass, chopped into 1-inch pieces\\n* 2 coriander roots\\n* 2 tbsp fish sauce\\n* 2 tbsp lime juice\\n* 3 leaves kaffir lime\\n* 1-2 bird's eye chilies\\n* 5 coriander leaves\\n* Chili paste (optional)\\n\\nInstructions:\\n\\n1. Boil the stock and add lemongrass and coriander roots. Continue boiling for a few minutes.\\n2. Sieve out the ingredients.\\n3. Bring the stock back to a boil and add straw mushrooms.\\n4. Add prawns and wait until it returns to a full boil, then add fish sauce and kaffir lime leaves.\\n5. Add lime juice and chilies. Serve Tom Yum Goong in a bowl.\\n\\n**Recipe 3: Gaeng Som Phak Ruam (Sour Curry with Mixed Vegetables)**\\n\\nIngredients:\\n\\n* 5 peeled Thai shrimps\\n* 80g long beans, chopped into 1-inch pieces\\n* 80g cauliflower, cut into bite-size pieces\\n* 100g cabbage, chopped 2-inch cubes\\n* 40g Gaeng Som paste\\n* 500g vegetable stock or water\\n* 4 tbsp tamarind juice\\n* 15g palm sugar\\n* 2 tbsp fish sauce\\n\\nInstructions:\\n\\n1. Clean the shrimps thoroughly and devein them.\\n2. Bring the vegetable stock (or water) to a boil and add Gaeng Som paste.\\n3. When the soup returns to a full boil, add vegetables in this order: cauliflower, long beans, and cabbage.\\n4. Season with palm sugar, tamarind juice, and fish sauce, making sure everything is well dissolved.\\n5. Add shrimps and cook briefly.\\n\\nNote: These recipes are based on the provided text and may not be complete or up-to-date. It's always a good idea to verify the recipes with the original source or consult multiple sources for accuracy.\", name=None, tool_call_id=None, tool_calls=None, audio=None, images=None, videos=None, audio_output=None, reasoning_content=None, tool_name=None, tool_args=None, tool_call_error=None, stop_after_tool_call=False, add_to_agent_memory=True, from_history=False, metrics=MessageMetrics(input_tokens=2048, output_tokens=679, total_tokens=2727, prompt_tokens=0, completion_tokens=0, prompt_tokens_details=None, completion_tokens_details=None, additional_metrics={'total_duration': 347830529100, 'load_duration': 28613300, 'prompt_eval_duration': 210962000000, 'eval_duration': 136831000000}, time=347.8345517000125, time_to_first_token=None, timer=<agno.utils.timer.Timer object at 0x0000019C971DC2B0>), references=None, created_at=1739400005)], metrics={'input_tokens': [183, 2048], 'output_tokens': [29, 679], 'total_tokens': [212, 2727], 'prompt_tokens': [0, 0], 'completion_tokens': [0, 0], 'additional_metrics': [{'total_duration': 27174341300, 'load_duration': 32258900, 'prompt_eval_duration': 23452000000, 'eval_duration': 3688000000}, {'total_duration': 347830529100, 'load_duration': 28613300, 'prompt_eval_duration': 210962000000, 'eval_duration': 136831000000}], 'time': [27.560887500003446, 347.8345517000125]}, model='llama3.2:3b', run_id='e239a6d6-3319-4f3b-94d1-13115016f981', agent_id='eb3265c7-2c9c-4df4-b8bf-da5acd5c814b', session_id='6f042532-415f-465b-8609-8123869b5bf0', workflow_id=None, tools=[{'content': '[\\n  {\\n    \"name\": \"ThaiRecipes\",\\n    \"content\": \"INGREDIENTS (One serving) 150 grams chicken, cut into bite-size pieces 50 grams sliced young galangal 100 grams lightly crushed lemongrass, julienned 100 grams straw mushrooms 250 grams coconut milk 100 grams chicken stock 3 tbsp lime juice 3 tbsp fish sauce 2 leaves kaffir lime, shredded 1-2 bird\\\\u2019s eye chilies, pounded 3 leaves coriander Preparation: 10 mins Cooking: 20 mins Total: 30 mins Spicy Level: HEALTH BENEFITS Vitamin A, B1, B2, B6, C, E, K, Folate, Copper, Iron, Phosphorus Directions: 1. Bring the chicken stock and coconut milk to a slow boil. Add galangal, lemongrass, chicken and mushrooms. When the soup returns to a boil, season it with fish sauce. 2. Wait until the chicken is cooked, and then add the kaffir lime leaves and bird\\\\u2019s eye chilies. Remove the pot from heat and add lime juice. 3. Garnish with coriander leaves. Tips: \\\\u2022 Keep the heat low throughout the cooking process. High heat will make the oil in the coconut milk separate and rise to the top. \\\\u2022 If you\\\\u2019re using mature galangal, reduce the amount. \\\\u2022 Lime juice becomes more aromatic when it is added after the pot is removed from heat. \\\\u2022 Reduce amount of chilies for a milder taste. { }Tom Kha Gai Chicken and Galangal in Coconut Milk Soup T H A I S E L E C T C O O K B O O K | 0 7 30 Min\",\\n    \"meta_data\": {\\n      \"page\": 5,\\n      \"chunk\": 1,\\n      \"chunk_size\": 1275\\n    }\\n  },\\n  {\\n    \"name\": \"ThaiRecipes\",\\n    \"content\": \"INGREDIENTS (Two servings) 300 grams chicken rump 80 grams Massaman curry paste 100 grams coconut cream (the top layer of coconut milk) 300 grams coconut milk 250 grams chicken stock 50 grams roasted peanuts 200 grams potatoes, chopped into large chunks 100 grams onion, chopped into large chunks 30 grams palm sugar 2 tbsp tamarind juice 1 tbsp fish sauce HEALTH BENEFITS Vitamin A, B6, C, E, K, Calcium, Copper, Iron, Magnesium, Potassium Preparation: 15 mins Cooking: 30 mins Total: 45 mins Spicy Level: { }Massaman Gai Massaman Curry with Chicken and Potatoes Directions: 1. Simmer coconut cream over medium heat till the oil separates. Add Massaman curry paste and fry until the mix darkens and gives off a fragrance. 2. Divide the coconut milk in half. Pour the first half into the pot and continue simmering until the mix starts to dry out. Then add chicken and the remaining coconut milk. 3. Add the chicken stock and keep simmering until it comes to a boil. 4. Add roasted peanuts, potatoes and simmer until the chicken is tender. 5. When the potatoes are cooked, season with fish sauce, palm sugar and tamarind juice. Add onion and cook through until the soup begins to dry out. Serve in a bowl. Tips: \\\\u2022 To make tamarind juice, mix 1 portion of the tamarind with 3 to 3.5 portions of water. \\\\u2022 Different brands of instant tamarind juice have different flavors and levels of sourness. T H A I S E L E C T C O O K B O O K | 1 5 45 Min\",\\n    \"meta_data\": {\\n      \"page\": 9,\\n      \"chunk\": 1,\\n      \"chunk_size\": 1441\\n    }\\n  },\\n  {\\n    \"name\": \"ThaiRecipes\",\\n    \"content\": \"INGREDIENTS (Four servings) 2 1/2 cups black glutinous rice 1 cup coconut cream 2 cups sugar 5 cups young coconut juice 3 cups young coconut flesh, cut into slices 1/2 tsp salt HEALTH BENEFITS Vitamin B, C, E, K, Folate, Iron, Magnesium, Manganese, Selenium Preparation: 10 mins Cooking: 20 mins Total: 30 mins Directions: 1. Rinse the black glutinous rice in water twice. Pour into a pot and add coconut juice. Place over medium heat and boil until the rice is thoroughly cooked. 2.Add sugar and continue boiling until well dissolved. 3. Add coconut flesh. Stir well. Bring to a boil once again and turn off the heat. 4. Mix the coconut cream and salt together and place over low heat. Stir regularly to prevent the coconut cream from separating. When the coconut cream is well heated and salt is thoroughly dissolved, remove from the heat. 5. Spoon the sweet glutinous rice into a serving bowl and top with some salted coconut cream. Tips: \\\\u2022 The young coconut flesh can be substituted with longan. \\\\u2022 The black glutinous rice can be substituted with the white kind which is widely used in many Thai desserts including the popular \\\\u201cMango with Sticky Rice.\\\\u201d Khao Niew Dam Piek Maphrao Awn Black Glutinous Rice Pudding with Young Coconut Flesh { } T H A I S E L E C T C O O K B O O K | 2 1 30 Min\",\\n    \"meta_data\": {\\n      \"page\": 12,\\n      \"chunk\": 1,\\n      \"chunk_size\": 1294\\n    }\\n  },\\n  {\\n    \"name\": \"ThaiRecipes\",\\n    \"content\": \"INGREDIENTS (One serving) 3 peeled Thai prawns 300 grams chicken or vegetable stock 100 grams straw mushrooms 100 grams lightly crushed lemongrass, chopped into one inch pieces 2 grams coriander roots 2 tbsp fish sauce 2 tbsp lime juice 3 leaves kaffir lime, shredded 1-2 lightly crushed bird\\\\u2019s eye chilies 5 leaves coriander 1 tbsp chili paste 100 grams evaporated milk HEALTH BENEFITS Vitamin A, B1, B2, C, E, K, Folate, Calcium, Iron, Phosphorus, Zinc Preparation: 20 mins Cooking: 20 mins Total: 40 mins Spicy Level: Directions: 1. Boil the stock and add lemongrass and coriander roots. Continue boiling for a few minutes. 2. Sieve out the ingredients. Bring the stock back to a boil and add straw mushrooms. 3. Add prawns and wait until it returns to a full boil, then add fish sauce and kaffir lime leaves. 4. Add lime juice and chilies. Serve Tom Yum Goong in a bowl. Garnish with coriander leaves (mix with chili paste and evaporated milk as an alterna- tive of Tom Yum Num Khon). Tips: \\\\u2022 Fish sauce becomes aromatic only when it is added to the boiling soup. \\\\u2022 Lime juice becomes aromatic only when it is added after the soup is removed from heat. Tom Yum Goong Spicy Prawns Soup with Chili Paste { } T H A I S E L E C T C O O K B O O K | 1 7 40 Min\",\\n    \"meta_data\": {\\n      \"page\": 10,\\n      \"chunk\": 1,\\n      \"chunk_size\": 1258\\n    }\\n  },\\n  {\\n    \"name\": \"ThaiRecipes\",\\n    \"content\": \"Preparation: 15 mins Cooking: 30 mins Total: 45 mins Spicy Level: HEALTH BENEFITS Vitamin A, B1, B2, B6, C, K, Folate, Calcium, Iron, Manganese, Omega 3 INGREDIENTS (One serving) 5 peeled Thai shrimps 80 grams long beans, chopped into one inch pieces 80 grams cauliflower, cut into bite size pieces 100 grams cabbage, chopped two inch cubes 40 grams Gaeng Som paste 500 grams vegetable stock or water 4 tbsp tamarind juice 15 grams palm sugar 2 tbsp fish sauce Directions: 1. Clean the shrimps thoroughly and devein them. Bring the vegetable stock (or water) to a boil and add Gaeng Som paste. 2. When the soup returns to a full boil, add vegetables in this order: cauliflower, long beans and cabbage. 3. Season with palm sugar, tamarind juice and fish sauce, making sure everything is well dissolved. 4.Add shrimps and cook briefly. Tips: \\\\u2022 As an alternative, shrimp can be replaced with fish. \\\\u2022 Seafood cooks quite quickly thus shrimp and fish should be in the boiling soup only briefly, and then whisked out and served to keep it fresh and juicy. \\\\u2022 Prepare the drier, tougher ingredients first, like cauliflower and long beans, followed by leafy vegetables like cabbage. Gaeng Som Phak Ruam Sour Curry with Mixed Vegetables { } T H A I S E L E C T C O O K B O O K | 1 9 45 Min\",\\n    \"meta_data\": {\\n      \"page\": 11,\\n      \"chunk\": 1,\\n      \"chunk_size\": 1279\\n    }\\n  }\\n]', 'tool_call_id': None, 'tool_name': 'search_knowledge_base', 'tool_args': {'query': 'chicken and galangal in coconut milk soup recipe'}, 'tool_call_error': False, 'metrics': MessageMetrics(input_tokens=0, output_tokens=0, total_tokens=0, prompt_tokens=0, completion_tokens=0, prompt_tokens_details=None, completion_tokens_details=None, additional_metrics=None, time=0.6223013999988325, time_to_first_token=None, timer=None), 'created_at': 1739400005}], images=None, videos=None, audio=None, response_audio=None, extra_data=RunResponseExtraData(references=[MessageReferences(query='chicken and galangal in coconut milk soup recipe', references=[{'name': 'ThaiRecipes', 'content': 'INGREDIENTS (One serving) 150 grams chicken, cut into bite-size pieces 50 grams sliced young galangal 100 grams lightly crushed lemongrass, julienned 100 grams straw mushrooms 250 grams coconut milk 100 grams chicken stock 3 tbsp lime juice 3 tbsp fish sauce 2 leaves kaffir lime, shredded 1-2 bird’s eye chilies, pounded 3 leaves coriander Preparation: 10 mins Cooking: 20 mins Total: 30 mins Spicy Level: HEALTH BENEFITS Vitamin A, B1, B2, B6, C, E, K, Folate, Copper, Iron, Phosphorus Directions: 1. Bring the chicken stock and coconut milk to a slow boil. Add galangal, lemongrass, chicken and mushrooms. When the soup returns to a boil, season it with fish sauce. 2. Wait until the chicken is cooked, and then add the kaffir lime leaves and bird’s eye chilies. Remove the pot from heat and add lime juice. 3. Garnish with coriander leaves. Tips: • Keep the heat low throughout the cooking process. High heat will make the oil in the coconut milk separate and rise to the top. • If you’re using mature galangal, reduce the amount. • Lime juice becomes more aromatic when it is added after the pot is removed from heat. • Reduce amount of chilies for a milder taste. { }Tom Kha Gai Chicken and Galangal in Coconut Milk Soup T H A I S E L E C T C O O K B O O K | 0 7 30 Min', 'meta_data': {'page': 5, 'chunk': 1, 'chunk_size': 1275}}, {'name': 'ThaiRecipes', 'content': 'INGREDIENTS (Two servings) 300 grams chicken rump 80 grams Massaman curry paste 100 grams coconut cream (the top layer of coconut milk) 300 grams coconut milk 250 grams chicken stock 50 grams roasted peanuts 200 grams potatoes, chopped into large chunks 100 grams onion, chopped into large chunks 30 grams palm sugar 2 tbsp tamarind juice 1 tbsp fish sauce HEALTH BENEFITS Vitamin A, B6, C, E, K, Calcium, Copper, Iron, Magnesium, Potassium Preparation: 15 mins Cooking: 30 mins Total: 45 mins Spicy Level: { }Massaman Gai Massaman Curry with Chicken and Potatoes Directions: 1. Simmer coconut cream over medium heat till the oil separates. Add Massaman curry paste and fry until the mix darkens and gives off a fragrance. 2. Divide the coconut milk in half. Pour the first half into the pot and continue simmering until the mix starts to dry out. Then add chicken and the remaining coconut milk. 3. Add the chicken stock and keep simmering until it comes to a boil. 4. Add roasted peanuts, potatoes and simmer until the chicken is tender. 5. When the potatoes are cooked, season with fish sauce, palm sugar and tamarind juice. Add onion and cook through until the soup begins to dry out. Serve in a bowl. Tips: • To make tamarind juice, mix 1 portion of the tamarind with 3 to 3.5 portions of water. • Different brands of instant tamarind juice have different flavors and levels of sourness. T H A I S E L E C T C O O K B O O K | 1 5 45 Min', 'meta_data': {'page': 9, 'chunk': 1, 'chunk_size': 1441}}, {'name': 'ThaiRecipes', 'content': 'INGREDIENTS (Four servings) 2 1/2 cups black glutinous rice 1 cup coconut cream 2 cups sugar 5 cups young coconut juice 3 cups young coconut flesh, cut into slices 1/2 tsp salt HEALTH BENEFITS Vitamin B, C, E, K, Folate, Iron, Magnesium, Manganese, Selenium Preparation: 10 mins Cooking: 20 mins Total: 30 mins Directions: 1. Rinse the black glutinous rice in water twice. Pour into a pot and add coconut juice. Place over medium heat and boil until the rice is thoroughly cooked. 2.Add sugar and continue boiling until well dissolved. 3. Add coconut flesh. Stir well. Bring to a boil once again and turn off the heat. 4. Mix the coconut cream and salt together and place over low heat. Stir regularly to prevent the coconut cream from separating. When the coconut cream is well heated and salt is thoroughly dissolved, remove from the heat. 5. Spoon the sweet glutinous rice into a serving bowl and top with some salted coconut cream. Tips: • The young coconut flesh can be substituted with longan. • The black glutinous rice can be substituted with the white kind which is widely used in many Thai desserts including the popular “Mango with Sticky Rice.” Khao Niew Dam Piek Maphrao Awn Black Glutinous Rice Pudding with Young Coconut Flesh { } T H A I S E L E C T C O O K B O O K | 2 1 30 Min', 'meta_data': {'page': 12, 'chunk': 1, 'chunk_size': 1294}}, {'name': 'ThaiRecipes', 'content': 'INGREDIENTS (One serving) 3 peeled Thai prawns 300 grams chicken or vegetable stock 100 grams straw mushrooms 100 grams lightly crushed lemongrass, chopped into one inch pieces 2 grams coriander roots 2 tbsp fish sauce 2 tbsp lime juice 3 leaves kaffir lime, shredded 1-2 lightly crushed bird’s eye chilies 5 leaves coriander 1 tbsp chili paste 100 grams evaporated milk HEALTH BENEFITS Vitamin A, B1, B2, C, E, K, Folate, Calcium, Iron, Phosphorus, Zinc Preparation: 20 mins Cooking: 20 mins Total: 40 mins Spicy Level: Directions: 1. Boil the stock and add lemongrass and coriander roots. Continue boiling for a few minutes. 2. Sieve out the ingredients. Bring the stock back to a boil and add straw mushrooms. 3. Add prawns and wait until it returns to a full boil, then add fish sauce and kaffir lime leaves. 4. Add lime juice and chilies. Serve Tom Yum Goong in a bowl. Garnish with coriander leaves (mix with chili paste and evaporated milk as an alterna- tive of Tom Yum Num Khon). Tips: • Fish sauce becomes aromatic only when it is added to the boiling soup. • Lime juice becomes aromatic only when it is added after the soup is removed from heat. Tom Yum Goong Spicy Prawns Soup with Chili Paste { } T H A I S E L E C T C O O K B O O K | 1 7 40 Min', 'meta_data': {'page': 10, 'chunk': 1, 'chunk_size': 1258}}, {'name': 'ThaiRecipes', 'content': 'Preparation: 15 mins Cooking: 30 mins Total: 45 mins Spicy Level: HEALTH BENEFITS Vitamin A, B1, B2, B6, C, K, Folate, Calcium, Iron, Manganese, Omega 3 INGREDIENTS (One serving) 5 peeled Thai shrimps 80 grams long beans, chopped into one inch pieces 80 grams cauliflower, cut into bite size pieces 100 grams cabbage, chopped two inch cubes 40 grams Gaeng Som paste 500 grams vegetable stock or water 4 tbsp tamarind juice 15 grams palm sugar 2 tbsp fish sauce Directions: 1. Clean the shrimps thoroughly and devein them. Bring the vegetable stock (or water) to a boil and add Gaeng Som paste. 2. When the soup returns to a full boil, add vegetables in this order: cauliflower, long beans and cabbage. 3. Season with palm sugar, tamarind juice and fish sauce, making sure everything is well dissolved. 4.Add shrimps and cook briefly. Tips: • As an alternative, shrimp can be replaced with fish. • Seafood cooks quite quickly thus shrimp and fish should be in the boiling soup only briefly, and then whisked out and served to keep it fresh and juicy. • Prepare the drier, tougher ingredients first, like cauliflower and long beans, followed by leafy vegetables like cabbage. Gaeng Som Phak Ruam Sour Curry with Mixed Vegetables { } T H A I S E L E C T C O O K B O O K | 1 9 45 Min', 'meta_data': {'page': 11, 'chunk': 1, 'chunk_size': 1279}}], time=0.6178)], add_messages=None, history=None, reasoning_steps=None, reasoning_messages=None), created_at=1739399852)"
      ]
     },
     "execution_count": 10,
     "metadata": {},
     "output_type": "execute_result"
    }
   ],
   "source": [
    "agent.run(\"How do I make chicken and galangal in coconut milk soup\")"
   ]
  }
 ],
 "metadata": {
  "kernelspec": {
   "display_name": ".venv",
   "language": "python",
   "name": "python3"
  },
  "language_info": {
   "codemirror_mode": {
    "name": "ipython",
    "version": 3
   },
   "file_extension": ".py",
   "mimetype": "text/x-python",
   "name": "python",
   "nbconvert_exporter": "python",
   "pygments_lexer": "ipython3",
   "version": "3.13.1"
  }
 },
 "nbformat": 4,
 "nbformat_minor": 2
}
