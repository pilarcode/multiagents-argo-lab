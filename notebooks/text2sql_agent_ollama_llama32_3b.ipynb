{
 "cells": [
  {
   "cell_type": "code",
   "execution_count": 1,
   "metadata": {},
   "outputs": [],
   "source": [
    "import getpass\n",
    "import os\n",
    "import time\n",
    "from dotenv import load_dotenv\n",
    "\n",
    "# Load the .env file\n",
    "_ = load_dotenv()"
   ]
  },
  {
   "cell_type": "markdown",
   "metadata": {},
   "source": [
    "### Model"
   ]
  },
  {
   "cell_type": "code",
   "execution_count": 2,
   "metadata": {},
   "outputs": [],
   "source": [
    "from agno.models.ollama import Ollama\n",
    "\n",
    "ollama_model=Ollama(id=\"llama3.2:3b\")\n"
   ]
  },
  {
   "cell_type": "markdown",
   "metadata": {},
   "source": [
    "### Text 2 sql agent"
   ]
  },
  {
   "cell_type": "code",
   "execution_count": 3,
   "metadata": {},
   "outputs": [],
   "source": [
    "from agno.agent import Agent\n",
    "\n",
    "instructions=\"\"\"\n",
    "You are an expert in SQL. You can create sql queries from natural language following these schemas:\n",
    "\n",
    "CREATE TABLE \"Orders\" (\n",
    "\tdate DATETIME, \n",
    "\tid TEXT, \n",
    "\tquantity FLOAT\n",
    ")\n",
    "\n",
    "CREATE TABLE \"Stock\" (\n",
    "\tid TEXT, \n",
    "\tcurrent_stock_quantity FLOAT, \n",
    "\tunits TEXT, \n",
    "\tavg_lead_time_days BIGINT, \n",
    "\tmaximum_lead_time_days BIGINT, \n",
    "\tunit_price FLOAT\n",
    ")\n",
    "\n",
    "Return only the sql query. Don't explain the query and don't put the sql query in ```sql\\n```.\n",
    "\"\"\"\n",
    "text2sql_agent = Agent(model=ollama_model, name=\"text2sql\", instructions=instructions, show_tool_calls=True)"
   ]
  },
  {
   "cell_type": "markdown",
   "metadata": {},
   "source": [
    "### Tests"
   ]
  },
  {
   "cell_type": "code",
   "execution_count": 4,
   "metadata": {},
   "outputs": [],
   "source": [
    "def write_sql_query(query:str):\n",
    "    \"\"\" Function to write sql query \"\"\"\n",
    "    start_time = time.perf_counter()\n",
    "\n",
    "    response = text2sql_agent.run(query)\n",
    "\n",
    "    end_time = time.perf_counter()\n",
    "    \n",
    "    latency = end_time - start_time\n",
    "    \n",
    "    print(f\"Execution time: {latency} seconds\")\n",
    "    answer = response.content\n",
    "    \n",
    "    return answer\n",
    "    "
   ]
  },
  {
   "cell_type": "code",
   "execution_count": 5,
   "metadata": {},
   "outputs": [
    {
     "name": "stdout",
     "output_type": "stream",
     "text": [
      "Execution time: 20.196944900002563 seconds\n"
     ]
    },
    {
     "data": {
      "text/plain": [
       "'SELECT COUNT id FROM Orders'"
      ]
     },
     "execution_count": 5,
     "metadata": {},
     "output_type": "execute_result"
    }
   ],
   "source": [
    "query = \"How many orders are there in the Orders table?\"\n",
    "write_sql_query(query)"
   ]
  },
  {
   "cell_type": "code",
   "execution_count": 6,
   "metadata": {},
   "outputs": [
    {
     "name": "stdout",
     "output_type": "stream",
     "text": [
      "Execution time: 4.552857100003166 seconds\n"
     ]
    },
    {
     "data": {
      "text/plain": [
       "'SELECT date, id, quantity FROM Orders WHERE quantity = 475'"
      ]
     },
     "execution_count": 6,
     "metadata": {},
     "output_type": "execute_result"
    }
   ],
   "source": [
    "query = \"Select the orders that have a quantity equal 475 in the Orders table.\"\n",
    "write_sql_query(query)"
   ]
  },
  {
   "cell_type": "code",
   "execution_count": 7,
   "metadata": {},
   "outputs": [
    {
     "name": "stdout",
     "output_type": "stream",
     "text": [
      "Execution time: 2.769525199983036 seconds\n"
     ]
    },
    {
     "data": {
      "text/plain": [
       "'SELECT * FROM \"Stock\"'"
      ]
     },
     "execution_count": 7,
     "metadata": {},
     "output_type": "execute_result"
    }
   ],
   "source": [
    "query = \"Get all records from the Stock table.\"\n",
    "write_sql_query(query)"
   ]
  },
  {
   "cell_type": "code",
   "execution_count": 8,
   "metadata": {},
   "outputs": [
    {
     "name": "stdout",
     "output_type": "stream",
     "text": [
      "Execution time: 5.24509909999324 seconds\n"
     ]
    },
    {
     "data": {
      "text/plain": [
       "\"SELECT id, current_stock_quantity FROM Stock WHERE units = 'in stock'\""
      ]
     },
     "execution_count": 8,
     "metadata": {},
     "output_type": "execute_result"
    }
   ],
   "source": [
    "query = \"List the IDs of products in stock with their current quantity\"\n",
    "write_sql_query(query)"
   ]
  },
  {
   "cell_type": "code",
   "execution_count": 9,
   "metadata": {},
   "outputs": [
    {
     "name": "stdout",
     "output_type": "stream",
     "text": [
      "Execution time: 4.951010799995856 seconds\n"
     ]
    },
    {
     "data": {
      "text/plain": [
       "'SELECT * FROM Stock WHERE current_stock_quantity > 10000'"
      ]
     },
     "execution_count": 9,
     "metadata": {},
     "output_type": "execute_result"
    }
   ],
   "source": [
    "query = \"Find products with more than 10,000 units in stock\"\n",
    "write_sql_query(query)"
   ]
  },
  {
   "cell_type": "code",
   "execution_count": 10,
   "metadata": {},
   "outputs": [
    {
     "name": "stdout",
     "output_type": "stream",
     "text": [
      "Execution time: 3.463996500009671 seconds\n"
     ]
    },
    {
     "data": {
      "text/plain": [
       "'SELECT SUM(current_stock_quantity) FROM Stock'"
      ]
     },
     "execution_count": 10,
     "metadata": {},
     "output_type": "execute_result"
    }
   ],
   "source": [
    "query = \"Get the total quantity of products in stock\"\n",
    "write_sql_query(query)"
   ]
  },
  {
   "cell_type": "code",
   "execution_count": 11,
   "metadata": {},
   "outputs": [
    {
     "name": "stdout",
     "output_type": "stream",
     "text": [
      "Execution time: 5.830955299985362 seconds\n"
     ]
    },
    {
     "data": {
      "text/plain": [
       "'SELECT unit_price FROM Stock WHERE maximum_lead_time_days = ( SELECT MAX(maximum_lead_time_days) FROM Stock );'"
      ]
     },
     "execution_count": 11,
     "metadata": {},
     "output_type": "execute_result"
    }
   ],
   "source": [
    "query = \"Get the product with the highest maximum lead time\"\n",
    "write_sql_query(query)"
   ]
  },
  {
   "cell_type": "code",
   "execution_count": 12,
   "metadata": {},
   "outputs": [
    {
     "name": "stdout",
     "output_type": "stream",
     "text": [
      "Execution time: 6.122881899995264 seconds\n"
     ]
    },
    {
     "data": {
      "text/plain": [
       "'SELECT s.id, s.current_stock_quantity \\nFROM Orders o \\nJOIN Stock s ON o.id = s.id'"
      ]
     },
     "execution_count": 12,
     "metadata": {},
     "output_type": "execute_result"
    }
   ],
   "source": [
    "query = \"List products in stock that have been ordered at least once\"\n",
    "write_sql_query(query)"
   ]
  },
  {
   "cell_type": "markdown",
   "metadata": {},
   "source": [
    "### Benchmark"
   ]
  },
  {
   "cell_type": "code",
   "execution_count": 13,
   "metadata": {},
   "outputs": [],
   "source": [
    "import json\n",
    "import glob\n",
    "\n",
    "def load_benchmark(benchmark_path):\n",
    "    \"\"\" This function loads the benchmark dataset\"\"\"\n",
    "    questions = []\n",
    "    expected_sql = []\n",
    "    with open(benchmark_path, 'r', encoding='utf-8') as f:\n",
    "        try:\n",
    "            datos = json.load(f)\n",
    "            questions.extend(datos.keys())\n",
    "            expected_sql.extend(datos.values())\n",
    "        except Exception as e:\n",
    "            print(f,e)\n",
    "    return questions, expected_sql\n",
    "\n",
    "questions , expected_sql = load_benchmark(\"../tests/dataset_queries_en.json\")"
   ]
  },
  {
   "cell_type": "code",
   "execution_count": 14,
   "metadata": {},
   "outputs": [
    {
     "data": {
      "text/plain": [
       "['Get all records from the Stock table',\n",
       " 'List the IDs of products in stock with their current quantity',\n",
       " 'Get the average unit price of all products in stock',\n",
       " 'Find products with more than 10,000 units in stock',\n",
       " 'Get the total quantity of products in stock',\n",
       " 'List orders placed in the year 2023',\n",
       " 'Get the product with the highest maximum lead time',\n",
       " 'List products whose unit price is above the average',\n",
       " 'Get the total number of orders per product',\n",
       " 'List products in stock that have been ordered at least once']"
      ]
     },
     "execution_count": 14,
     "metadata": {},
     "output_type": "execute_result"
    }
   ],
   "source": [
    "questions"
   ]
  },
  {
   "cell_type": "code",
   "execution_count": 15,
   "metadata": {},
   "outputs": [
    {
     "data": {
      "text/plain": [
       "['SELECT * FROM Stock;',\n",
       " 'SELECT id, current_stock_quantity FROM Stock;',\n",
       " 'SELECT AVG(unit_price) AS avg_unit_price FROM Stock;',\n",
       " 'SELECT id, current_stock_quantity FROM Stock WHERE current_stock_quantity > 10000;',\n",
       " 'SELECT SUM(current_stock_quantity) AS total_stock FROM Stock;',\n",
       " \"SELECT * FROM Orders WHERE strftime('%Y', date) = '2023';\",\n",
       " 'SELECT id, maximum_lead_time_days FROM Stock ORDER BY maximum_lead_time_days DESC LIMIT 1;',\n",
       " 'SELECT id, unit_price FROM Stock WHERE unit_price > (SELECT AVG(unit_price) FROM Stock);',\n",
       " 'SELECT id, COUNT(*) AS total_orders FROM Orders GROUP BY id;',\n",
       " 'SELECT DISTINCT s.id, s.current_stock_quantity FROM Stock s JOIN Orders o ON s.id = o.id;']"
      ]
     },
     "execution_count": 15,
     "metadata": {},
     "output_type": "execute_result"
    }
   ],
   "source": [
    "expected_sql"
   ]
  },
  {
   "cell_type": "code",
   "execution_count": 16,
   "metadata": {},
   "outputs": [],
   "source": [
    "import pandas as pd\n",
    "import time\n",
    "\n",
    "def eval_benchmark(benchmark_path:str)->pd.DataFrame:\n",
    "\t\"\"\" This function evaluates the benchmark dataset\"\"\"\n",
    "\n",
    "\t# Load the benchmark dataset\n",
    "\tquestions , expected_sql = load_benchmark(benchmark_path)\n",
    "\t# Create a dataframe to store the results\n",
    "\tdf = pd.DataFrame({\"question\":questions, \"expected_sql\":expected_sql})\n",
    "\n",
    "\tlatencies = []\n",
    "\tanswers = []\n",
    "\tfor index, row in df.iterrows():\n",
    "\t\ttry:\n",
    "\t\t\tquestion = row[\"question\"]\n",
    "\t\t\texpected_sql = row[\"expected_sql\"]\n",
    "\t\t\t\n",
    "\t\t\t# Measure the latency\n",
    "\t\t\tstart_time = time.time()\n",
    "\t\t\t# Invoke the agent\n",
    "\t\t\tresponse = text2sql_agent.run(query)\n",
    "\t\t\tpredicted_sql = response.content\n",
    "\t\t\t# Measure the latency\n",
    "\t\t\tlatency = time.time() - start_time\n",
    "\t\t\tlatencies.append(latency)\n",
    "\t\t\t# Store the predicted SQL query\n",
    "\t\t\tanswers.append(predicted_sql)\n",
    "\t\texcept Exception as e:\n",
    "\t\t\tanswers.append(\"ERROR\")\n",
    "\t\t\tlatencies.append(-1)\n",
    "\t\t\tprint(f\"Error processing question: {question}\")\n",
    "\n",
    "\t# Store the results in the dataframe\n",
    "\tdf[\"predicted_sql\"] = answers\n",
    "\tdf[\"latency\"] = latencies\n",
    "\treturn df"
   ]
  },
  {
   "cell_type": "code",
   "execution_count": 17,
   "metadata": {},
   "outputs": [],
   "source": [
    "df_eval = eval_benchmark( \"../tests/dataset_queries_en.json\")"
   ]
  },
  {
   "cell_type": "code",
   "execution_count": 18,
   "metadata": {},
   "outputs": [
    {
     "data": {
      "text/html": [
       "<div>\n",
       "<style scoped>\n",
       "    .dataframe tbody tr th:only-of-type {\n",
       "        vertical-align: middle;\n",
       "    }\n",
       "\n",
       "    .dataframe tbody tr th {\n",
       "        vertical-align: top;\n",
       "    }\n",
       "\n",
       "    .dataframe thead th {\n",
       "        text-align: right;\n",
       "    }\n",
       "</style>\n",
       "<table border=\"1\" class=\"dataframe\">\n",
       "  <thead>\n",
       "    <tr style=\"text-align: right;\">\n",
       "      <th></th>\n",
       "      <th>question</th>\n",
       "      <th>expected_sql</th>\n",
       "      <th>predicted_sql</th>\n",
       "      <th>latency</th>\n",
       "    </tr>\n",
       "  </thead>\n",
       "  <tbody>\n",
       "    <tr>\n",
       "      <th>0</th>\n",
       "      <td>Get all records from the Stock table</td>\n",
       "      <td>SELECT * FROM Stock;</td>\n",
       "      <td>SELECT S.* FROM Stock S INNER JOIN Orders O ON...</td>\n",
       "      <td>5.070666</td>\n",
       "    </tr>\n",
       "    <tr>\n",
       "      <th>1</th>\n",
       "      <td>List the IDs of products in stock with their c...</td>\n",
       "      <td>SELECT id, current_stock_quantity FROM Stock;</td>\n",
       "      <td>SELECT S.id FROM Stock AS S INNER JOIN Orders ...</td>\n",
       "      <td>5.972475</td>\n",
       "    </tr>\n",
       "    <tr>\n",
       "      <th>2</th>\n",
       "      <td>Get the average unit price of all products in ...</td>\n",
       "      <td>SELECT AVG(unit_price) AS avg_unit_price FROM ...</td>\n",
       "      <td>SELECT S.id FROM Stock AS S JOIN Orders AS O O...</td>\n",
       "      <td>4.506686</td>\n",
       "    </tr>\n",
       "    <tr>\n",
       "      <th>3</th>\n",
       "      <td>Find products with more than 10,000 units in s...</td>\n",
       "      <td>SELECT id, current_stock_quantity FROM Stock W...</td>\n",
       "      <td>SELECT S.* FROM Stock AS S JOIN Orders AS O ON...</td>\n",
       "      <td>5.407918</td>\n",
       "    </tr>\n",
       "    <tr>\n",
       "      <th>4</th>\n",
       "      <td>Get the total quantity of products in stock</td>\n",
       "      <td>SELECT SUM(current_stock_quantity) AS total_st...</td>\n",
       "      <td>SELECT S.* FROM Stock AS S JOIN Orders AS O ON...</td>\n",
       "      <td>5.147977</td>\n",
       "    </tr>\n",
       "    <tr>\n",
       "      <th>5</th>\n",
       "      <td>List orders placed in the year 2023</td>\n",
       "      <td>SELECT * FROM Orders WHERE strftime('%Y', date...</td>\n",
       "      <td>SELECT T1.id FROM Stock AS T1 JOIN Orders AS T...</td>\n",
       "      <td>6.076564</td>\n",
       "    </tr>\n",
       "    <tr>\n",
       "      <th>6</th>\n",
       "      <td>Get the product with the highest maximum lead ...</td>\n",
       "      <td>SELECT id, maximum_lead_time_days FROM Stock O...</td>\n",
       "      <td>SELECT T2.id FROM Orders AS T1 JOIN Stock AS T...</td>\n",
       "      <td>6.019530</td>\n",
       "    </tr>\n",
       "    <tr>\n",
       "      <th>7</th>\n",
       "      <td>List products whose unit price is above the av...</td>\n",
       "      <td>SELECT id, unit_price FROM Stock WHERE unit_pr...</td>\n",
       "      <td>SELECT s.* FROM Stock AS s JOIN Orders AS o ON...</td>\n",
       "      <td>4.888183</td>\n",
       "    </tr>\n",
       "    <tr>\n",
       "      <th>8</th>\n",
       "      <td>Get the total number of orders per product</td>\n",
       "      <td>SELECT id, COUNT(*) AS total_orders FROM Order...</td>\n",
       "      <td>SELECT id FROM Stock WHERE units != 'Out of St...</td>\n",
       "      <td>4.148718</td>\n",
       "    </tr>\n",
       "    <tr>\n",
       "      <th>9</th>\n",
       "      <td>List products in stock that have been ordered ...</td>\n",
       "      <td>SELECT DISTINCT s.id, s.current_stock_quantity...</td>\n",
       "      <td>SELECT S.id FROM Orders O JOIN Stock S ON O.id...</td>\n",
       "      <td>4.865434</td>\n",
       "    </tr>\n",
       "  </tbody>\n",
       "</table>\n",
       "</div>"
      ],
      "text/plain": [
       "                                            question  \\\n",
       "0               Get all records from the Stock table   \n",
       "1  List the IDs of products in stock with their c...   \n",
       "2  Get the average unit price of all products in ...   \n",
       "3  Find products with more than 10,000 units in s...   \n",
       "4        Get the total quantity of products in stock   \n",
       "5                List orders placed in the year 2023   \n",
       "6  Get the product with the highest maximum lead ...   \n",
       "7  List products whose unit price is above the av...   \n",
       "8         Get the total number of orders per product   \n",
       "9  List products in stock that have been ordered ...   \n",
       "\n",
       "                                        expected_sql  \\\n",
       "0                               SELECT * FROM Stock;   \n",
       "1      SELECT id, current_stock_quantity FROM Stock;   \n",
       "2  SELECT AVG(unit_price) AS avg_unit_price FROM ...   \n",
       "3  SELECT id, current_stock_quantity FROM Stock W...   \n",
       "4  SELECT SUM(current_stock_quantity) AS total_st...   \n",
       "5  SELECT * FROM Orders WHERE strftime('%Y', date...   \n",
       "6  SELECT id, maximum_lead_time_days FROM Stock O...   \n",
       "7  SELECT id, unit_price FROM Stock WHERE unit_pr...   \n",
       "8  SELECT id, COUNT(*) AS total_orders FROM Order...   \n",
       "9  SELECT DISTINCT s.id, s.current_stock_quantity...   \n",
       "\n",
       "                                       predicted_sql   latency  \n",
       "0  SELECT S.* FROM Stock S INNER JOIN Orders O ON...  5.070666  \n",
       "1  SELECT S.id FROM Stock AS S INNER JOIN Orders ...  5.972475  \n",
       "2  SELECT S.id FROM Stock AS S JOIN Orders AS O O...  4.506686  \n",
       "3  SELECT S.* FROM Stock AS S JOIN Orders AS O ON...  5.407918  \n",
       "4  SELECT S.* FROM Stock AS S JOIN Orders AS O ON...  5.147977  \n",
       "5  SELECT T1.id FROM Stock AS T1 JOIN Orders AS T...  6.076564  \n",
       "6  SELECT T2.id FROM Orders AS T1 JOIN Stock AS T...  6.019530  \n",
       "7  SELECT s.* FROM Stock AS s JOIN Orders AS o ON...  4.888183  \n",
       "8  SELECT id FROM Stock WHERE units != 'Out of St...  4.148718  \n",
       "9  SELECT S.id FROM Orders O JOIN Stock S ON O.id...  4.865434  "
      ]
     },
     "execution_count": 18,
     "metadata": {},
     "output_type": "execute_result"
    }
   ],
   "source": [
    "df_eval.head(10)"
   ]
  },
  {
   "cell_type": "code",
   "execution_count": 19,
   "metadata": {},
   "outputs": [],
   "source": [
    "model_id = \"llama-32-3B\"\n",
    "\n",
    "df_eval.to_csv(f\"../tests/df_benchmark_results_{model_id}.csv\", index=False)"
   ]
  },
  {
   "cell_type": "code",
   "execution_count": 20,
   "metadata": {},
   "outputs": [],
   "source": [
    "import pandas as pd\n",
    "\n",
    "model_id = \"llama-32-3B\"\n",
    "\n",
    "df_eval = pd.read_csv(f\"../tests/df_benchmark_results_{model_id}.csv\")"
   ]
  },
  {
   "cell_type": "code",
   "execution_count": 23,
   "metadata": {},
   "outputs": [
    {
     "data": {
      "application/vnd.plotly.v1+json": {
       "config": {
        "plotlyServerURL": "https://plot.ly"
       },
       "data": [
        {
         "marker": {
          "color": "#077fed",
          "line": {
           "color": "#409ef3",
           "width": 2
          }
         },
         "type": "bar",
         "x": [
          "Get all records from the Stock table",
          "List the IDs of products in stock with their current quantity",
          "Get the average unit price of all products in stock",
          "Find products with more than 10,000 units in stock",
          "Get the total quantity of products in stock",
          "List orders placed in the year 2023",
          "Get the product with the highest maximum lead time",
          "List products whose unit price is above the average",
          "Get the total number of orders per product",
          "List products in stock that have been ordered at least once"
         ],
         "y": {
          "bdata": "AAAAoFxIFEAAAABg0OMXQAAAALDYBhJAAAAAQLWhFUAAAABQh5cUQAAAANBmThhAAAAAwP8TGEAAAADgf40TQAAAAIBJmBBAAAAAYDR2E0A=",
          "dtype": "f8"
         }
        }
       ],
       "layout": {
        "height": 600,
        "plot_bgcolor": "rgba(0,0,0,0)",
        "template": {
         "data": {
          "bar": [
           {
            "error_x": {
             "color": "#2a3f5f"
            },
            "error_y": {
             "color": "#2a3f5f"
            },
            "marker": {
             "line": {
              "color": "#E5ECF6",
              "width": 0.5
             },
             "pattern": {
              "fillmode": "overlay",
              "size": 10,
              "solidity": 0.2
             }
            },
            "type": "bar"
           }
          ],
          "barpolar": [
           {
            "marker": {
             "line": {
              "color": "#E5ECF6",
              "width": 0.5
             },
             "pattern": {
              "fillmode": "overlay",
              "size": 10,
              "solidity": 0.2
             }
            },
            "type": "barpolar"
           }
          ],
          "carpet": [
           {
            "aaxis": {
             "endlinecolor": "#2a3f5f",
             "gridcolor": "white",
             "linecolor": "white",
             "minorgridcolor": "white",
             "startlinecolor": "#2a3f5f"
            },
            "baxis": {
             "endlinecolor": "#2a3f5f",
             "gridcolor": "white",
             "linecolor": "white",
             "minorgridcolor": "white",
             "startlinecolor": "#2a3f5f"
            },
            "type": "carpet"
           }
          ],
          "choropleth": [
           {
            "colorbar": {
             "outlinewidth": 0,
             "ticks": ""
            },
            "type": "choropleth"
           }
          ],
          "contour": [
           {
            "colorbar": {
             "outlinewidth": 0,
             "ticks": ""
            },
            "colorscale": [
             [
              0,
              "#0d0887"
             ],
             [
              0.1111111111111111,
              "#46039f"
             ],
             [
              0.2222222222222222,
              "#7201a8"
             ],
             [
              0.3333333333333333,
              "#9c179e"
             ],
             [
              0.4444444444444444,
              "#bd3786"
             ],
             [
              0.5555555555555556,
              "#d8576b"
             ],
             [
              0.6666666666666666,
              "#ed7953"
             ],
             [
              0.7777777777777778,
              "#fb9f3a"
             ],
             [
              0.8888888888888888,
              "#fdca26"
             ],
             [
              1,
              "#f0f921"
             ]
            ],
            "type": "contour"
           }
          ],
          "contourcarpet": [
           {
            "colorbar": {
             "outlinewidth": 0,
             "ticks": ""
            },
            "type": "contourcarpet"
           }
          ],
          "heatmap": [
           {
            "colorbar": {
             "outlinewidth": 0,
             "ticks": ""
            },
            "colorscale": [
             [
              0,
              "#0d0887"
             ],
             [
              0.1111111111111111,
              "#46039f"
             ],
             [
              0.2222222222222222,
              "#7201a8"
             ],
             [
              0.3333333333333333,
              "#9c179e"
             ],
             [
              0.4444444444444444,
              "#bd3786"
             ],
             [
              0.5555555555555556,
              "#d8576b"
             ],
             [
              0.6666666666666666,
              "#ed7953"
             ],
             [
              0.7777777777777778,
              "#fb9f3a"
             ],
             [
              0.8888888888888888,
              "#fdca26"
             ],
             [
              1,
              "#f0f921"
             ]
            ],
            "type": "heatmap"
           }
          ],
          "histogram": [
           {
            "marker": {
             "pattern": {
              "fillmode": "overlay",
              "size": 10,
              "solidity": 0.2
             }
            },
            "type": "histogram"
           }
          ],
          "histogram2d": [
           {
            "colorbar": {
             "outlinewidth": 0,
             "ticks": ""
            },
            "colorscale": [
             [
              0,
              "#0d0887"
             ],
             [
              0.1111111111111111,
              "#46039f"
             ],
             [
              0.2222222222222222,
              "#7201a8"
             ],
             [
              0.3333333333333333,
              "#9c179e"
             ],
             [
              0.4444444444444444,
              "#bd3786"
             ],
             [
              0.5555555555555556,
              "#d8576b"
             ],
             [
              0.6666666666666666,
              "#ed7953"
             ],
             [
              0.7777777777777778,
              "#fb9f3a"
             ],
             [
              0.8888888888888888,
              "#fdca26"
             ],
             [
              1,
              "#f0f921"
             ]
            ],
            "type": "histogram2d"
           }
          ],
          "histogram2dcontour": [
           {
            "colorbar": {
             "outlinewidth": 0,
             "ticks": ""
            },
            "colorscale": [
             [
              0,
              "#0d0887"
             ],
             [
              0.1111111111111111,
              "#46039f"
             ],
             [
              0.2222222222222222,
              "#7201a8"
             ],
             [
              0.3333333333333333,
              "#9c179e"
             ],
             [
              0.4444444444444444,
              "#bd3786"
             ],
             [
              0.5555555555555556,
              "#d8576b"
             ],
             [
              0.6666666666666666,
              "#ed7953"
             ],
             [
              0.7777777777777778,
              "#fb9f3a"
             ],
             [
              0.8888888888888888,
              "#fdca26"
             ],
             [
              1,
              "#f0f921"
             ]
            ],
            "type": "histogram2dcontour"
           }
          ],
          "mesh3d": [
           {
            "colorbar": {
             "outlinewidth": 0,
             "ticks": ""
            },
            "type": "mesh3d"
           }
          ],
          "parcoords": [
           {
            "line": {
             "colorbar": {
              "outlinewidth": 0,
              "ticks": ""
             }
            },
            "type": "parcoords"
           }
          ],
          "pie": [
           {
            "automargin": true,
            "type": "pie"
           }
          ],
          "scatter": [
           {
            "fillpattern": {
             "fillmode": "overlay",
             "size": 10,
             "solidity": 0.2
            },
            "type": "scatter"
           }
          ],
          "scatter3d": [
           {
            "line": {
             "colorbar": {
              "outlinewidth": 0,
              "ticks": ""
             }
            },
            "marker": {
             "colorbar": {
              "outlinewidth": 0,
              "ticks": ""
             }
            },
            "type": "scatter3d"
           }
          ],
          "scattercarpet": [
           {
            "marker": {
             "colorbar": {
              "outlinewidth": 0,
              "ticks": ""
             }
            },
            "type": "scattercarpet"
           }
          ],
          "scattergeo": [
           {
            "marker": {
             "colorbar": {
              "outlinewidth": 0,
              "ticks": ""
             }
            },
            "type": "scattergeo"
           }
          ],
          "scattergl": [
           {
            "marker": {
             "colorbar": {
              "outlinewidth": 0,
              "ticks": ""
             }
            },
            "type": "scattergl"
           }
          ],
          "scattermap": [
           {
            "marker": {
             "colorbar": {
              "outlinewidth": 0,
              "ticks": ""
             }
            },
            "type": "scattermap"
           }
          ],
          "scattermapbox": [
           {
            "marker": {
             "colorbar": {
              "outlinewidth": 0,
              "ticks": ""
             }
            },
            "type": "scattermapbox"
           }
          ],
          "scatterpolar": [
           {
            "marker": {
             "colorbar": {
              "outlinewidth": 0,
              "ticks": ""
             }
            },
            "type": "scatterpolar"
           }
          ],
          "scatterpolargl": [
           {
            "marker": {
             "colorbar": {
              "outlinewidth": 0,
              "ticks": ""
             }
            },
            "type": "scatterpolargl"
           }
          ],
          "scatterternary": [
           {
            "marker": {
             "colorbar": {
              "outlinewidth": 0,
              "ticks": ""
             }
            },
            "type": "scatterternary"
           }
          ],
          "surface": [
           {
            "colorbar": {
             "outlinewidth": 0,
             "ticks": ""
            },
            "colorscale": [
             [
              0,
              "#0d0887"
             ],
             [
              0.1111111111111111,
              "#46039f"
             ],
             [
              0.2222222222222222,
              "#7201a8"
             ],
             [
              0.3333333333333333,
              "#9c179e"
             ],
             [
              0.4444444444444444,
              "#bd3786"
             ],
             [
              0.5555555555555556,
              "#d8576b"
             ],
             [
              0.6666666666666666,
              "#ed7953"
             ],
             [
              0.7777777777777778,
              "#fb9f3a"
             ],
             [
              0.8888888888888888,
              "#fdca26"
             ],
             [
              1,
              "#f0f921"
             ]
            ],
            "type": "surface"
           }
          ],
          "table": [
           {
            "cells": {
             "fill": {
              "color": "#EBF0F8"
             },
             "line": {
              "color": "white"
             }
            },
            "header": {
             "fill": {
              "color": "#C8D4E3"
             },
             "line": {
              "color": "white"
             }
            },
            "type": "table"
           }
          ]
         },
         "layout": {
          "annotationdefaults": {
           "arrowcolor": "#2a3f5f",
           "arrowhead": 0,
           "arrowwidth": 1
          },
          "autotypenumbers": "strict",
          "coloraxis": {
           "colorbar": {
            "outlinewidth": 0,
            "ticks": ""
           }
          },
          "colorscale": {
           "diverging": [
            [
             0,
             "#8e0152"
            ],
            [
             0.1,
             "#c51b7d"
            ],
            [
             0.2,
             "#de77ae"
            ],
            [
             0.3,
             "#f1b6da"
            ],
            [
             0.4,
             "#fde0ef"
            ],
            [
             0.5,
             "#f7f7f7"
            ],
            [
             0.6,
             "#e6f5d0"
            ],
            [
             0.7,
             "#b8e186"
            ],
            [
             0.8,
             "#7fbc41"
            ],
            [
             0.9,
             "#4d9221"
            ],
            [
             1,
             "#276419"
            ]
           ],
           "sequential": [
            [
             0,
             "#0d0887"
            ],
            [
             0.1111111111111111,
             "#46039f"
            ],
            [
             0.2222222222222222,
             "#7201a8"
            ],
            [
             0.3333333333333333,
             "#9c179e"
            ],
            [
             0.4444444444444444,
             "#bd3786"
            ],
            [
             0.5555555555555556,
             "#d8576b"
            ],
            [
             0.6666666666666666,
             "#ed7953"
            ],
            [
             0.7777777777777778,
             "#fb9f3a"
            ],
            [
             0.8888888888888888,
             "#fdca26"
            ],
            [
             1,
             "#f0f921"
            ]
           ],
           "sequentialminus": [
            [
             0,
             "#0d0887"
            ],
            [
             0.1111111111111111,
             "#46039f"
            ],
            [
             0.2222222222222222,
             "#7201a8"
            ],
            [
             0.3333333333333333,
             "#9c179e"
            ],
            [
             0.4444444444444444,
             "#bd3786"
            ],
            [
             0.5555555555555556,
             "#d8576b"
            ],
            [
             0.6666666666666666,
             "#ed7953"
            ],
            [
             0.7777777777777778,
             "#fb9f3a"
            ],
            [
             0.8888888888888888,
             "#fdca26"
            ],
            [
             1,
             "#f0f921"
            ]
           ]
          },
          "colorway": [
           "#636efa",
           "#EF553B",
           "#00cc96",
           "#ab63fa",
           "#FFA15A",
           "#19d3f3",
           "#FF6692",
           "#B6E880",
           "#FF97FF",
           "#FECB52"
          ],
          "font": {
           "color": "#2a3f5f"
          },
          "geo": {
           "bgcolor": "white",
           "lakecolor": "white",
           "landcolor": "#E5ECF6",
           "showlakes": true,
           "showland": true,
           "subunitcolor": "white"
          },
          "hoverlabel": {
           "align": "left"
          },
          "hovermode": "closest",
          "mapbox": {
           "style": "light"
          },
          "paper_bgcolor": "white",
          "plot_bgcolor": "#E5ECF6",
          "polar": {
           "angularaxis": {
            "gridcolor": "white",
            "linecolor": "white",
            "ticks": ""
           },
           "bgcolor": "#E5ECF6",
           "radialaxis": {
            "gridcolor": "white",
            "linecolor": "white",
            "ticks": ""
           }
          },
          "scene": {
           "xaxis": {
            "backgroundcolor": "#E5ECF6",
            "gridcolor": "white",
            "gridwidth": 2,
            "linecolor": "white",
            "showbackground": true,
            "ticks": "",
            "zerolinecolor": "white"
           },
           "yaxis": {
            "backgroundcolor": "#E5ECF6",
            "gridcolor": "white",
            "gridwidth": 2,
            "linecolor": "white",
            "showbackground": true,
            "ticks": "",
            "zerolinecolor": "white"
           },
           "zaxis": {
            "backgroundcolor": "#E5ECF6",
            "gridcolor": "white",
            "gridwidth": 2,
            "linecolor": "white",
            "showbackground": true,
            "ticks": "",
            "zerolinecolor": "white"
           }
          },
          "shapedefaults": {
           "line": {
            "color": "#2a3f5f"
           }
          },
          "ternary": {
           "aaxis": {
            "gridcolor": "white",
            "linecolor": "white",
            "ticks": ""
           },
           "baxis": {
            "gridcolor": "white",
            "linecolor": "white",
            "ticks": ""
           },
           "bgcolor": "#E5ECF6",
           "caxis": {
            "gridcolor": "white",
            "linecolor": "white",
            "ticks": ""
           }
          },
          "title": {
           "x": 0.05
          },
          "xaxis": {
           "automargin": true,
           "gridcolor": "white",
           "linecolor": "white",
           "ticks": "",
           "title": {
            "standoff": 15
           },
           "zerolinecolor": "white",
           "zerolinewidth": 2
          },
          "yaxis": {
           "automargin": true,
           "gridcolor": "white",
           "linecolor": "white",
           "ticks": "",
           "title": {
            "standoff": 15
           },
           "zerolinecolor": "white",
           "zerolinewidth": 2
          }
         }
        },
        "title": {
         "font": {
          "size": 12,
          "weight": "bold"
         },
         "text": "Our Text2SQL Benchmark dataset to evaluate the performance of : llama-32-3B",
         "x": 0.5
        },
        "width": 1000,
        "xaxis": {
         "title": {
          "text": "Question"
         }
        },
        "yaxis": {
         "gridcolor": "lightgrey",
         "title": {
          "text": "Latency (s)"
         }
        }
       }
      }
     },
     "metadata": {},
     "output_type": "display_data"
    }
   ],
   "source": [
    "import plotly.graph_objects as go\n",
    "\n",
    "# Crear figura\n",
    "fig = go.Figure(data=[go.Bar(x=df_eval.question, y=df_eval.latency)])\n",
    "\n",
    "# Configurar ejes\n",
    "fig.update_layout(\n",
    "    title=f'Our Text2SQL Benchmark dataset to evaluate the performance of : {model_id}',\n",
    "    xaxis_title='Question',\n",
    "    yaxis_title='Latency (s)'\n",
    ")\n",
    "fig.update_layout(title=dict(font_size=12, font_weight='bold', x=0.5))\n",
    "fig.update_traces(marker_line_color='#409ef3', marker_line_width=2, marker_color=\"#077fed\")\n",
    "fig.update_layout(plot_bgcolor='rgba(0,0,0,0)', yaxis=dict(gridcolor='lightgrey'), height=600, width=1000)\n",
    "\n",
    "# Mostrar figura\n",
    "fig.show()"
   ]
  }
 ],
 "metadata": {
  "kernelspec": {
   "display_name": ".venv",
   "language": "python",
   "name": "python3"
  },
  "language_info": {
   "codemirror_mode": {
    "name": "ipython",
    "version": 3
   },
   "file_extension": ".py",
   "mimetype": "text/x-python",
   "name": "python",
   "nbconvert_exporter": "python",
   "pygments_lexer": "ipython3",
   "version": "3.13.1"
  }
 },
 "nbformat": 4,
 "nbformat_minor": 2
}
